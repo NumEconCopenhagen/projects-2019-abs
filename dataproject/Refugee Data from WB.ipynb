from pandas_datareader import wb 
import pandas as pd
import numpy as np

#%% [markdown]
# # Establishing Net Inflow of Refugees across countries
# ## Import data from the World Bank
#

#%%
#Downloading data on number of refugees enering the country from the World Bank database
refugeesin_wb = wb.download(indicator='SM.POP.REFG', country = 'all', start=1990, end=2017)
refugeesin_wb = refugeesin_wb.reset_index()
refugeesin_wb.loc[refugeesin_wb.country == 'Afghanistan']
refugeesin_wb = refugeesin_wb.iloc[1316:,]
refugeesin_wb = refugeesin_wb.reset_index()
refugeesin_wb = refugeesin_wb.drop('index', axis = 1)
len(refugeesin_wb.country.unique())
refugeesin_wb.country.unique()
refugeesin_wb = refugeesin_wb.rename(columns = {'country':'Country','year':'Year','SM.POP.REFG':'Number of Refugees entering Country'})
refugeesin_wb.head(3)

#%%
#Downloading data on number of refugees leaving the country from the World Bank database
refugeesout_wb = wb.download(indicator='SM.POP.REFG.OR', country = 'all', start=1990, end=2017)
refugeesout_wb = refugeesout_wb.reset_index()
refugeesout_wb
refugeesout_wb.loc[refugeesout_wb.country == 'Afghanistan']
refugeesout_wb = refugeesout_wb.iloc[1316:,]
refugeesout_wb = refugeesout_wb.reset_index()
refugeesout_wb = refugeesout_wb.drop('index', axis = 1)
len(refugeesout_wb.country.unique())
refugeesout_wb.country.unique()
refugeesout_wb = refugeesout_wb.rename(columns = {'country':'Country','year':'Year','SM.POP.REFG.OR':'Number of Refugees leaving Country'})
refugeesout_wb.head(3)

#%% [markdown]
# ## Join the two datasets

refugees_wb = pd.merge(refugeesin_wb,refugeesout_wb,how='outer',on=['Country','Year'])
refugees_wb['Net inflow'] = refugees_wb['Number of Refugees entering Country']-refugees_wb['Number of Refugees leaving Country']
refugees_wb

#%%
# Change data type of year
refugees_wb['Year'] = refugees_wb['Year'].astype(int)
refugees_wb.dtypes


#%%
import matplotlib.pyplot as plt
import matplotlib as mpl
import matplotlib.ticker as ticker

#%%
# Create country filter
country_filter = refugees_wb.Country.isin(['Canada', 'Denmark', 'Sweden'])
refugees = refugees_wb[country_filter]
print(refugees)

#%%
refugees = refugees.reset_index().set_index('Year')

#%%
fix,ax = plt.subplots()
ax = refugees.groupby('Country')['Net inflow'].plot(style='-o', legend=True);
plt.title('Number of net inflows per Country'); 

#%%
# Create country filter
country_filter2 = refugees_wb.Country.isin(['Afghanistan', 'South Sudan', 'Somalia'])
refugees2 = refugees_wb[country_filter2]
print(refugees2)

#%%
refugees2 = refugees2.reset_index().set_index('Year')

#%%
fix,ax = plt.subplots()
ax = refugees2.groupby('Country')['Net inflow'].plot(style='-o', legend=True);
plt.title('Number of net inflows per Country'); 