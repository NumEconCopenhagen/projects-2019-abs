from pandas_datareader import wb
refugees_wb = wb.download(indicator='SM.POP.REFG', start=1990, end=2017)
refugees_wb = refugees_wb.reset_index()
refugees_wb.head(3)