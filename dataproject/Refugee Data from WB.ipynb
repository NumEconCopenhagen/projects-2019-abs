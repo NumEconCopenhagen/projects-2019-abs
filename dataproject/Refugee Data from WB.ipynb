#%% [markdown]
from pandas_datareader import wb 
import pandas as pd
import numpy as np

#%%
# Download data on number of refugees enering the country from the World Bank database
refugeesin_wb = wb.download(indicator='SM.POP.REFG', country = 'all', start=1990, end=2017)
refugeesin_wb = refugeesin_wb.reset_index()

# Clean data (deleting regions, keeping countries)
refugeesin_wb.loc[refugeesin_wb.country == 'Afghanistan']
refugeesin_wb = refugeesin_wb.iloc[1316:,]
refugeesin_wb = refugeesin_wb.reset_index()
refugeesin_wb = refugeesin_wb.drop('index', axis = 1)

# Check unique countries to compare with other data set, rename columns
len(refugeesin_wb.country.unique())
refugeesin_wb = refugeesin_wb.rename(columns = {'country':'Country','year':'Year','SM.POP.REFG':'Number of Refugees entering Country'})
refugeesin_wb.head(3)

#%%
#Download data on number of refugees leaving the country from the World Bank database
refugeesout_wb = wb.download(indicator='SM.POP.REFG.OR', country = 'all', start=1990, end=2017)
refugeesout_wb = refugeesout_wb.reset_index()

# Clean data (deleting regions, keeping countries)
refugeesout_wb.loc[refugeesout_wb.country == 'Afghanistan']
refugeesout_wb = refugeesout_wb.iloc[1316:,]
refugeesout_wb = refugeesout_wb.reset_index()
refugeesout_wb = refugeesout_wb.drop('index', axis = 1)

# Check unique countries to compare with other data set, rename columns
len(refugeesout_wb.country.unique())
refugeesout_wb = refugeesout_wb.rename(columns = {'country':'Country','year':'Year','SM.POP.REFG.OR':'Number of Refugees leaving Country'})
refugeesout_wb.head(3)

#%%

# Join the two datasets
refugees_wb = pd.merge(refugeesin_wb,refugeesout_wb,how='outer',on=['Country','Year'])

# Change data type of year
refugees_wb['Year'] = refugees_wb['Year'].astype(int)
refugees_wb.dtypes

# Calculate refugee net inflow
refugees_wb['Net inflow'] = refugees_wb['Number of Refugees entering Country']-refugees_wb['Number of Refugees leaving Country']
refugees_wb

# Graph section

#%%
# Show net inflow over the years with country dropdown
import matplotlib.pyplot as plt
import matplotlib as mpl
import matplotlib.ticker as ticker
import ipywidgets as widgets

#%%
# Show net inflow over the years with country dropdown
def interactive_development(refugees_wb, Country):
    
    # a. Calculations
    I = refugees_wb['Country'] == Country
    
    # b. Plot
    ax=refugees_wb.loc[I,:].plot(x='Year', y='Net inflow', style='-o', legend='False') 
    ax.xaxis.set_major_formatter(ticker.FormatStrFormatter("%d"))
    ax.get_yaxis().get_major_formatter().set_scientific(False)
    ax.set_title("Refugee Net Inflow by Country")
    ax.set_ylabel("Net Inflow")

widgets.interact(interactive_development, 
    refugees_wb = widgets.fixed(refugees_wb),
    Country = widgets.Dropdown(description='Country', options=refugees_wb.Country.unique(), value='Afghanistan')
)

#%%
# Create data set with years 2013-2017
refugees_wb = refugees_wb[refugees_wb['Year'] > 2012]
refugees_wb

#%%
# Group by country and summarize over all years, show top 10 and bottom 10 net inflow countries
refugees_grouped = refugees_wb.drop('Year', axis=1)
refugees_grouped = refugees_grouped.groupby('Country').sum()
refugees_grouped = refugees_grouped.reset_index()

ascending_NI = refugees_grouped.sort_values('Net inflow')
ascending_NI.head(20)

descending_NI = refugees_grouped.sort_values('Net inflow', ascending=False)
descending_NI.head(20)

#%%
# Create country filter
country_filter = refugees_wb.Country.isin(['Germany', 'Denmark', 'Sweden', 'Jordan', 'Turkey'])
refugees = refugees_wb[country_filter].set_index('Year')
refugees

#%%
# Create graphic overview of net inflow in chosen countries (kan ikke få x-aksen til at være hele år)
fix,ax = plt.subplots()
ax = refugees.groupby('Country')['Net inflow'].plot(style='-o', legend='False')
#ax.xaxis.set_major_formatter(ticker.FormatStrFormatter("%d")) 
plt.title('Net inflow per Country')

# Indsæt Bellas data her

# Download labour data from OECD
import pandas_datareader.data as web
import datetime

labourstatus = web.DataReader('DIOC_LFS', 'oecd')

labourstatus.columns



# Hvad vil vi med denne del?
#%%
# Create country filter
country_filter2 = refugees_wb.Country.isin(['Afghanistan', 'South Sudan', 'Somalia', 'Turkey', 'Pakistan', 'Libanon', 'Iran'])
refugees2 = refugees_wb[country_filter2]
print(refugees2)

#%%
refugees2 = refugees2.reset_index().set_index('Year')

#%%
fix,ax = plt.subplots()
ax = refugees2.groupby('Country')['Net inflow'].plot(style='-o', legend=True)
plt.title('Number of net inflows per Country') 

# ## Import unemployment data from the World Bank
#

#%%
#Downloading data on unemployment in % of labor force from the World Bank database
unemploy_wb = wb.download(indicator='SL.UEM.TOTL.ZS', country = 'all', start=1990, end=2017)
unemploy_wb = unemploy_wb.reset_index()
unemploy_wb.loc[unemploy_wb.country == 'Afghanistan']
unemploy_wb = unemploy_wb.iloc[1316:,]
unemploy_wb = unemploy_wb.reset_index()
unemploy_wb = unemploy_wb.drop('index', axis = 1)
len(unemploy_wb.country.unique())
unemploy_wb.country.unique()
unemploy_wb = unemploy_wb.rename(columns = {'country':'Country','year':'Year','SL.UEM.TOTL.ZS':'Unemployment rate'})
unemploy_wb.head(3)

#%%
unemploy_wb.dtypes
unemploy_wb['Year'] = unemploy_wb['Year'].astype(int)

#%%
country_filter3 = unemploy_wb.Country.isin(['Canada', 'Denmark', 'Sweden', 'United Kingdom'])
unemploy = unemploy_wb[country_filter]
print(unemploy)
#%%
unemploy = unemploy.reset_index().set_index('Year')

#%%
fix,ax = plt.subplots()
ax = unemploy.groupby('Country')['Unemployment rate'].plot(style='-o', legend=True)
plt.title('Unemployment rate per Country')