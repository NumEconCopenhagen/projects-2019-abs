<<<<<<< HEAD
from pandas_datareader import wb 
=======
from pandas_datareader import wb
<<<<<<< HEAD
import numpy as np

refugeesin_wb = wb.download(indicator='SM.POP.REFG', country = 'all', start=1990, end=2017)
refugeesin_wb = refugeesin_wb.reset_index()
refugeesin_wb.loc[refugeesin_wb.country == 'Afghanistan']
refugeesin_wb = refugeesin_wb.iloc[1316:,]
refugeesin_wb = refugeesin_wb.reset_index()
refugeesin_wb = refugeesin_wb.drop('index', axis = 1)
len(refugeesin_wb.country.unique())
refugeesin_wb.country.unique()
refugeesin_wb = refugeesin_wb.rename(columns = {'country':'End Country','year':'Year','SM.POP.REFG':'Number of Refugees entering Country'})
refugeesin_wb.head(3)

refugeesout_wb = wb.download(indicator='SM.POP.REFG.OR', country = 'all', start=1990, end=2017)
refugeesout_wb = refugeesout_wb.reset_index()
refugeesout_wb
refugeesout_wb.loc[refugeesout_wb.country == 'Afghanistan']
refugeesout_wb = refugeesout_wb.iloc[1316:,]
refugeesout_wb = refugeesout_wb.reset_index()
refugeesout_wb = refugeesout_wb.drop('index', axis = 1)
len(refugeesout_wb.country.unique())
refugeesout_wb.country.unique()
refugeesout_wb = refugeesout_wb.rename(columns = {'country':'Country of Origin','year':'Year','SM.POP.REFG.OR':'Number of Refugees leaving Country'})
refugeesout_wb.head(3)

# Join datasets
refugeesout_wb.country.unique()
=======
>>>>>>> c60cd7b8a4a7ac8bab478d626691d2e21dd97de0
refugees_wb = wb.download(indicator='SM.POP.REFG', start=1990, end=2017)
refugees_wb = refugees_wb.reset_index()
refugees_wb = refugees_wb.rename(columns = {'country':'End Country','year':'Year','SM.POP.REFG':'Number of Refugees'})
refugees_wb.head(3)
>>>>>>> dffd7c2532a5eba6830e48580c1294f1d012d442
