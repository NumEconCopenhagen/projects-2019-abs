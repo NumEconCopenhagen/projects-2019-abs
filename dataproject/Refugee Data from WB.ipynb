from pandas_datareader import wb
refugees_wb = wb.download(indicator='SM.POP.REFG', start=1990, end=2017)
refugees_wb = refugees_wb.reset_index()
refugees_wb = refugees_wb.rename(columns = {'country':'End Country','year':'Year','SM.POP.REFG':'Number of Refugees'})
refugees_wb.head(3)
