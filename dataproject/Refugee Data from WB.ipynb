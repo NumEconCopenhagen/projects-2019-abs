#%%
# Import packages
import pandas as pd
import numpy as np
from pandas_datareader import wb 

#%%
# Download data on refugee population in a country from the World Bank database
refugeesin_wb = wb.download(indicator='SM.POP.REFG', country = 'all', start=1990, end=2017)
refugeesin_wb = refugeesin_wb.reset_index()

# Clean data (deleting regions, keeping countries)
refugeesin_wb.loc[refugeesin_wb.country == 'Afghanistan']
refugeesin_wb = refugeesin_wb.iloc[1316:,]
refugeesin_wb = refugeesin_wb.reset_index()
refugeesin_wb = refugeesin_wb.drop('index', axis = 1)

# Check unique countries to compare with other data set, rename columns
len(refugeesin_wb.country.unique())
refugeesin_wb = refugeesin_wb.rename(columns = {'country':'Country','year':'Year','SM.POP.REFG':'Refugee population in country'})
refugeesin_wb.head(3)

#%%
#Download data on refugee population by country of origin from the World Bank database
refugeesout_wb = wb.download(indicator='SM.POP.REFG.OR', country = 'all', start=1990, end=2017)
refugeesout_wb = refugeesout_wb.reset_index()

# Clean data (deleting regions, keeping countries)
refugeesout_wb.loc[refugeesout_wb.country == 'Afghanistan']
refugeesout_wb = refugeesout_wb.iloc[1316:,]
refugeesout_wb = refugeesout_wb.reset_index()
refugeesout_wb = refugeesout_wb.drop('index', axis = 1)

# Check unique countries to compare with other data set, rename columns
len(refugeesout_wb.country.unique())
refugeesout_wb = refugeesout_wb.rename(columns = {'country':'Country','year':'Year','SM.POP.REFG.OR':'Refugee population outside of country'})
refugeesout_wb.head(3)

#%%
# Join the datasets
refugees_wb = pd.merge(refugeesin_wb,refugeesout_wb,how='outer',on=['Country','Year'])

# Change data type of year to integer
refugees_wb['Year'] = refugees_wb['Year'].astype(int)
refugees_wb.dtypes

# Calculate refugee net population
refugees_wb['Net refugee population'] = refugees_wb['Refugee population in country']-refugees_wb['Refugee population outside of country']
refugees_wb

# VISUAL ANALYSIS

#%%
# Import packages
import matplotlib.pyplot as plt
import matplotlib as mpl
import matplotlib.ticker as ticker
import ipywidgets as widgets

#%%
# Show net inflow over the years with country dropdown menu (TÆNKER VI SKAL LAVE BAR CHART I STEDET)
def interactive_development(refugees_wb, Country):
    
    # a. Calculations
    I = refugees_wb['Country'] == Country
    
    # b. Plot
    ax=refugees_wb.loc[I,:].plot(x='Year', y='Net inflow', style='-o', legend='False') 
    ax.xaxis.set_major_formatter(ticker.FormatStrFormatter("%d"))
    ax.get_yaxis().get_major_formatter().set_scientific(False)
    ax.set_title("Net Refugee Population by Country")
    ax.set_ylabel("Net Refugee Population")

widgets.interact(interactive_development, 
    refugees_wb = widgets.fixed(refugees_wb),
    Country = widgets.Dropdown(description='Country', options=refugees_wb.Country.unique(), value='Afghanistan')
)

# Looking at different countries, wee see different patterns. 
# Looking at European countries, e.g. Germany, we see a large net refugee population in the 1990's, which is due to the breakdown of Yugoslavia, followed by a decreasing net refugee population in the 2000's and an increasing net refugee population again following the refugee crisis in 2015 and the following years.
# Looking at e.g. Bosnia and Hercegovina, we see the opposite side of this story with a very negative net refugee population in the 1990's and a net refugee population of around 0 today.
# Looking at Middle Eastern countries, e.g. Jordan, we see that over the entire period there has been a positive net refugee population, but it was not large during the 1990's. However, it has grown steadily up until 2017, especially due to the war in Syria.
# Looking at Syria gives us the opposite side of this story with a net refugee population of around 0 up until 2005 followed by a period with a small positive net refugee population and then in 2011 onwards - the war years - a significantly negative net refugee population.

# We will focus on the most recent refugee crisis following espcecially the Syrian war and will thus restrict our data set to the years 2013-2017.

#%%
# Create data set with years 2013-2017
refugees_wb = refugees_wb[refugees_wb['Year'] > 2012]
refugees_wb

#%%
# Group by country and summarize over all years
refugees_grouped = refugees_wb.drop('Year', axis=1)
refugees_grouped = refugees_grouped.groupby('Country').sum()
refugees_grouped = refugees_grouped.reset_index()

# Show bottom 10 net inflow countries
ascending_NI = refugees_grouped.sort_values('Net inflow')
ascending_NI.head(20)

# Over the past five years, Syria has had the most negative net refugee population, which is not surprising due to the civil war.
# Afghanistan comes in second which is due to the general instability in the country.

# Show top 10 of net inflow countries
descending_NI = refugees_grouped.sort_values('Net inflow', ascending=False)
descending_NI.head(20)

<<<<<<< HEAD
# We see that over the past five years, Jordan has the largest net refugee population followed by Turkey. 
# Further down the list we have some African countries like Uganda that also have a large net refugee popilation due to the the instability in especially South Sudan and DR Congo.
# Germany is the European country with the largest net refugee population.

# We now know that Jordan and Turkey had the largest net refugee population averaging over the years 2013-2017.
# Uganda is the highest ranked African country, while Germany is the highest ranked European country.

# We will continue with those four and Denmark.
=======
# We see that over the past five years, Jordan has the largest net inflow of refugees followed by Turkey. 
# Further down the list we have some African countries like Uganda that also have a large net inflow due to the the instability in especially South Sudan and DR Congo.
# Germany is the European country with the largest net inflow.
>>>>>>> 1e2f718f895780b139c278b3f5b3fecd64495b9f

#%%
# Create country filter
country_filter = refugees_wb.Country.isin(['Germany', 'Denmark', 'Sweden', 'Jordan', 'Turkey'])
refugees = refugees_wb[country_filter].set_index('Year')
refugees

#%%
# Create graphic overview of net inflow in chosen countries (kan ikke få x-aksen til at være hele år)
fix,ax = plt.subplots()
ax = refugees.groupby('Country')['Net inflow'].plot(style='-o', legend='False')
#ax.xaxis.set_major_formatter(ticker.FormatStrFormatter("%d")) 
plt.title('Net inflow per Country')

#Import data from UNCHR to see asylum seekers origin
import os 
import re
os.listdir('./dataproject/')
filename = "./dataproject/Refugees.csv"

refug = pd.read_csv("./dataproject/Refugees.csv", low_memory=False, skiprows = 3, skipinitialspace=True)
refug.head(10)

#Rename columns
refug.rename(columns = {'Country / territory of asylum/residence': 'Country', 'Value': 'Asylum Seekers'}, inplace=True)

##########Germany
country_filter = refug.Country.isin(['Germany'])
Germany=refug[country_filter]

#Remove all non-numeric values from "Value" column
Germany['Asylum Seekers'] = pd.to_numeric(refug['Asylum Seekers'], errors='coerce')
#Drop all rows with Null values 
Germany = Germany.dropna(subset=['Asylum Seekers'])

#Group data
Germany_grouped = Germany.drop(['Year','Month'], axis=1)
Germany_grouped = Germany_grouped.groupby(['Country', 'Origin', 'Asylum Seekers']).sum()
Germany_grouped = Germany.groupby(['Origin'])['Asylum Seekers'].sum()
Germany_grouped = Germany.groupby(['Origin'], as_index=False).agg({'Asylum Seekers':'sum'})

Germanytop10 = Germany_grouped.sort_values('Asylum Seekers', ascending=False)
Germanytop10.rename(columns = {'Origin':'Origin of Asylum Seekers in Germany'}, inplace=True)
 
Germanytop10.head(10)

##########Denmark
country_filter = refug.Country.isin(['Denmark'])
Denmark=refug[country_filter]

#Remove all non-numeric values from "Value" column
Denmark['Asylum Seekers'] = pd.to_numeric(refug['Asylum Seekers'], errors='coerce')
#Drop all rows with Null values 
Denmark = Denmark.dropna(subset=['Asylum Seekers'])

#Group data
Denmark_grouped = Denmark.drop(['Year','Month'], axis=1)
Denmark_grouped = Denmark_grouped.groupby(['Country', 'Origin', 'Asylum Seekers']).sum()
Denmark_grouped = Denmark.groupby(['Origin'])['Asylum Seekers'].sum()
Denmark_grouped = Denmark.groupby(['Origin'], as_index=False).agg({'Asylum Seekers':'sum'})

Denmarktop10 = Germany_grouped.sort_values('Asylum Seekers', ascending=False)
Denmarktop10.rename(columns = {'Origin':'Origin of Asylum Seekers in Denmark'}, inplace=True)

Denmarktop10.head(10)

##########Turkey
country_filter = refug.Country.isin(['Turkey'])
Turkey=refug[country_filter]


#Remove all non-numeric values from "Value" column
Turkey['Asylum Seekers'] = pd.to_numeric(refug['Asylum Seekers'], errors='coerce')
#Drop all rows with Null values 
Turkey = Turkey.dropna(subset=['Asylum Seekers'])

#Group data
Turkey_grouped = Turkey.drop(['Year','Month'], axis=1)
Turkey_grouped = Turkey_grouped.groupby(['Country', 'Origin', 'Asylum Seekers']).sum()
Turkey_grouped = Turkey.groupby(['Origin'])['Asylum Seekers'].sum()
Turkey_grouped = Turkey.groupby(['Origin'], as_index=False).agg({'Asylum Seekers':'sum'})

Turkeytop10 = Germany_grouped.sort_values('Asylum Seekers', ascending=False)
Turkeytop10.rename(columns = {'Origin':'Origin of Asylum Seekers in Turkey'}, inplace=True)

Germanytop10.head(10)
Turkeytop10.head(10)
Denmarktop10.head(10)
   

# Download labour data from OECD
import pandas_datareader.data as web
import datetime

labourstatus = web.DataReader('DIOC_LFS', 'oecd')

labourstatus.columns



# Hvad vil vi med denne del?
#%%
# Create country filter
country_filter2 = refugees_wb.Country.isin(['Afghanistan', 'South Sudan', 'Somalia', 'Turkey', 'Pakistan', 'Libanon', 'Iran'])
refugees2 = refugees_wb[country_filter2]
print(refugees2)

#%%
refugees2 = refugees2.reset_index().set_index('Year')

#%%
fix,ax = plt.subplots()
ax = refugees2.groupby('Country')['Net inflow'].plot(style='-o', legend=True)
plt.title('Number of net inflows per Country') 

# ## Import unemployment data from the World Bank
#

#%%
#Downloading data on unemployment in % of labor force from the World Bank database
unemploy_wb = wb.download(indicator='SL.UEM.TOTL.ZS', country = 'all', start=1990, end=2017)
unemploy_wb = unemploy_wb.reset_index()
unemploy_wb.loc[unemploy_wb.country == 'Afghanistan']
unemploy_wb = unemploy_wb.iloc[1316:,]
unemploy_wb = unemploy_wb.reset_index()
unemploy_wb = unemploy_wb.drop('index', axis = 1)
len(unemploy_wb.country.unique())
unemploy_wb.country.unique()
unemploy_wb = unemploy_wb.rename(columns = {'country':'Country','year':'Year','SL.UEM.TOTL.ZS':'Unemployment rate'})
unemploy_wb.head(3)

#%%
unemploy_wb.dtypes
unemploy_wb['Year'] = unemploy_wb['Year'].astype(int)

#%%
country_filter3 = unemploy_wb.Country.isin(['Canada', 'Denmark', 'Sweden', 'United Kingdom'])
unemploy = unemploy_wb[country_filter]
print(unemploy)
#%%
unemploy = unemploy.reset_index().set_index('Year')

#%%
fix,ax = plt.subplots()
ax = unemploy.groupby('Country')['Unemployment rate'].plot(style='-o', legend=True)
plt.title('Unemployment rate per Country')











