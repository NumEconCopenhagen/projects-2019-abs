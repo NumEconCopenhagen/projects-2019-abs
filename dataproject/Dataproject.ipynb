{
 "cells": [
  {
   "cell_type": "markdown",
   "metadata": {},
   "source": [
    "**Data Project: Refugees and Unemployment**"
   ]
  },
  {
   "cell_type": "code",
   "execution_count": 1,
   "metadata": {},
   "outputs": [],
   "source": [
    "# Import libraries\n",
    "import pandas as pd\n",
    "import numpy as np\n",
    "from pandas_datareader import wb "
   ]
  },
  {
   "cell_type": "code",
   "execution_count": 128,
   "metadata": {},
   "outputs": [
    {
     "data": {
      "text/html": [
       "<div>\n",
       "<style scoped>\n",
       "    .dataframe tbody tr th:only-of-type {\n",
       "        vertical-align: middle;\n",
       "    }\n",
       "\n",
       "    .dataframe tbody tr th {\n",
       "        vertical-align: top;\n",
       "    }\n",
       "\n",
       "    .dataframe thead th {\n",
       "        text-align: right;\n",
       "    }\n",
       "</style>\n",
       "<table border=\"1\" class=\"dataframe\">\n",
       "  <thead>\n",
       "    <tr style=\"text-align: right;\">\n",
       "      <th></th>\n",
       "      <th>country</th>\n",
       "      <th>year</th>\n",
       "      <th>SM.POP.REFG</th>\n",
       "    </tr>\n",
       "  </thead>\n",
       "  <tbody>\n",
       "    <tr>\n",
       "      <th>0</th>\n",
       "      <td>Arab World</td>\n",
       "      <td>2017</td>\n",
       "      <td>9056647.0</td>\n",
       "    </tr>\n",
       "    <tr>\n",
       "      <th>1</th>\n",
       "      <td>Arab World</td>\n",
       "      <td>2016</td>\n",
       "      <td>8440191.0</td>\n",
       "    </tr>\n",
       "    <tr>\n",
       "      <th>2</th>\n",
       "      <td>Arab World</td>\n",
       "      <td>2015</td>\n",
       "      <td>8304742.0</td>\n",
       "    </tr>\n",
       "  </tbody>\n",
       "</table>\n",
       "</div>"
      ],
      "text/plain": [
       "      country  year  SM.POP.REFG\n",
       "0  Arab World  2017    9056647.0\n",
       "1  Arab World  2016    8440191.0\n",
       "2  Arab World  2015    8304742.0"
      ]
     },
     "execution_count": 128,
     "metadata": {},
     "output_type": "execute_result"
    }
   ],
   "source": [
    "# Download data on refugee population in a country from the World Bank database\n",
    "refugeesin_wb = wb.download(indicator='SM.POP.REFG', country = 'all', start=1990, end=2017)\n",
    "refugeesin_wb = refugeesin_wb.reset_index()\n",
    "refugeesin_wb.head(3)"
   ]
  },
  {
   "cell_type": "code",
   "execution_count": 129,
   "metadata": {},
   "outputs": [
    {
     "data": {
      "text/html": [
       "<div>\n",
       "<style scoped>\n",
       "    .dataframe tbody tr th:only-of-type {\n",
       "        vertical-align: middle;\n",
       "    }\n",
       "\n",
       "    .dataframe tbody tr th {\n",
       "        vertical-align: top;\n",
       "    }\n",
       "\n",
       "    .dataframe thead th {\n",
       "        text-align: right;\n",
       "    }\n",
       "</style>\n",
       "<table border=\"1\" class=\"dataframe\">\n",
       "  <thead>\n",
       "    <tr style=\"text-align: right;\">\n",
       "      <th></th>\n",
       "      <th>country</th>\n",
       "      <th>year</th>\n",
       "      <th>SM.POP.REFG</th>\n",
       "    </tr>\n",
       "  </thead>\n",
       "  <tbody>\n",
       "    <tr>\n",
       "      <th>0</th>\n",
       "      <td>Afghanistan</td>\n",
       "      <td>2017</td>\n",
       "      <td>75927.0</td>\n",
       "    </tr>\n",
       "    <tr>\n",
       "      <th>1</th>\n",
       "      <td>Afghanistan</td>\n",
       "      <td>2016</td>\n",
       "      <td>59771.0</td>\n",
       "    </tr>\n",
       "    <tr>\n",
       "      <th>2</th>\n",
       "      <td>Afghanistan</td>\n",
       "      <td>2015</td>\n",
       "      <td>257554.0</td>\n",
       "    </tr>\n",
       "  </tbody>\n",
       "</table>\n",
       "</div>"
      ],
      "text/plain": [
       "       country  year  SM.POP.REFG\n",
       "0  Afghanistan  2017      75927.0\n",
       "1  Afghanistan  2016      59771.0\n",
       "2  Afghanistan  2015     257554.0"
      ]
     },
     "execution_count": 129,
     "metadata": {},
     "output_type": "execute_result"
    }
   ],
   "source": [
    "# Clean data (deleting regions, keeping countries)\n",
    "refugeesin_wb.loc[refugeesin_wb.country == 'Afghanistan']\n",
    "refugeesin_wb = refugeesin_wb.iloc[1316:,]\n",
    "refugeesin_wb = refugeesin_wb.reset_index()\n",
    "refugeesin_wb = refugeesin_wb.drop('index', axis = 1)\n",
    "refugeesin_wb.head(3)"
   ]
  },
  {
   "cell_type": "code",
   "execution_count": 130,
   "metadata": {},
   "outputs": [
    {
     "data": {
      "text/plain": [
       "217"
      ]
     },
     "execution_count": 130,
     "metadata": {},
     "output_type": "execute_result"
    }
   ],
   "source": [
    "# Check unique countries to compare with other data set, rename columns\n",
    "len(refugeesin_wb.country.unique())"
   ]
  },
  {
   "cell_type": "code",
   "execution_count": 131,
   "metadata": {},
   "outputs": [
    {
     "data": {
      "text/html": [
       "<div>\n",
       "<style scoped>\n",
       "    .dataframe tbody tr th:only-of-type {\n",
       "        vertical-align: middle;\n",
       "    }\n",
       "\n",
       "    .dataframe tbody tr th {\n",
       "        vertical-align: top;\n",
       "    }\n",
       "\n",
       "    .dataframe thead th {\n",
       "        text-align: right;\n",
       "    }\n",
       "</style>\n",
       "<table border=\"1\" class=\"dataframe\">\n",
       "  <thead>\n",
       "    <tr style=\"text-align: right;\">\n",
       "      <th></th>\n",
       "      <th>Country</th>\n",
       "      <th>Year</th>\n",
       "      <th>Refugee population in country</th>\n",
       "    </tr>\n",
       "  </thead>\n",
       "  <tbody>\n",
       "    <tr>\n",
       "      <th>0</th>\n",
       "      <td>Afghanistan</td>\n",
       "      <td>2017</td>\n",
       "      <td>75927.0</td>\n",
       "    </tr>\n",
       "    <tr>\n",
       "      <th>1</th>\n",
       "      <td>Afghanistan</td>\n",
       "      <td>2016</td>\n",
       "      <td>59771.0</td>\n",
       "    </tr>\n",
       "    <tr>\n",
       "      <th>2</th>\n",
       "      <td>Afghanistan</td>\n",
       "      <td>2015</td>\n",
       "      <td>257554.0</td>\n",
       "    </tr>\n",
       "  </tbody>\n",
       "</table>\n",
       "</div>"
      ],
      "text/plain": [
       "       Country  Year  Refugee population in country\n",
       "0  Afghanistan  2017                        75927.0\n",
       "1  Afghanistan  2016                        59771.0\n",
       "2  Afghanistan  2015                       257554.0"
      ]
     },
     "execution_count": 131,
     "metadata": {},
     "output_type": "execute_result"
    }
   ],
   "source": [
    "# Rename columns, check final data set\n",
    "refugeesin_wb = refugeesin_wb.rename(columns = {'country':'Country','year':'Year','SM.POP.REFG':'Refugee population in country'})\n",
    "refugeesin_wb.head(3)"
   ]
  },
  {
   "cell_type": "code",
   "execution_count": 132,
   "metadata": {},
   "outputs": [],
   "source": [
    "# Download data on refugee population by country of origin from the World Bank database\n",
    "refugeesout_wb = wb.download(indicator='SM.POP.REFG.OR', country = 'all', start=1990, end=2017)\n",
    "refugeesout_wb = refugeesout_wb.reset_index()"
   ]
  },
  {
   "cell_type": "code",
   "execution_count": 133,
   "metadata": {},
   "outputs": [],
   "source": [
    "# Clean data (deleting regions, keeping countries)\n",
    "refugeesout_wb.loc[refugeesout_wb.country == 'Afghanistan']\n",
    "refugeesout_wb = refugeesout_wb.iloc[1316:,]\n",
    "refugeesout_wb = refugeesout_wb.reset_index()\n",
    "refugeesout_wb = refugeesout_wb.drop('index', axis = 1)"
   ]
  },
  {
   "cell_type": "code",
   "execution_count": 134,
   "metadata": {},
   "outputs": [
    {
     "data": {
      "text/plain": [
       "217"
      ]
     },
     "execution_count": 134,
     "metadata": {},
     "output_type": "execute_result"
    }
   ],
   "source": [
    "# Check unique countries to compare with other data set, rename columns\n",
    "len(refugeesout_wb.country.unique())"
   ]
  },
  {
   "cell_type": "code",
   "execution_count": 135,
   "metadata": {},
   "outputs": [
    {
     "data": {
      "text/html": [
       "<div>\n",
       "<style scoped>\n",
       "    .dataframe tbody tr th:only-of-type {\n",
       "        vertical-align: middle;\n",
       "    }\n",
       "\n",
       "    .dataframe tbody tr th {\n",
       "        vertical-align: top;\n",
       "    }\n",
       "\n",
       "    .dataframe thead th {\n",
       "        text-align: right;\n",
       "    }\n",
       "</style>\n",
       "<table border=\"1\" class=\"dataframe\">\n",
       "  <thead>\n",
       "    <tr style=\"text-align: right;\">\n",
       "      <th></th>\n",
       "      <th>Country</th>\n",
       "      <th>Year</th>\n",
       "      <th>Refugee population outside of country</th>\n",
       "    </tr>\n",
       "  </thead>\n",
       "  <tbody>\n",
       "    <tr>\n",
       "      <th>0</th>\n",
       "      <td>Afghanistan</td>\n",
       "      <td>2017</td>\n",
       "      <td>2624225.0</td>\n",
       "    </tr>\n",
       "    <tr>\n",
       "      <th>1</th>\n",
       "      <td>Afghanistan</td>\n",
       "      <td>2016</td>\n",
       "      <td>2501445.0</td>\n",
       "    </tr>\n",
       "    <tr>\n",
       "      <th>2</th>\n",
       "      <td>Afghanistan</td>\n",
       "      <td>2015</td>\n",
       "      <td>2666305.0</td>\n",
       "    </tr>\n",
       "  </tbody>\n",
       "</table>\n",
       "</div>"
      ],
      "text/plain": [
       "       Country  Year  Refugee population outside of country\n",
       "0  Afghanistan  2017                              2624225.0\n",
       "1  Afghanistan  2016                              2501445.0\n",
       "2  Afghanistan  2015                              2666305.0"
      ]
     },
     "execution_count": 135,
     "metadata": {},
     "output_type": "execute_result"
    }
   ],
   "source": [
    "# Rename columns, check final data set\n",
    "refugeesout_wb = refugeesout_wb.rename(columns = {'country':'Country','year':'Year','SM.POP.REFG.OR':'Refugee population outside of country'})\n",
    "refugeesout_wb.head(3)"
   ]
  },
  {
   "cell_type": "code",
   "execution_count": 136,
   "metadata": {},
   "outputs": [
    {
     "data": {
      "text/html": [
       "<div>\n",
       "<style scoped>\n",
       "    .dataframe tbody tr th:only-of-type {\n",
       "        vertical-align: middle;\n",
       "    }\n",
       "\n",
       "    .dataframe tbody tr th {\n",
       "        vertical-align: top;\n",
       "    }\n",
       "\n",
       "    .dataframe thead th {\n",
       "        text-align: right;\n",
       "    }\n",
       "</style>\n",
       "<table border=\"1\" class=\"dataframe\">\n",
       "  <thead>\n",
       "    <tr style=\"text-align: right;\">\n",
       "      <th></th>\n",
       "      <th>Country</th>\n",
       "      <th>Year</th>\n",
       "      <th>Refugee population in country</th>\n",
       "      <th>Refugee population outside of country</th>\n",
       "    </tr>\n",
       "  </thead>\n",
       "  <tbody>\n",
       "    <tr>\n",
       "      <th>0</th>\n",
       "      <td>Afghanistan</td>\n",
       "      <td>2017</td>\n",
       "      <td>75927.0</td>\n",
       "      <td>2624225.0</td>\n",
       "    </tr>\n",
       "    <tr>\n",
       "      <th>1</th>\n",
       "      <td>Afghanistan</td>\n",
       "      <td>2016</td>\n",
       "      <td>59771.0</td>\n",
       "      <td>2501445.0</td>\n",
       "    </tr>\n",
       "    <tr>\n",
       "      <th>2</th>\n",
       "      <td>Afghanistan</td>\n",
       "      <td>2015</td>\n",
       "      <td>257554.0</td>\n",
       "      <td>2666305.0</td>\n",
       "    </tr>\n",
       "  </tbody>\n",
       "</table>\n",
       "</div>"
      ],
      "text/plain": [
       "       Country  Year  Refugee population in country  \\\n",
       "0  Afghanistan  2017                        75927.0   \n",
       "1  Afghanistan  2016                        59771.0   \n",
       "2  Afghanistan  2015                       257554.0   \n",
       "\n",
       "   Refugee population outside of country  \n",
       "0                              2624225.0  \n",
       "1                              2501445.0  \n",
       "2                              2666305.0  "
      ]
     },
     "execution_count": 136,
     "metadata": {},
     "output_type": "execute_result"
    }
   ],
   "source": [
    "# Join the datasets\n",
    "refugees_wb = pd.merge(refugeesin_wb,refugeesout_wb,how='outer',on=['Country','Year'])\n",
    "refugees_wb.head(3)"
   ]
  },
  {
   "cell_type": "code",
   "execution_count": 137,
   "metadata": {},
   "outputs": [
    {
     "data": {
      "text/plain": [
       "Country                                   object\n",
       "Year                                       int64\n",
       "Refugee population in country            float64\n",
       "Refugee population outside of country    float64\n",
       "dtype: object"
      ]
     },
     "execution_count": 137,
     "metadata": {},
     "output_type": "execute_result"
    }
   ],
   "source": [
    "# Change data type of 'Year' to integer\n",
    "refugees_wb['Year'] = refugees_wb['Year'].astype(int)\n",
    "refugees_wb.dtypes"
   ]
  },
  {
   "cell_type": "code",
   "execution_count": 138,
   "metadata": {},
   "outputs": [
    {
     "data": {
      "text/html": [
       "<div>\n",
       "<style scoped>\n",
       "    .dataframe tbody tr th:only-of-type {\n",
       "        vertical-align: middle;\n",
       "    }\n",
       "\n",
       "    .dataframe tbody tr th {\n",
       "        vertical-align: top;\n",
       "    }\n",
       "\n",
       "    .dataframe thead th {\n",
       "        text-align: right;\n",
       "    }\n",
       "</style>\n",
       "<table border=\"1\" class=\"dataframe\">\n",
       "  <thead>\n",
       "    <tr style=\"text-align: right;\">\n",
       "      <th></th>\n",
       "      <th>Country</th>\n",
       "      <th>Year</th>\n",
       "      <th>Refugee population in country</th>\n",
       "      <th>Refugee population outside of country</th>\n",
       "      <th>Net refugee population</th>\n",
       "    </tr>\n",
       "  </thead>\n",
       "  <tbody>\n",
       "    <tr>\n",
       "      <th>0</th>\n",
       "      <td>Afghanistan</td>\n",
       "      <td>2017</td>\n",
       "      <td>75927.0</td>\n",
       "      <td>2624225.0</td>\n",
       "      <td>-2548298.0</td>\n",
       "    </tr>\n",
       "    <tr>\n",
       "      <th>1</th>\n",
       "      <td>Afghanistan</td>\n",
       "      <td>2016</td>\n",
       "      <td>59771.0</td>\n",
       "      <td>2501445.0</td>\n",
       "      <td>-2441674.0</td>\n",
       "    </tr>\n",
       "    <tr>\n",
       "      <th>2</th>\n",
       "      <td>Afghanistan</td>\n",
       "      <td>2015</td>\n",
       "      <td>257554.0</td>\n",
       "      <td>2666305.0</td>\n",
       "      <td>-2408751.0</td>\n",
       "    </tr>\n",
       "  </tbody>\n",
       "</table>\n",
       "</div>"
      ],
      "text/plain": [
       "       Country  Year  Refugee population in country  \\\n",
       "0  Afghanistan  2017                        75927.0   \n",
       "1  Afghanistan  2016                        59771.0   \n",
       "2  Afghanistan  2015                       257554.0   \n",
       "\n",
       "   Refugee population outside of country  Net refugee population  \n",
       "0                              2624225.0              -2548298.0  \n",
       "1                              2501445.0              -2441674.0  \n",
       "2                              2666305.0              -2408751.0  "
      ]
     },
     "execution_count": 138,
     "metadata": {},
     "output_type": "execute_result"
    }
   ],
   "source": [
    "# Calculate net refugee population\n",
    "refugees_wb['Net refugee population'] = refugees_wb['Refugee population in country']-refugees_wb['Refugee population outside of country']\n",
    "refugees_wb.head(3)"
   ]
  },
  {
   "cell_type": "markdown",
   "metadata": {},
   "source": [
    "**Visual Analysis**"
   ]
  },
  {
   "cell_type": "code",
   "execution_count": 139,
   "metadata": {},
   "outputs": [],
   "source": [
    "# Import libraries\n",
    "import matplotlib.pyplot as plt\n",
    "import matplotlib as mpl\n",
    "import matplotlib.ticker as ticker\n",
    "import ipywidgets as widgets"
   ]
  },
  {
   "cell_type": "code",
   "execution_count": 140,
   "metadata": {},
   "outputs": [
    {
     "data": {
      "application/vnd.jupyter.widget-view+json": {
       "model_id": "da1fb71da41f47ae82748a1a5bd5dbce",
       "version_major": 2,
       "version_minor": 0
      },
      "text/plain": [
       "interactive(children=(Dropdown(description='Country', options=('Afghanistan', 'Albania', 'Algeria', 'American …"
      ]
     },
     "metadata": {},
     "output_type": "display_data"
    },
    {
     "data": {
      "text/plain": [
       "<function __main__.interactive_development(refugees_wb, Country)>"
      ]
     },
     "execution_count": 140,
     "metadata": {},
     "output_type": "execute_result"
    }
   ],
   "source": [
    "# Show net refugee population over the years with country dropdown menu\n",
    "def interactive_development(refugees_wb, Country):\n",
    "    \n",
    "    # a. Calculations\n",
    "    I = refugees_wb['Country'] == Country\n",
    "    \n",
    "    # b. Plot\n",
    "    ax=refugees_wb.loc[I,:].plot.bar(x='Year', y='Net refugee population', style='-o', legend=None, color=(0.2, 0.4, 0.6, 0.6)) \n",
    "    ax.get_yaxis().get_major_formatter().set_scientific(False)\n",
    "    plt.gca().invert_xaxis()\n",
    "    ax.set_title(\"Net Refugee Population by Country\")\n",
    "    ax.set_ylabel(\"Net Refugee Population\")\n",
    "\n",
    "# Make it interactive\n",
    "widgets.interact(interactive_development, \n",
    "    refugees_wb = widgets.fixed(refugees_wb),\n",
    "    Country = widgets.Dropdown(description='Country', options=refugees_wb.Country.unique(), value='Afghanistan')\n",
    ")"
   ]
  },
  {
   "cell_type": "markdown",
   "metadata": {},
   "source": [
    "Looking at different countries, we see different patterns. Looking at **European countries**, e.g. **Germany**, we see a large net refugee population in the 1990's, probably due to the breakdown of Yugoslavia, followed by a decreasing net refugee population in the 2000's when the situation stabilized in that area, and then an increasing net refugee population again following the war in Syria and especially after the refugee crisis in 2015. Looking at e.g. **Bosnia and Hercegovina**, we see the opposite side of this story with a very negative net refugee population in the 1990's and a net refugee population of around 0 today. Looking at **Middle Eastern countries**, e.g. **Jordan**, we see that over the entire period there has been a positive net refugee population, but it was not large during the 1990's. However, it has grown steadily up until 2017, especially due to the war in Syria. Looking at **Syria** gives us the opposite side of this story with a net refugee population of around 0 up until 2005 followed by a period with a small positive net refugee population and then in 2011 onwards - the war years - a significantly negative net refugee population.\n",
    "\n",
    "**We will focus on the most recent refugee crisis following espcecially the Syrian war and will thus restrict our data set to the years 2013-2017.**"
   ]
  },
  {
   "cell_type": "code",
   "execution_count": 141,
   "metadata": {},
   "outputs": [
    {
     "data": {
      "text/html": [
       "<div>\n",
       "<style scoped>\n",
       "    .dataframe tbody tr th:only-of-type {\n",
       "        vertical-align: middle;\n",
       "    }\n",
       "\n",
       "    .dataframe tbody tr th {\n",
       "        vertical-align: top;\n",
       "    }\n",
       "\n",
       "    .dataframe thead th {\n",
       "        text-align: right;\n",
       "    }\n",
       "</style>\n",
       "<table border=\"1\" class=\"dataframe\">\n",
       "  <thead>\n",
       "    <tr style=\"text-align: right;\">\n",
       "      <th></th>\n",
       "      <th>Country</th>\n",
       "      <th>Year</th>\n",
       "      <th>Refugee population in country</th>\n",
       "      <th>Refugee population outside of country</th>\n",
       "      <th>Net refugee population</th>\n",
       "    </tr>\n",
       "  </thead>\n",
       "  <tbody>\n",
       "    <tr>\n",
       "      <th>0</th>\n",
       "      <td>Afghanistan</td>\n",
       "      <td>2017</td>\n",
       "      <td>75927.0</td>\n",
       "      <td>2624225.0</td>\n",
       "      <td>-2548298.0</td>\n",
       "    </tr>\n",
       "    <tr>\n",
       "      <th>1</th>\n",
       "      <td>Afghanistan</td>\n",
       "      <td>2016</td>\n",
       "      <td>59771.0</td>\n",
       "      <td>2501445.0</td>\n",
       "      <td>-2441674.0</td>\n",
       "    </tr>\n",
       "    <tr>\n",
       "      <th>2</th>\n",
       "      <td>Afghanistan</td>\n",
       "      <td>2015</td>\n",
       "      <td>257554.0</td>\n",
       "      <td>2666305.0</td>\n",
       "      <td>-2408751.0</td>\n",
       "    </tr>\n",
       "    <tr>\n",
       "      <th>3</th>\n",
       "      <td>Afghanistan</td>\n",
       "      <td>2014</td>\n",
       "      <td>300423.0</td>\n",
       "      <td>2596270.0</td>\n",
       "      <td>-2295847.0</td>\n",
       "    </tr>\n",
       "    <tr>\n",
       "      <th>4</th>\n",
       "      <td>Afghanistan</td>\n",
       "      <td>2013</td>\n",
       "      <td>16863.0</td>\n",
       "      <td>2556502.0</td>\n",
       "      <td>-2539639.0</td>\n",
       "    </tr>\n",
       "    <tr>\n",
       "      <th>28</th>\n",
       "      <td>Albania</td>\n",
       "      <td>2017</td>\n",
       "      <td>89.0</td>\n",
       "      <td>12163.0</td>\n",
       "      <td>-12074.0</td>\n",
       "    </tr>\n",
       "    <tr>\n",
       "      <th>29</th>\n",
       "      <td>Albania</td>\n",
       "      <td>2016</td>\n",
       "      <td>138.0</td>\n",
       "      <td>11065.0</td>\n",
       "      <td>-10927.0</td>\n",
       "    </tr>\n",
       "    <tr>\n",
       "      <th>30</th>\n",
       "      <td>Albania</td>\n",
       "      <td>2015</td>\n",
       "      <td>104.0</td>\n",
       "      <td>10408.0</td>\n",
       "      <td>-10304.0</td>\n",
       "    </tr>\n",
       "    <tr>\n",
       "      <th>31</th>\n",
       "      <td>Albania</td>\n",
       "      <td>2014</td>\n",
       "      <td>104.0</td>\n",
       "      <td>10158.0</td>\n",
       "      <td>-10054.0</td>\n",
       "    </tr>\n",
       "    <tr>\n",
       "      <th>32</th>\n",
       "      <td>Albania</td>\n",
       "      <td>2013</td>\n",
       "      <td>93.0</td>\n",
       "      <td>10103.0</td>\n",
       "      <td>-10010.0</td>\n",
       "    </tr>\n",
       "  </tbody>\n",
       "</table>\n",
       "</div>"
      ],
      "text/plain": [
       "        Country  Year  Refugee population in country  \\\n",
       "0   Afghanistan  2017                        75927.0   \n",
       "1   Afghanistan  2016                        59771.0   \n",
       "2   Afghanistan  2015                       257554.0   \n",
       "3   Afghanistan  2014                       300423.0   \n",
       "4   Afghanistan  2013                        16863.0   \n",
       "28      Albania  2017                           89.0   \n",
       "29      Albania  2016                          138.0   \n",
       "30      Albania  2015                          104.0   \n",
       "31      Albania  2014                          104.0   \n",
       "32      Albania  2013                           93.0   \n",
       "\n",
       "    Refugee population outside of country  Net refugee population  \n",
       "0                               2624225.0              -2548298.0  \n",
       "1                               2501445.0              -2441674.0  \n",
       "2                               2666305.0              -2408751.0  \n",
       "3                               2596270.0              -2295847.0  \n",
       "4                               2556502.0              -2539639.0  \n",
       "28                                12163.0                -12074.0  \n",
       "29                                11065.0                -10927.0  \n",
       "30                                10408.0                -10304.0  \n",
       "31                                10158.0                -10054.0  \n",
       "32                                10103.0                -10010.0  "
      ]
     },
     "execution_count": 141,
     "metadata": {},
     "output_type": "execute_result"
    }
   ],
   "source": [
    "# Restrict data set to years 2013-2017\n",
    "refugees_wb = refugees_wb[refugees_wb['Year'] > 2012]\n",
    "refugees_wb.head(10)"
   ]
  },
  {
   "cell_type": "code",
   "execution_count": 19,
   "metadata": {},
   "outputs": [
    {
     "data": {
      "text/html": [
       "<div>\n",
       "<style scoped>\n",
       "    .dataframe tbody tr th:only-of-type {\n",
       "        vertical-align: middle;\n",
       "    }\n",
       "\n",
       "    .dataframe tbody tr th {\n",
       "        vertical-align: top;\n",
       "    }\n",
       "\n",
       "    .dataframe thead th {\n",
       "        text-align: right;\n",
       "    }\n",
       "</style>\n",
       "<table border=\"1\" class=\"dataframe\">\n",
       "  <thead>\n",
       "    <tr style=\"text-align: right;\">\n",
       "      <th></th>\n",
       "      <th>Country</th>\n",
       "      <th>Refugee population in country</th>\n",
       "      <th>Refugee population outside of country</th>\n",
       "      <th>Net refugee population</th>\n",
       "    </tr>\n",
       "  </thead>\n",
       "  <tbody>\n",
       "    <tr>\n",
       "      <th>0</th>\n",
       "      <td>Afghanistan</td>\n",
       "      <td>NaN</td>\n",
       "      <td>2588949.4</td>\n",
       "      <td>NaN</td>\n",
       "    </tr>\n",
       "    <tr>\n",
       "      <th>1</th>\n",
       "      <td>Albania</td>\n",
       "      <td>NaN</td>\n",
       "      <td>10779.4</td>\n",
       "      <td>NaN</td>\n",
       "    </tr>\n",
       "    <tr>\n",
       "      <th>2</th>\n",
       "      <td>Algeria</td>\n",
       "      <td>NaN</td>\n",
       "      <td>3678.2</td>\n",
       "      <td>NaN</td>\n",
       "    </tr>\n",
       "  </tbody>\n",
       "</table>\n",
       "</div>"
      ],
      "text/plain": [
       "       Country  Refugee population in country  \\\n",
       "0  Afghanistan                            NaN   \n",
       "1      Albania                            NaN   \n",
       "2      Algeria                            NaN   \n",
       "\n",
       "   Refugee population outside of country  Net refugee population  \n",
       "0                              2588949.4                     NaN  \n",
       "1                                10779.4                     NaN  \n",
       "2                                 3678.2                     NaN  "
      ]
     },
     "execution_count": 19,
     "metadata": {},
     "output_type": "execute_result"
    }
   ],
   "source": [
    "# Group by country and summarize over all years\n",
    "refugees_grouped = refugees_wb.drop('Year', axis=1)\n",
    "refugees_grouped = refugees_grouped.groupby('Country').mean()\n",
    "refugees_grouped = refugees_grouped.reset_index()\n",
    "refugees_grouped.head(3)"
   ]
  },
  {
   "cell_type": "code",
   "execution_count": 20,
   "metadata": {},
   "outputs": [
    {
     "data": {
      "text/html": [
       "<div>\n",
       "<style scoped>\n",
       "    .dataframe tbody tr th:only-of-type {\n",
       "        vertical-align: middle;\n",
       "    }\n",
       "\n",
       "    .dataframe tbody tr th {\n",
       "        vertical-align: top;\n",
       "    }\n",
       "\n",
       "    .dataframe thead th {\n",
       "        text-align: right;\n",
       "    }\n",
       "</style>\n",
       "<table border=\"1\" class=\"dataframe\">\n",
       "  <thead>\n",
       "    <tr style=\"text-align: right;\">\n",
       "      <th></th>\n",
       "      <th>Country</th>\n",
       "      <th>Refugee population in country</th>\n",
       "      <th>Refugee population outside of country</th>\n",
       "      <th>Net refugee population</th>\n",
       "    </tr>\n",
       "  </thead>\n",
       "  <tbody>\n",
       "    <tr>\n",
       "      <th>189</th>\n",
       "      <td>Syrian Arab Republic</td>\n",
       "      <td>611602.6</td>\n",
       "      <td>4612412.4</td>\n",
       "      <td>-4000809.8</td>\n",
       "    </tr>\n",
       "    <tr>\n",
       "      <th>176</th>\n",
       "      <td>Somalia</td>\n",
       "      <td>7872.8</td>\n",
       "      <td>1070007.8</td>\n",
       "      <td>-1062135.0</td>\n",
       "    </tr>\n",
       "    <tr>\n",
       "      <th>178</th>\n",
       "      <td>South Sudan</td>\n",
       "      <td>257343.0</td>\n",
       "      <td>1077197.2</td>\n",
       "      <td>-819854.2</td>\n",
       "    </tr>\n",
       "    <tr>\n",
       "      <th>61</th>\n",
       "      <td>Eritrea</td>\n",
       "      <td>2669.4</td>\n",
       "      <td>404875.2</td>\n",
       "      <td>-402205.8</td>\n",
       "    </tr>\n",
       "    <tr>\n",
       "      <th>185</th>\n",
       "      <td>Sudan</td>\n",
       "      <td>415076.0</td>\n",
       "      <td>657428.4</td>\n",
       "      <td>-242352.4</td>\n",
       "    </tr>\n",
       "    <tr>\n",
       "      <th>203</th>\n",
       "      <td>Ukraine</td>\n",
       "      <td>3194.6</td>\n",
       "      <td>188568.4</td>\n",
       "      <td>-185373.8</td>\n",
       "    </tr>\n",
       "    <tr>\n",
       "      <th>144</th>\n",
       "      <td>Nigeria</td>\n",
       "      <td>1519.0</td>\n",
       "      <td>151673.0</td>\n",
       "      <td>-150154.0</td>\n",
       "    </tr>\n",
       "    <tr>\n",
       "      <th>122</th>\n",
       "      <td>Mali</td>\n",
       "      <td>15995.2</td>\n",
       "      <td>150604.2</td>\n",
       "      <td>-134609.0</td>\n",
       "    </tr>\n",
       "    <tr>\n",
       "      <th>180</th>\n",
       "      <td>Sri Lanka</td>\n",
       "      <td>572.8</td>\n",
       "      <td>119925.6</td>\n",
       "      <td>-119352.8</td>\n",
       "    </tr>\n",
       "    <tr>\n",
       "      <th>92</th>\n",
       "      <td>Iraq</td>\n",
       "      <td>266938.6</td>\n",
       "      <td>342810.0</td>\n",
       "      <td>-75871.4</td>\n",
       "    </tr>\n",
       "  </tbody>\n",
       "</table>\n",
       "</div>"
      ],
      "text/plain": [
       "                  Country  Refugee population in country  \\\n",
       "189  Syrian Arab Republic                       611602.6   \n",
       "176               Somalia                         7872.8   \n",
       "178           South Sudan                       257343.0   \n",
       "61                Eritrea                         2669.4   \n",
       "185                 Sudan                       415076.0   \n",
       "203               Ukraine                         3194.6   \n",
       "144               Nigeria                         1519.0   \n",
       "122                  Mali                        15995.2   \n",
       "180             Sri Lanka                          572.8   \n",
       "92                   Iraq                       266938.6   \n",
       "\n",
       "     Refugee population outside of country  Net refugee population  \n",
       "189                              4612412.4              -4000809.8  \n",
       "176                              1070007.8              -1062135.0  \n",
       "178                              1077197.2               -819854.2  \n",
       "61                                404875.2               -402205.8  \n",
       "185                               657428.4               -242352.4  \n",
       "203                               188568.4               -185373.8  \n",
       "144                               151673.0               -150154.0  \n",
       "122                               150604.2               -134609.0  \n",
       "180                               119925.6               -119352.8  \n",
       "92                                342810.0                -75871.4  "
      ]
     },
     "execution_count": 20,
     "metadata": {},
     "output_type": "execute_result"
    }
   ],
   "source": [
    "# Show bottom 10 net refugee population countries\n",
    "ascending_NRP = refugees_grouped.sort_values('Net refugee population')\n",
    "ascending_NRP.head(10)"
   ]
  },
  {
   "cell_type": "markdown",
   "metadata": {},
   "source": [
    "Over the past five years, **Syria** has had the most negative net refugee population, which is not surprising due to the civil war. **Afghanistan** comes in second which is probably due to the general instability in the country over many years."
   ]
  },
  {
   "cell_type": "code",
   "execution_count": 21,
   "metadata": {},
   "outputs": [
    {
     "data": {
      "text/html": [
       "<div>\n",
       "<style scoped>\n",
       "    .dataframe tbody tr th:only-of-type {\n",
       "        vertical-align: middle;\n",
       "    }\n",
       "\n",
       "    .dataframe tbody tr th {\n",
       "        vertical-align: top;\n",
       "    }\n",
       "\n",
       "    .dataframe thead th {\n",
       "        text-align: right;\n",
       "    }\n",
       "</style>\n",
       "<table border=\"1\" class=\"dataframe\">\n",
       "  <thead>\n",
       "    <tr style=\"text-align: right;\">\n",
       "      <th></th>\n",
       "      <th>Country</th>\n",
       "      <th>Refugee population in country</th>\n",
       "      <th>Refugee population outside of country</th>\n",
       "      <th>Net refugee population</th>\n",
       "    </tr>\n",
       "  </thead>\n",
       "  <tbody>\n",
       "    <tr>\n",
       "      <th>99</th>\n",
       "      <td>Jordan</td>\n",
       "      <td>2809918.2</td>\n",
       "      <td>1844.6</td>\n",
       "      <td>2808073.6</td>\n",
       "    </tr>\n",
       "    <tr>\n",
       "      <th>198</th>\n",
       "      <td>Turkey</td>\n",
       "      <td>2217679.0</td>\n",
       "      <td>61857.6</td>\n",
       "      <td>2155821.4</td>\n",
       "    </tr>\n",
       "    <tr>\n",
       "      <th>213</th>\n",
       "      <td>West Bank and Gaza</td>\n",
       "      <td>2104365.8</td>\n",
       "      <td>97731.0</td>\n",
       "      <td>2006634.8</td>\n",
       "    </tr>\n",
       "    <tr>\n",
       "      <th>110</th>\n",
       "      <td>Lebanon</td>\n",
       "      <td>1476915.2</td>\n",
       "      <td>4497.6</td>\n",
       "      <td>1472417.6</td>\n",
       "    </tr>\n",
       "    <tr>\n",
       "      <th>149</th>\n",
       "      <td>Pakistan</td>\n",
       "      <td>1485777.2</td>\n",
       "      <td>183372.0</td>\n",
       "      <td>1302405.2</td>\n",
       "    </tr>\n",
       "    <tr>\n",
       "      <th>91</th>\n",
       "      <td>Iran, Islamic Rep.</td>\n",
       "      <td>955537.6</td>\n",
       "      <td>90980.0</td>\n",
       "      <td>864557.6</td>\n",
       "    </tr>\n",
       "    <tr>\n",
       "      <th>202</th>\n",
       "      <td>Uganda</td>\n",
       "      <td>674917.0</td>\n",
       "      <td>6857.0</td>\n",
       "      <td>668060.0</td>\n",
       "    </tr>\n",
       "    <tr>\n",
       "      <th>64</th>\n",
       "      <td>Ethiopia</td>\n",
       "      <td>702114.8</td>\n",
       "      <td>84237.0</td>\n",
       "      <td>617877.8</td>\n",
       "    </tr>\n",
       "    <tr>\n",
       "      <th>101</th>\n",
       "      <td>Kenya</td>\n",
       "      <td>504636.2</td>\n",
       "      <td>8025.4</td>\n",
       "      <td>496610.8</td>\n",
       "    </tr>\n",
       "    <tr>\n",
       "      <th>73</th>\n",
       "      <td>Germany</td>\n",
       "      <td>472087.8</td>\n",
       "      <td>130.4</td>\n",
       "      <td>471957.4</td>\n",
       "    </tr>\n",
       "  </tbody>\n",
       "</table>\n",
       "</div>"
      ],
      "text/plain": [
       "                Country  Refugee population in country  \\\n",
       "99               Jordan                      2809918.2   \n",
       "198              Turkey                      2217679.0   \n",
       "213  West Bank and Gaza                      2104365.8   \n",
       "110             Lebanon                      1476915.2   \n",
       "149            Pakistan                      1485777.2   \n",
       "91   Iran, Islamic Rep.                       955537.6   \n",
       "202              Uganda                       674917.0   \n",
       "64             Ethiopia                       702114.8   \n",
       "101               Kenya                       504636.2   \n",
       "73              Germany                       472087.8   \n",
       "\n",
       "     Refugee population outside of country  Net refugee population  \n",
       "99                                  1844.6               2808073.6  \n",
       "198                                61857.6               2155821.4  \n",
       "213                                97731.0               2006634.8  \n",
       "110                                 4497.6               1472417.6  \n",
       "149                               183372.0               1302405.2  \n",
       "91                                 90980.0                864557.6  \n",
       "202                                 6857.0                668060.0  \n",
       "64                                 84237.0                617877.8  \n",
       "101                                 8025.4                496610.8  \n",
       "73                                   130.4                471957.4  "
      ]
     },
     "execution_count": 21,
     "metadata": {},
     "output_type": "execute_result"
    }
   ],
   "source": [
    "# Show top 10 of net refugee population countries\n",
    "descending_NRP = refugees_grouped.sort_values('Net refugee population', ascending=False)\n",
    "descending_NRP.head(10)"
   ]
  },
  {
   "cell_type": "markdown",
   "metadata": {},
   "source": [
    "We see that over the past five years, **Jordan** has the largest net refugee population followed by **Turkey**. Further down the list we have some African countries like **Uganda** that also has a large net refugee popilation due to the the instability in especially South Sudan and DR Congo. **Germany** is the European country with the largest net refugee population.\n",
    "\n",
    "We now know that **Jordan** and **Turkey** had the largest net refugee population averaging over the years 2013-2017. **Uganda** is the highest ranked African country, while **Germany** is the highest ranked European country.\n",
    "\n",
    "Thus, we will continue with those four and **Denmark**."
   ]
  },
  {
   "cell_type": "code",
   "execution_count": 22,
   "metadata": {},
   "outputs": [],
   "source": [
    "# Create country filter\n",
    "country_filter = refugees_wb.Country.isin(['Germany', 'Denmark', 'Uganda', 'Jordan', 'Turkey'])\n",
    "refugees = refugees_wb[country_filter].set_index('Year')"
   ]
  },
  {
   "cell_type": "code",
   "execution_count": 23,
   "metadata": {},
   "outputs": [
    {
     "data": {
      "text/plain": [
       "Text(0.5, 1.0, 'Net refugee population per Country')"
      ]
     },
     "execution_count": 23,
     "metadata": {},
     "output_type": "execute_result"
    },
    {
     "data": {
      "image/png": "[encoded data removed]",
      "text/plain": [
       "<Figure size 432x288 with 1 Axes>"
      ]
     },
     "metadata": {
      "needs_background": "light"
     },
     "output_type": "display_data"
    }
   ],
   "source": [
    "# Create graphic overview of net refugee population in chosen countries\n",
    "fix,ax = plt.subplots()\n",
    "plt.xticks(np.arange(2013, 2018, step=1.0))\n",
    "ax = refugees.groupby('Country')['Net refugee population'].plot(style='-o', legend='False')\n",
    "plt.title('Net refugee population per Country')"
   ]
  },
  {
   "cell_type": "markdown",
   "metadata": {},
   "source": [
    "We see that the five countries have had quite different trends over the time period we are looking at. **Jordan** has had a high and stable net refugee population, while **Turkey** started quite low but ends the period with a larger net refugee population than Jordan. **Uganda** and **Germany** have similar trends, but probably refugees of different origin, which we will look into later. **Denmark** has a net refugee population that is very small compared to the other countries."
   ]
  },
  {
   "cell_type": "markdown",
   "metadata": {},
   "source": [
    "**Where do the refugees come from?**"
   ]
  },
  {
   "cell_type": "markdown",
   "metadata": {},
   "source": [
    "We would like to examine the origin of the refugees in the population in the countries of interest. However, instead of looking at the entire refugee population in the countries, we will look at the origin of the asylum seekers that arrived in 2013-2017, i.e. **the inflow**. Due to a lack of data on Jordan and Uganda, we have to leave them out of this part."
   ]
  },
  {
   "cell_type": "code",
   "execution_count": 24,
   "metadata": {},
   "outputs": [],
   "source": [
    "# Import libraries\n",
    "import os"
   ]
  },
  {
   "cell_type": "code",
   "execution_count": 25,
   "metadata": {},
   "outputs": [
    {
     "data": {
      "text/plain": [
       "['Country of originin refugees WB.py',\n",
       " '.DS_Store',\n",
       " 'dataproject',\n",
       " 'dataProject.ipynb',\n",
       " 'Refugees.csv',\n",
       " 'Refugee Data from WB.ipynb',\n",
       " 'README.md',\n",
       " 'Hand-in1-Resettlements.ipynb',\n",
       " 'Asylum seekers.py',\n",
       " '.ipynb_checkpoints',\n",
       " 'Resettlements.py',\n",
       " 'Hand-in1.ipynb']"
      ]
     },
     "execution_count": 25,
     "metadata": {},
     "output_type": "execute_result"
    }
   ],
   "source": [
    "# Find name of relevant data file\n",
    "os.listdir('./dataproject/')"
   ]
  },
  {
   "cell_type": "code",
   "execution_count": 26,
   "metadata": {},
   "outputs": [
    {
     "data": {
      "text/html": [
       "<div>\n",
       "<style scoped>\n",
       "    .dataframe tbody tr th:only-of-type {\n",
       "        vertical-align: middle;\n",
       "    }\n",
       "\n",
       "    .dataframe tbody tr th {\n",
       "        vertical-align: top;\n",
       "    }\n",
       "\n",
       "    .dataframe thead th {\n",
       "        text-align: right;\n",
       "    }\n",
       "</style>\n",
       "<table border=\"1\" class=\"dataframe\">\n",
       "  <thead>\n",
       "    <tr style=\"text-align: right;\">\n",
       "      <th></th>\n",
       "      <th>Country / territory of asylum/residence</th>\n",
       "      <th>Origin</th>\n",
       "      <th>Year</th>\n",
       "      <th>Month</th>\n",
       "      <th>Value</th>\n",
       "    </tr>\n",
       "  </thead>\n",
       "  <tbody>\n",
       "    <tr>\n",
       "      <th>0</th>\n",
       "      <td>Albania</td>\n",
       "      <td>Afghanistan</td>\n",
       "      <td>2015</td>\n",
       "      <td>May</td>\n",
       "      <td>3</td>\n",
       "    </tr>\n",
       "    <tr>\n",
       "      <th>1</th>\n",
       "      <td>Albania</td>\n",
       "      <td>Afghanistan</td>\n",
       "      <td>2016</td>\n",
       "      <td>June</td>\n",
       "      <td>18</td>\n",
       "    </tr>\n",
       "    <tr>\n",
       "      <th>2</th>\n",
       "      <td>Albania</td>\n",
       "      <td>Afghanistan</td>\n",
       "      <td>2016</td>\n",
       "      <td>July</td>\n",
       "      <td>19</td>\n",
       "    </tr>\n",
       "  </tbody>\n",
       "</table>\n",
       "</div>"
      ],
      "text/plain": [
       "  Country / territory of asylum/residence       Origin  Year Month Value\n",
       "0                                 Albania  Afghanistan  2015   May     3\n",
       "1                                 Albania  Afghanistan  2016  June    18\n",
       "2                                 Albania  Afghanistan  2016  July    19"
      ]
     },
     "execution_count": 26,
     "metadata": {},
     "output_type": "execute_result"
    }
   ],
   "source": [
    "# Load data on refugee origin\n",
    "asylum = pd.read_csv(\"./dataproject/Refugees.csv\", low_memory=False, skiprows = 3, skipinitialspace=True)\n",
    "asylum.head(3)"
   ]
  },
  {
   "cell_type": "code",
   "execution_count": 27,
   "metadata": {},
   "outputs": [
    {
     "data": {
      "text/html": [
       "<div>\n",
       "<style scoped>\n",
       "    .dataframe tbody tr th:only-of-type {\n",
       "        vertical-align: middle;\n",
       "    }\n",
       "\n",
       "    .dataframe tbody tr th {\n",
       "        vertical-align: top;\n",
       "    }\n",
       "\n",
       "    .dataframe thead th {\n",
       "        text-align: right;\n",
       "    }\n",
       "</style>\n",
       "<table border=\"1\" class=\"dataframe\">\n",
       "  <thead>\n",
       "    <tr style=\"text-align: right;\">\n",
       "      <th></th>\n",
       "      <th>Country</th>\n",
       "      <th>Origin</th>\n",
       "      <th>Year</th>\n",
       "      <th>Month</th>\n",
       "      <th>Asylum Seekers</th>\n",
       "    </tr>\n",
       "  </thead>\n",
       "  <tbody>\n",
       "    <tr>\n",
       "      <th>0</th>\n",
       "      <td>Albania</td>\n",
       "      <td>Afghanistan</td>\n",
       "      <td>2015</td>\n",
       "      <td>May</td>\n",
       "      <td>3</td>\n",
       "    </tr>\n",
       "    <tr>\n",
       "      <th>1</th>\n",
       "      <td>Albania</td>\n",
       "      <td>Afghanistan</td>\n",
       "      <td>2016</td>\n",
       "      <td>June</td>\n",
       "      <td>18</td>\n",
       "    </tr>\n",
       "    <tr>\n",
       "      <th>2</th>\n",
       "      <td>Albania</td>\n",
       "      <td>Afghanistan</td>\n",
       "      <td>2016</td>\n",
       "      <td>July</td>\n",
       "      <td>19</td>\n",
       "    </tr>\n",
       "    <tr>\n",
       "      <th>3</th>\n",
       "      <td>Albania</td>\n",
       "      <td>Afghanistan</td>\n",
       "      <td>2016</td>\n",
       "      <td>November</td>\n",
       "      <td>27</td>\n",
       "    </tr>\n",
       "    <tr>\n",
       "      <th>4</th>\n",
       "      <td>Albania</td>\n",
       "      <td>Afghanistan</td>\n",
       "      <td>2017</td>\n",
       "      <td>January</td>\n",
       "      <td>21</td>\n",
       "    </tr>\n",
       "  </tbody>\n",
       "</table>\n",
       "</div>"
      ],
      "text/plain": [
       "   Country       Origin  Year     Month Asylum Seekers\n",
       "0  Albania  Afghanistan  2015       May              3\n",
       "1  Albania  Afghanistan  2016      June             18\n",
       "2  Albania  Afghanistan  2016      July             19\n",
       "3  Albania  Afghanistan  2016  November             27\n",
       "4  Albania  Afghanistan  2017   January             21"
      ]
     },
     "execution_count": 27,
     "metadata": {},
     "output_type": "execute_result"
    }
   ],
   "source": [
    "# Rename columns\n",
    "asylum.rename(columns = {'Country / territory of asylum/residence': 'Country', 'Value': 'Asylum Seekers'}, inplace=True)\n",
    "asylum.head()"
   ]
  },
  {
   "cell_type": "markdown",
   "metadata": {},
   "source": [
    "**Germany**"
   ]
  },
  {
   "cell_type": "code",
   "execution_count": 30,
   "metadata": {},
   "outputs": [],
   "source": [
    "# Restrict data to Germany\n",
    "country_filter = asylum.Country.isin(['Germany'])\n",
    "Germany=asylum[country_filter]\n",
    "\n",
    "# Remove all non-numeric values from \"Value\" column\n",
    "Germany['Asylum Seekers'] = pd.to_numeric(Germany['Asylum Seekers'], errors='coerce')\n",
    "\n",
    "# Drop all rows with null values \n",
    "Germany = Germany.dropna(subset=['Asylum Seekers'])\n",
    "\n",
    "# Group data by year\n",
    "Germany_grouped = Germany.drop(['Year','Month'], axis=1)\n",
    "Germany_grouped = Germany_grouped.groupby(['Country', 'Origin', 'Asylum Seekers']).sum()\n",
    "Germany_grouped = Germany.groupby(['Origin'])['Asylum Seekers'].sum()\n",
    "Germany_grouped = Germany.groupby(['Origin'], as_index=False).agg({'Asylum Seekers':'sum'})\n",
    "\n",
    "# Sort data and rename columns\n",
    "Germanysorted = Germany_grouped.sort_values('Asylum Seekers', ascending=False)\n",
    "Germanysorted.rename(columns = {'Origin':'Origin of Asylum Seekers in Germany'}, inplace=True)\n",
    "\n",
    "# Present data\n",
    "Germanysorted.head(3)\n",
    "\n",
    "# Ignore error on chained assignment\n",
    "pd.options.mode.chained_assignment = None "
   ]
  },
  {
   "cell_type": "markdown",
   "metadata": {},
   "source": [
    "We see that by far most of the asylum seekers in Germany during 2013-2017 are from Syria, which is not surprising due to the war. Afghanistan comes in second, closely followed by Iraq, both countries known for their unstable situation."
   ]
  },
  {
   "cell_type": "markdown",
   "metadata": {},
   "source": [
    "**Denmark**"
   ]
  },
  {
   "cell_type": "code",
   "execution_count": 31,
   "metadata": {},
   "outputs": [
    {
     "data": {
      "text/html": [
       "<div>\n",
       "<style scoped>\n",
       "    .dataframe tbody tr th:only-of-type {\n",
       "        vertical-align: middle;\n",
       "    }\n",
       "\n",
       "    .dataframe tbody tr th {\n",
       "        vertical-align: top;\n",
       "    }\n",
       "\n",
       "    .dataframe thead th {\n",
       "        text-align: right;\n",
       "    }\n",
       "</style>\n",
       "<table border=\"1\" class=\"dataframe\">\n",
       "  <thead>\n",
       "    <tr style=\"text-align: right;\">\n",
       "      <th></th>\n",
       "      <th>Origin of Asylum Seekers in Denmark</th>\n",
       "      <th>Asylum Seekers</th>\n",
       "    </tr>\n",
       "  </thead>\n",
       "  <tbody>\n",
       "    <tr>\n",
       "      <th>113</th>\n",
       "      <td>Syrian Arab Rep.</td>\n",
       "      <td>19606.0</td>\n",
       "    </tr>\n",
       "    <tr>\n",
       "      <th>37</th>\n",
       "      <td>Eritrea</td>\n",
       "      <td>4751.0</td>\n",
       "    </tr>\n",
       "    <tr>\n",
       "      <th>0</th>\n",
       "      <td>Afghanistan</td>\n",
       "      <td>4344.0</td>\n",
       "    </tr>\n",
       "  </tbody>\n",
       "</table>\n",
       "</div>"
      ],
      "text/plain": [
       "    Origin of Asylum Seekers in Denmark  Asylum Seekers\n",
       "113                    Syrian Arab Rep.         19606.0\n",
       "37                              Eritrea          4751.0\n",
       "0                           Afghanistan          4344.0"
      ]
     },
     "execution_count": 31,
     "metadata": {},
     "output_type": "execute_result"
    }
   ],
   "source": [
    "# Restrict data to Denmark\n",
    "country_filter = asylum.Country.isin(['Denmark'])\n",
    "Denmark=asylum[country_filter]\n",
    "\n",
    "# Remove all non-numeric values from \"Value\" column\n",
    "Denmark['Asylum Seekers'] = pd.to_numeric(Denmark['Asylum Seekers'], errors='coerce')\n",
    "\n",
    "# Drop all rows with null values \n",
    "Denmark = Denmark.dropna(subset=['Asylum Seekers'])\n",
    "\n",
    "# Group data\n",
    "Denmark_grouped = Denmark.drop(['Year','Month'], axis=1)\n",
    "Denmark_grouped = Denmark_grouped.groupby(['Country', 'Origin', 'Asylum Seekers']).sum()\n",
    "Denmark_grouped = Denmark.groupby(['Origin'])['Asylum Seekers'].sum()\n",
    "Denmark_grouped = Denmark.groupby(['Origin'], as_index=False).agg({'Asylum Seekers':'sum'})\n",
    "\n",
    "# Sort data and rename columns\n",
    "Denmarksorted = Denmark_grouped.sort_values('Asylum Seekers', ascending=False)\n",
    "Denmarksorted.rename(columns = {'Origin':'Origin of Asylum Seekers in Denmark'}, inplace=True)\n",
    "\n",
    "# Present data\n",
    "Denmarksorted.head(3)"
   ]
  },
  {
   "cell_type": "markdown",
   "metadata": {},
   "source": [
    "As with Germany, most asylum seekers in Denmark in 2013-2017 are from Syria. Second is Eritrea, which at first glance seems a bit surprising. However, the asylum seekers from Eritrea has had quite a bit of attention in the Danish media, both because the inflow started kind of out of the blue in 2014 and then - again kind of out of the blue - slowed down in 2016, and also because of a quite controversial report from the Danish Ministry of Immigration and Integration stating that Eritrea was a completely safe country to return to. Afghanistan is third with the amount of asylum seekers very close to that of Eritrea."
   ]
  },
  {
   "cell_type": "markdown",
   "metadata": {},
   "source": [
    "**Turkey**"
   ]
  },
  {
   "cell_type": "code",
   "execution_count": 32,
   "metadata": {},
   "outputs": [
    {
     "data": {
      "text/html": [
       "<div>\n",
       "<style scoped>\n",
       "    .dataframe tbody tr th:only-of-type {\n",
       "        vertical-align: middle;\n",
       "    }\n",
       "\n",
       "    .dataframe tbody tr th {\n",
       "        vertical-align: top;\n",
       "    }\n",
       "\n",
       "    .dataframe thead th {\n",
       "        text-align: right;\n",
       "    }\n",
       "</style>\n",
       "<table border=\"1\" class=\"dataframe\">\n",
       "  <thead>\n",
       "    <tr style=\"text-align: right;\">\n",
       "      <th></th>\n",
       "      <th>Origin of Asylum Seekers in Turkey</th>\n",
       "      <th>Asylum Seekers</th>\n",
       "    </tr>\n",
       "  </thead>\n",
       "  <tbody>\n",
       "    <tr>\n",
       "      <th>36</th>\n",
       "      <td>Iraq</td>\n",
       "      <td>204312.0</td>\n",
       "    </tr>\n",
       "    <tr>\n",
       "      <th>0</th>\n",
       "      <td>Afghanistan</td>\n",
       "      <td>188798.0</td>\n",
       "    </tr>\n",
       "    <tr>\n",
       "      <th>35</th>\n",
       "      <td>Iran (Islamic Rep. of)</td>\n",
       "      <td>45806.0</td>\n",
       "    </tr>\n",
       "  </tbody>\n",
       "</table>\n",
       "</div>"
      ],
      "text/plain": [
       "   Origin of Asylum Seekers in Turkey  Asylum Seekers\n",
       "36                               Iraq        204312.0\n",
       "0                         Afghanistan        188798.0\n",
       "35             Iran (Islamic Rep. of)         45806.0"
      ]
     },
     "execution_count": 32,
     "metadata": {},
     "output_type": "execute_result"
    }
   ],
   "source": [
    "# Restrict data to Turkey\n",
    "country_filter = asylum.Country.isin(['Turkey'])\n",
    "Turkey=asylum[country_filter]\n",
    "\n",
    "# Remove all non-numeric values from \"Value\" column\n",
    "Turkey['Asylum Seekers'] = pd.to_numeric(Turkey['Asylum Seekers'], errors='coerce')\n",
    "\n",
    "# Drop all rows with null values \n",
    "Turkey = Turkey.dropna(subset=['Asylum Seekers'])\n",
    "\n",
    "# Group data\n",
    "Turkey_grouped = Turkey.drop(['Year','Month'], axis=1)\n",
    "Turkey_grouped = Turkey_grouped.groupby(['Country', 'Origin', 'Asylum Seekers']).sum()\n",
    "Turkey_grouped = Turkey.groupby(['Origin'])['Asylum Seekers'].sum()\n",
    "Turkey_grouped = Turkey.groupby(['Origin'], as_index=False).agg({'Asylum Seekers':'sum'})\n",
    "\n",
    "# Sort data and rename columns\n",
    "Turkeysorted = Turkey_grouped.sort_values('Asylum Seekers', ascending=False)\n",
    "Turkeysorted.rename(columns = {'Origin':'Origin of Asylum Seekers in Turkey'}, inplace=True)\n",
    "\n",
    "# Present data\n",
    "Turkeysorted.head(3)"
   ]
  },
  {
   "cell_type": "markdown",
   "metadata": {},
   "source": [
    "Quite surprisingly, since Syria borders Turkey, Syrian asylum seekers are not in the top 3 for Turkey. However, this does seem to be a data problem, as there is no 2017 data for Syrian asylum seekers in Turkey, and the data on Syrian asylum seekers for Turkey in general seems to be a bit flawed. However, that Iraq, Afghanistan and Iran are in the top is not surprising. In general, Turkey is a major refugee hosting country.\n",
    "\n",
    "We can conclude that - except for the Eritrean asylum seekers in Denmark - the countries of origin are more or less the same for the three countries."
   ]
  },
  {
   "cell_type": "markdown",
   "metadata": {},
   "source": [
    "**So how are the countries with a large refugee population doing on unemployment?**"
   ]
  },
  {
   "cell_type": "code",
   "execution_count": 95,
   "metadata": {},
   "outputs": [
    {
     "data": {
      "text/html": [
       "<div>\n",
       "<style scoped>\n",
       "    .dataframe tbody tr th:only-of-type {\n",
       "        vertical-align: middle;\n",
       "    }\n",
       "\n",
       "    .dataframe tbody tr th {\n",
       "        vertical-align: top;\n",
       "    }\n",
       "\n",
       "    .dataframe thead th {\n",
       "        text-align: right;\n",
       "    }\n",
       "</style>\n",
       "<table border=\"1\" class=\"dataframe\">\n",
       "  <thead>\n",
       "    <tr style=\"text-align: right;\">\n",
       "      <th></th>\n",
       "      <th>country</th>\n",
       "      <th>year</th>\n",
       "      <th>SL.UEM.TOTL.ZS</th>\n",
       "    </tr>\n",
       "  </thead>\n",
       "  <tbody>\n",
       "    <tr>\n",
       "      <th>0</th>\n",
       "      <td>Germany</td>\n",
       "      <td>2017</td>\n",
       "      <td>3.75</td>\n",
       "    </tr>\n",
       "    <tr>\n",
       "      <th>1</th>\n",
       "      <td>Germany</td>\n",
       "      <td>2016</td>\n",
       "      <td>4.12</td>\n",
       "    </tr>\n",
       "    <tr>\n",
       "      <th>2</th>\n",
       "      <td>Germany</td>\n",
       "      <td>2015</td>\n",
       "      <td>4.62</td>\n",
       "    </tr>\n",
       "    <tr>\n",
       "      <th>3</th>\n",
       "      <td>Germany</td>\n",
       "      <td>2014</td>\n",
       "      <td>4.98</td>\n",
       "    </tr>\n",
       "    <tr>\n",
       "      <th>4</th>\n",
       "      <td>Germany</td>\n",
       "      <td>2013</td>\n",
       "      <td>5.23</td>\n",
       "    </tr>\n",
       "  </tbody>\n",
       "</table>\n",
       "</div>"
      ],
      "text/plain": [
       "   country  year  SL.UEM.TOTL.ZS\n",
       "0  Germany  2017            3.75\n",
       "1  Germany  2016            4.12\n",
       "2  Germany  2015            4.62\n",
       "3  Germany  2014            4.98\n",
       "4  Germany  2013            5.23"
      ]
     },
     "execution_count": 95,
     "metadata": {},
     "output_type": "execute_result"
    }
   ],
   "source": [
    "# Import unemployment data from the World Bank (% of labor force)\n",
    "unemploy_wb = wb.download(indicator='SL.UEM.TOTL.ZS', country=['DK','DE','UG','JO','TR'], start=2013, end=2017)\n",
    "unemploy_wb = unemploy_wb.reset_index()\n",
    "unemploy_wb.head()"
   ]
  },
  {
   "cell_type": "code",
   "execution_count": 96,
   "metadata": {},
   "outputs": [
    {
     "data": {
      "text/html": [
       "<div>\n",
       "<style scoped>\n",
       "    .dataframe tbody tr th:only-of-type {\n",
       "        vertical-align: middle;\n",
       "    }\n",
       "\n",
       "    .dataframe tbody tr th {\n",
       "        vertical-align: top;\n",
       "    }\n",
       "\n",
       "    .dataframe thead th {\n",
       "        text-align: right;\n",
       "    }\n",
       "</style>\n",
       "<table border=\"1\" class=\"dataframe\">\n",
       "  <thead>\n",
       "    <tr style=\"text-align: right;\">\n",
       "      <th></th>\n",
       "      <th>Country</th>\n",
       "      <th>Unemployment rate</th>\n",
       "    </tr>\n",
       "    <tr>\n",
       "      <th>Year</th>\n",
       "      <th></th>\n",
       "      <th></th>\n",
       "    </tr>\n",
       "  </thead>\n",
       "  <tbody>\n",
       "    <tr>\n",
       "      <th>2017</th>\n",
       "      <td>Germany</td>\n",
       "      <td>3.75</td>\n",
       "    </tr>\n",
       "    <tr>\n",
       "      <th>2016</th>\n",
       "      <td>Germany</td>\n",
       "      <td>4.12</td>\n",
       "    </tr>\n",
       "    <tr>\n",
       "      <th>2015</th>\n",
       "      <td>Germany</td>\n",
       "      <td>4.62</td>\n",
       "    </tr>\n",
       "    <tr>\n",
       "      <th>2014</th>\n",
       "      <td>Germany</td>\n",
       "      <td>4.98</td>\n",
       "    </tr>\n",
       "    <tr>\n",
       "      <th>2013</th>\n",
       "      <td>Germany</td>\n",
       "      <td>5.23</td>\n",
       "    </tr>\n",
       "    <tr>\n",
       "      <th>2017</th>\n",
       "      <td>Denmark</td>\n",
       "      <td>5.74</td>\n",
       "    </tr>\n",
       "    <tr>\n",
       "      <th>2016</th>\n",
       "      <td>Denmark</td>\n",
       "      <td>6.18</td>\n",
       "    </tr>\n",
       "    <tr>\n",
       "      <th>2015</th>\n",
       "      <td>Denmark</td>\n",
       "      <td>6.17</td>\n",
       "    </tr>\n",
       "    <tr>\n",
       "      <th>2014</th>\n",
       "      <td>Denmark</td>\n",
       "      <td>6.59</td>\n",
       "    </tr>\n",
       "    <tr>\n",
       "      <th>2013</th>\n",
       "      <td>Denmark</td>\n",
       "      <td>7.00</td>\n",
       "    </tr>\n",
       "  </tbody>\n",
       "</table>\n",
       "</div>"
      ],
      "text/plain": [
       "      Country  Unemployment rate\n",
       "Year                            \n",
       "2017  Germany               3.75\n",
       "2016  Germany               4.12\n",
       "2015  Germany               4.62\n",
       "2014  Germany               4.98\n",
       "2013  Germany               5.23\n",
       "2017  Denmark               5.74\n",
       "2016  Denmark               6.18\n",
       "2015  Denmark               6.17\n",
       "2014  Denmark               6.59\n",
       "2013  Denmark               7.00"
      ]
     },
     "execution_count": 96,
     "metadata": {},
     "output_type": "execute_result"
    }
   ],
   "source": [
    "# Clean data (change column names, change 'Year' data type)\n",
    "unemploy_wb = unemploy_wb.rename(columns = {'country':'Country','year':'Year','SL.UEM.TOTL.ZS':'Unemployment rate'})\n",
    "unemploy_wb['Year'] = unemploy_wb['Year'].astype(int)\n",
    "unemploy_wb = unemploy_wb.set_index('Year')\n",
    "unemploy_wb.head()"
   ]
  },
  {
   "cell_type": "code",
   "execution_count": 101,
   "metadata": {},
   "outputs": [
    {
     "data": {
      "text/plain": [
       "Text(0.5, 1.0, 'Unemployment rate per Country')"
      ]
     },
     "execution_count": 101,
     "metadata": {},
     "output_type": "execute_result"
    },
    {
     "data": {
      "image/png": "[encoded data removed]",
      "text/plain": [
       "<Figure size 432x288 with 1 Axes>"
      ]
     },
     "metadata": {
      "needs_background": "light"
     },
     "output_type": "display_data"
    }
   ],
   "source": [
    "# Plot unemployment rate of selected countries\n",
    "ax = unemploy_wb.groupby('Country')['Unemployment rate'].plot(style='-o', legend=True)\n",
    "plt.xticks(np.arange(2013, 2018, step=1.0))\n",
    "plt.title('Unemployment rate per Country')"
   ]
  },
  {
   "cell_type": "markdown",
   "metadata": {},
   "source": [
    "**Germany**"
   ]
  },
  {
   "cell_type": "code",
   "execution_count": 170,
   "metadata": {},
   "outputs": [
    {
     "data": {
      "image/png": "[encoded data removed]",
      "text/plain": [
       "<Figure size 432x288 with 2 Axes>"
      ]
     },
     "metadata": {
      "needs_background": "light"
     },
     "output_type": "display_data"
    }
   ],
   "source": [
    "# Plot trend of unemployment and net refugee population for Germany\n",
    "country_filter = unemploy_wb.Country.isin(['Germany'])\n",
    "Denmark=unemploy_wb[country_filter]\n",
    "\n",
    "country_filter2 = refugees.Country.isin(['Germany'])\n",
    "Denmark2=refugees[country_filter2]\n",
    "\n",
    "fig, ax1 = plt.subplots()\n",
    "\n",
    "plt.title('Germany', fontsize=16)\n",
    "\n",
    "plt.xticks(np.arange(2013, 2018, step=1.0))\n",
    "s1 = Denmark['Unemployment rate']\n",
    "ax1.plot(s1, '-o', color='green')\n",
    "ax1.set_xlabel('Year')\n",
    "# Make the y-axis label, ticks and tick labels match the line color.\n",
    "ax1.set_ylabel('Unemployment rate', color='green')\n",
    "ax1.tick_params('y', colors='green')\n",
    "\n",
    "ax2 = ax1.twinx()\n",
    "s2 = Denmark2['Net refugee population']\n",
    "ax2.plot(s2, '-o', color='blue')\n",
    "ax2.set_ylabel('Net refugee population', color='blue')\n",
    "ax2.tick_params('y', colors='blue')\n",
    "\n",
    "fig.tight_layout()\n",
    "plt.show()"
   ]
  },
  {
   "cell_type": "markdown",
   "metadata": {},
   "source": [
    "**Denmark**"
   ]
  },
  {
   "cell_type": "code",
   "execution_count": 169,
   "metadata": {},
   "outputs": [
    {
     "data": {
      "image/png": "[encoded data removed]",
      "text/plain": [
       "<Figure size 432x288 with 2 Axes>"
      ]
     },
     "metadata": {
      "needs_background": "light"
     },
     "output_type": "display_data"
    }
   ],
   "source": [
    "# Plot trend of unemployment and net refugee population for Denmark\n",
    "country_filter = unemploy_wb.Country.isin(['Denmark'])\n",
    "Denmark=unemploy_wb[country_filter]\n",
    "\n",
    "country_filter2 = refugees.Country.isin(['Denmark'])\n",
    "Denmark2=refugees[country_filter2]\n",
    "\n",
    "fig, ax1 = plt.subplots()\n",
    "\n",
    "plt.title('Denmark', fontsize=16)\n",
    "\n",
    "plt.xticks(np.arange(2013, 2018, step=1.0))\n",
    "s1 = Denmark['Unemployment rate']\n",
    "ax1.plot(s1, '-o', color='green')\n",
    "ax1.set_xlabel('Year')\n",
    "# Make the y-axis label, ticks and tick labels match the line color.\n",
    "ax1.set_ylabel('Unemployment rate', color='green')\n",
    "ax1.tick_params('y', colors='green')\n",
    "\n",
    "ax2 = ax1.twinx()\n",
    "s2 = Denmark2['Net refugee population']\n",
    "ax2.plot(s2, '-o', color='blue')\n",
    "ax2.set_ylabel('Net refugee population', color='blue')\n",
    "ax2.tick_params('y', colors='blue')\n",
    "\n",
    "fig.tight_layout()\n",
    "plt.show()"
   ]
  },
  {
   "cell_type": "markdown",
   "metadata": {},
   "source": [
    "**Turkey**"
   ]
  },
  {
   "cell_type": "code",
   "execution_count": 171,
   "metadata": {},
   "outputs": [
    {
     "data": {
      "image/png": "[encoded data removed]",
      "text/plain": [
       "<Figure size 432x288 with 2 Axes>"
      ]
     },
     "metadata": {
      "needs_background": "light"
     },
     "output_type": "display_data"
    }
   ],
   "source": [
    "# Plot trend of unemployment and net refugee population for Turkey\n",
    "country_filter = unemploy_wb.Country.isin(['Turkey'])\n",
    "Denmark=unemploy_wb[country_filter]\n",
    "\n",
    "country_filter2 = refugees.Country.isin(['Turkey'])\n",
    "Denmark2=refugees[country_filter2]\n",
    "\n",
    "fig, ax1 = plt.subplots()\n",
    "\n",
    "plt.title('Turkey', fontsize=16)\n",
    "\n",
    "plt.xticks(np.arange(2013, 2018, step=1.0))\n",
    "s1 = Denmark['Unemployment rate']\n",
    "ax1.plot(s1, '-o', color='green')\n",
    "ax1.set_xlabel('Year')\n",
    "# Make the y-axis label, ticks and tick labels match the line color.\n",
    "ax1.set_ylabel('Unemployment rate', color='green')\n",
    "ax1.tick_params('y', colors='green')\n",
    "\n",
    "ax2 = ax1.twinx()\n",
    "s2 = Denmark2['Net refugee population']\n",
    "ax2.plot(s2, '-o', color='blue')\n",
    "ax2.set_ylabel('Net refugee population', color='blue')\n",
    "ax2.tick_params('y', colors='blue')\n",
    "\n",
    "fig.tight_layout()\n",
    "plt.show()"
   ]
  },
  {
   "cell_type": "markdown",
   "metadata": {},
   "source": [
    "**Jordan**"
   ]
  },
  {
   "cell_type": "code",
   "execution_count": 172,
   "metadata": {},
   "outputs": [
    {
     "data": {
      "image/png": "[encoded data removed]",
      "text/plain": [
       "<Figure size 432x288 with 2 Axes>"
      ]
     },
     "metadata": {
      "needs_background": "light"
     },
     "output_type": "display_data"
    }
   ],
   "source": [
    "# Plot trend of unemployment and net refugee population for Jordan\n",
    "country_filter = unemploy_wb.Country.isin(['Jordan'])\n",
    "Denmark=unemploy_wb[country_filter]\n",
    "\n",
    "country_filter2 = refugees.Country.isin(['Jordan'])\n",
    "Denmark2=refugees[country_filter2]\n",
    "\n",
    "fig, ax1 = plt.subplots()\n",
    "\n",
    "plt.title('Jordan', fontsize=16)\n",
    "\n",
    "plt.xticks(np.arange(2013, 2018, step=1.0))\n",
    "s1 = Denmark['Unemployment rate']\n",
    "ax1.plot(s1, '-o', color='green')\n",
    "ax1.set_xlabel('Year')\n",
    "# Make the y-axis label, ticks and tick labels match the line color.\n",
    "ax1.set_ylabel('Unemployment rate', color='green')\n",
    "ax1.tick_params('y', colors='green')\n",
    "\n",
    "ax2 = ax1.twinx()\n",
    "s2 = Denmark2['Net refugee population']\n",
    "ax2.plot(s2, '-o', color='blue')\n",
    "ax2.set_ylabel('Net refugee population', color='blue')\n",
    "ax2.tick_params('y', colors='blue')\n",
    "\n",
    "fig.tight_layout()\n",
    "plt.show()"
   ]
  },
  {
   "cell_type": "markdown",
   "metadata": {},
   "source": [
    "**Uganda**"
   ]
  },
  {
   "cell_type": "code",
   "execution_count": 175,
   "metadata": {},
   "outputs": [
    {
     "data": {
      "image/png": "[encoded data removed]",
      "text/plain": [
       "<Figure size 432x288 with 2 Axes>"
      ]
     },
     "metadata": {
      "needs_background": "light"
     },
     "output_type": "display_data"
    }
   ],
   "source": [
    "# Plot trend of unemployment and net refugee population for Uganda\n",
    "country_filter = unemploy_wb.Country.isin(['Uganda'])\n",
    "Denmark=unemploy_wb[country_filter]\n",
    "\n",
    "country_filter2 = refugees.Country.isin(['Uganda'])\n",
    "Denmark2=refugees[country_filter2]\n",
    "\n",
    "fig, ax1 = plt.subplots()\n",
    "\n",
    "plt.title('Uganda', fontsize=16)\n",
    "\n",
    "plt.xticks(np.arange(2013, 2018, step=1.0))\n",
    "s1 = Denmark['Unemployment rate']\n",
    "ax1.plot(s1, '-o', color='green')\n",
    "ax1.set_xlabel('Year')\n",
    "# Make the y-axis label, ticks and tick labels match the line color.\n",
    "ax1.set_ylabel('Unemployment rate', color='green')\n",
    "ax1.tick_params('y', colors='green')\n",
    "\n",
    "ax2 = ax1.twinx()\n",
    "s2 = Denmark2['Net refugee population']\n",
    "ax2.plot(s2, '-o', color='blue')\n",
    "ax2.set_ylabel('Net refugee population', color='blue')\n",
    "ax2.tick_params('y', colors='blue')\n",
    "\n",
    "fig.tight_layout()\n",
    "plt.show()"
   ]
  },
  {
   "cell_type": "markdown",
   "metadata": {},
   "source": [
    "From the graphs we see that there is no clear pattern. For **Germany** and **Denmark** we see a decreasing unemployment rate and an increasing net refugee population. For **Uganda**, **Jordan** and **Turkey** we see an increase in both.\n",
    "\n",
    "The decreasing unemployment rate in Germany and Denmark is probably due to both countries recovering from the financial crisis, and we cannot say whether te speed of this recovery has been affected by an increasing refugee population or not. The increasing unemployment rate in the other three countries are probably due to an - in general - more unstable economy than that of Western Europe.\n",
    "\n",
    "Thus, there is no clear relationship between unemployment rates and net refugee population in a country from this graphic analysis."
   ]
  }
 ],
 "metadata": {
  "kernelspec": {
   "display_name": "Python 3",
   "language": "python",
   "name": "python3"
  },
  "language_info": {
   "codemirror_mode": {
    "name": "ipython",
    "version": 3
   },
   "file_extension": ".py",
   "mimetype": "text/x-python",
   "name": "python",
   "nbconvert_exporter": "python",
   "pygments_lexer": "ipython3",
   "version": "3.7.0"
  }
 },
 "nbformat": 4,
 "nbformat_minor": 2
}
