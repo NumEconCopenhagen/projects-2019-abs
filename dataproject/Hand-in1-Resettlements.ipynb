{
 "cells": [
  {
   "cell_type": "code",
   "execution_count": 1,
   "metadata": {},
   "outputs": [],
   "source": [
    "import pandas as pd"
   ]
  },
  {
   "cell_type": "code",
   "execution_count": 2,
   "metadata": {},
   "outputs": [
    {
     "data": {
      "text/plain": [
       "['.DS_Store', 'Resettlements.csv', 'Refugees.csv', 'Refugees.xls']"
      ]
     },
     "execution_count": 2,
     "metadata": {},
     "output_type": "execute_result"
    }
   ],
   "source": [
    "import os \n",
    "os.listdir('./data/')"
   ]
  },
  {
   "cell_type": "code",
   "execution_count": 3,
   "metadata": {},
   "outputs": [
    {
     "data": {
      "text/html": [
       "<div>\n",
       "<style scoped>\n",
       "    .dataframe tbody tr th:only-of-type {\n",
       "        vertical-align: middle;\n",
       "    }\n",
       "\n",
       "    .dataframe tbody tr th {\n",
       "        vertical-align: top;\n",
       "    }\n",
       "\n",
       "    .dataframe thead th {\n",
       "        text-align: right;\n",
       "    }\n",
       "</style>\n",
       "<table border=\"1\" class=\"dataframe\">\n",
       "  <thead>\n",
       "    <tr style=\"text-align: right;\">\n",
       "      <th></th>\n",
       "      <th>Extracted from the UNHCR Population Statistics Reference Database</th>\n",
       "      <th>United Nations High Commissioner for Refugees</th>\n",
       "      <th>Unnamed: 2</th>\n",
       "      <th>Unnamed: 3</th>\n",
       "    </tr>\n",
       "  </thead>\n",
       "  <tbody>\n",
       "    <tr>\n",
       "      <th>0</th>\n",
       "      <td>Date extracted: 2015-10-08 04:11:52 +02:00</td>\n",
       "      <td>NaN</td>\n",
       "      <td>NaN</td>\n",
       "      <td>NaN</td>\n",
       "    </tr>\n",
       "    <tr>\n",
       "      <th>1</th>\n",
       "      <td>NaN</td>\n",
       "      <td>NaN</td>\n",
       "      <td>NaN</td>\n",
       "      <td>NaN</td>\n",
       "    </tr>\n",
       "    <tr>\n",
       "      <th>2</th>\n",
       "      <td>Country / territory of asylum/residence</td>\n",
       "      <td>Origin</td>\n",
       "      <td>Year</td>\n",
       "      <td>Value</td>\n",
       "    </tr>\n",
       "    <tr>\n",
       "      <th>3</th>\n",
       "      <td>Canada</td>\n",
       "      <td>Albania</td>\n",
       "      <td>1959</td>\n",
       "      <td>17</td>\n",
       "    </tr>\n",
       "    <tr>\n",
       "      <th>4</th>\n",
       "      <td>Canada</td>\n",
       "      <td>Austria</td>\n",
       "      <td>1959</td>\n",
       "      <td>17</td>\n",
       "    </tr>\n",
       "    <tr>\n",
       "      <th>5</th>\n",
       "      <td>Canada</td>\n",
       "      <td>Belgium</td>\n",
       "      <td>1959</td>\n",
       "      <td>2</td>\n",
       "    </tr>\n",
       "    <tr>\n",
       "      <th>6</th>\n",
       "      <td>Canada</td>\n",
       "      <td>Bulgaria</td>\n",
       "      <td>1959</td>\n",
       "      <td>35</td>\n",
       "    </tr>\n",
       "    <tr>\n",
       "      <th>7</th>\n",
       "      <td>Canada</td>\n",
       "      <td>China</td>\n",
       "      <td>1959</td>\n",
       "      <td>2</td>\n",
       "    </tr>\n",
       "    <tr>\n",
       "      <th>8</th>\n",
       "      <td>Canada</td>\n",
       "      <td>Czech Rep.</td>\n",
       "      <td>1959</td>\n",
       "      <td>36</td>\n",
       "    </tr>\n",
       "    <tr>\n",
       "      <th>9</th>\n",
       "      <td>Canada</td>\n",
       "      <td>Egypt</td>\n",
       "      <td>1959</td>\n",
       "      <td>5</td>\n",
       "    </tr>\n",
       "  </tbody>\n",
       "</table>\n",
       "</div>"
      ],
      "text/plain": [
       "  Extracted from the UNHCR Population Statistics Reference Database  \\\n",
       "0         Date extracted: 2015-10-08 04:11:52 +02:00                  \n",
       "1                                                NaN                  \n",
       "2            Country / territory of asylum/residence                  \n",
       "3                                             Canada                  \n",
       "4                                             Canada                  \n",
       "5                                             Canada                  \n",
       "6                                             Canada                  \n",
       "7                                             Canada                  \n",
       "8                                             Canada                  \n",
       "9                                             Canada                  \n",
       "\n",
       "  United Nations High Commissioner for Refugees Unnamed: 2 Unnamed: 3  \n",
       "0                                           NaN        NaN        NaN  \n",
       "1                                           NaN        NaN        NaN  \n",
       "2                                        Origin       Year      Value  \n",
       "3                                       Albania       1959         17  \n",
       "4                                       Austria       1959         17  \n",
       "5                                       Belgium       1959          2  \n",
       "6                                      Bulgaria       1959         35  \n",
       "7                                         China       1959          2  \n",
       "8                                    Czech Rep.       1959         36  \n",
       "9                                         Egypt       1959          5  "
      ]
     },
     "execution_count": 3,
     "metadata": {},
     "output_type": "execute_result"
    }
   ],
   "source": [
    "pd.read_csv(\"./data/Resettlements.csv\", low_memory=False).head(10)"
   ]
  },
  {
   "cell_type": "code",
   "execution_count": 4,
   "metadata": {},
   "outputs": [],
   "source": [
    "refug = pd.read_csv('data/Resettlements.csv', low_memory=False, skiprows=3)"
   ]
  },
  {
   "cell_type": "code",
   "execution_count": 5,
   "metadata": {},
   "outputs": [
    {
     "data": {
      "text/html": [
       "<div>\n",
       "<style scoped>\n",
       "    .dataframe tbody tr th:only-of-type {\n",
       "        vertical-align: middle;\n",
       "    }\n",
       "\n",
       "    .dataframe tbody tr th {\n",
       "        vertical-align: top;\n",
       "    }\n",
       "\n",
       "    .dataframe thead th {\n",
       "        text-align: right;\n",
       "    }\n",
       "</style>\n",
       "<table border=\"1\" class=\"dataframe\">\n",
       "  <thead>\n",
       "    <tr style=\"text-align: right;\">\n",
       "      <th></th>\n",
       "      <th>Country / territory of asylum/residence</th>\n",
       "      <th>Origin</th>\n",
       "      <th>Year</th>\n",
       "      <th>Value</th>\n",
       "    </tr>\n",
       "  </thead>\n",
       "  <tbody>\n",
       "    <tr>\n",
       "      <th>0</th>\n",
       "      <td>Canada</td>\n",
       "      <td>Albania</td>\n",
       "      <td>1959</td>\n",
       "      <td>17</td>\n",
       "    </tr>\n",
       "    <tr>\n",
       "      <th>1</th>\n",
       "      <td>Canada</td>\n",
       "      <td>Austria</td>\n",
       "      <td>1959</td>\n",
       "      <td>17</td>\n",
       "    </tr>\n",
       "    <tr>\n",
       "      <th>2</th>\n",
       "      <td>Canada</td>\n",
       "      <td>Belgium</td>\n",
       "      <td>1959</td>\n",
       "      <td>2</td>\n",
       "    </tr>\n",
       "    <tr>\n",
       "      <th>3</th>\n",
       "      <td>Canada</td>\n",
       "      <td>Bulgaria</td>\n",
       "      <td>1959</td>\n",
       "      <td>35</td>\n",
       "    </tr>\n",
       "    <tr>\n",
       "      <th>4</th>\n",
       "      <td>Canada</td>\n",
       "      <td>China</td>\n",
       "      <td>1959</td>\n",
       "      <td>2</td>\n",
       "    </tr>\n",
       "    <tr>\n",
       "      <th>5</th>\n",
       "      <td>Canada</td>\n",
       "      <td>Czech Rep.</td>\n",
       "      <td>1959</td>\n",
       "      <td>36</td>\n",
       "    </tr>\n",
       "    <tr>\n",
       "      <th>6</th>\n",
       "      <td>Canada</td>\n",
       "      <td>Egypt</td>\n",
       "      <td>1959</td>\n",
       "      <td>5</td>\n",
       "    </tr>\n",
       "    <tr>\n",
       "      <th>7</th>\n",
       "      <td>Canada</td>\n",
       "      <td>Estonia</td>\n",
       "      <td>1959</td>\n",
       "      <td>31</td>\n",
       "    </tr>\n",
       "    <tr>\n",
       "      <th>8</th>\n",
       "      <td>Canada</td>\n",
       "      <td>Finland</td>\n",
       "      <td>1959</td>\n",
       "      <td>3</td>\n",
       "    </tr>\n",
       "    <tr>\n",
       "      <th>9</th>\n",
       "      <td>Canada</td>\n",
       "      <td>France</td>\n",
       "      <td>1959</td>\n",
       "      <td>1</td>\n",
       "    </tr>\n",
       "  </tbody>\n",
       "</table>\n",
       "</div>"
      ],
      "text/plain": [
       "  Country / territory of asylum/residence      Origin  Year Value\n",
       "0                                  Canada     Albania  1959    17\n",
       "1                                  Canada     Austria  1959    17\n",
       "2                                  Canada     Belgium  1959     2\n",
       "3                                  Canada    Bulgaria  1959    35\n",
       "4                                  Canada       China  1959     2\n",
       "5                                  Canada  Czech Rep.  1959    36\n",
       "6                                  Canada       Egypt  1959     5\n",
       "7                                  Canada     Estonia  1959    31\n",
       "8                                  Canada     Finland  1959     3\n",
       "9                                  Canada      France  1959     1"
      ]
     },
     "execution_count": 5,
     "metadata": {},
     "output_type": "execute_result"
    }
   ],
   "source": [
    "refug.head(10)"
   ]
  },
  {
   "cell_type": "code",
   "execution_count": 26,
   "metadata": {},
   "outputs": [],
   "source": [
    "refug.rename(columns = {'Country / territory of asylum/residence' :  'End_Country', 'Value' : 'Resettlements'}, inplace=True)\n"
   ]
  },
  {
   "cell_type": "code",
   "execution_count": 27,
   "metadata": {},
   "outputs": [
    {
     "data": {
      "text/html": [
       "<div>\n",
       "<style scoped>\n",
       "    .dataframe tbody tr th:only-of-type {\n",
       "        vertical-align: middle;\n",
       "    }\n",
       "\n",
       "    .dataframe tbody tr th {\n",
       "        vertical-align: top;\n",
       "    }\n",
       "\n",
       "    .dataframe thead th {\n",
       "        text-align: right;\n",
       "    }\n",
       "</style>\n",
       "<table border=\"1\" class=\"dataframe\">\n",
       "  <thead>\n",
       "    <tr style=\"text-align: right;\">\n",
       "      <th></th>\n",
       "      <th>End_Country</th>\n",
       "      <th>Origin</th>\n",
       "      <th>Year</th>\n",
       "      <th>Resettlements</th>\n",
       "    </tr>\n",
       "  </thead>\n",
       "  <tbody>\n",
       "    <tr>\n",
       "      <th>0</th>\n",
       "      <td>Canada</td>\n",
       "      <td>Albania</td>\n",
       "      <td>1959</td>\n",
       "      <td>17</td>\n",
       "    </tr>\n",
       "    <tr>\n",
       "      <th>1</th>\n",
       "      <td>Canada</td>\n",
       "      <td>Austria</td>\n",
       "      <td>1959</td>\n",
       "      <td>17</td>\n",
       "    </tr>\n",
       "    <tr>\n",
       "      <th>2</th>\n",
       "      <td>Canada</td>\n",
       "      <td>Belgium</td>\n",
       "      <td>1959</td>\n",
       "      <td>2</td>\n",
       "    </tr>\n",
       "    <tr>\n",
       "      <th>3</th>\n",
       "      <td>Canada</td>\n",
       "      <td>Bulgaria</td>\n",
       "      <td>1959</td>\n",
       "      <td>35</td>\n",
       "    </tr>\n",
       "    <tr>\n",
       "      <th>4</th>\n",
       "      <td>Canada</td>\n",
       "      <td>China</td>\n",
       "      <td>1959</td>\n",
       "      <td>2</td>\n",
       "    </tr>\n",
       "    <tr>\n",
       "      <th>5</th>\n",
       "      <td>Canada</td>\n",
       "      <td>Czech Rep.</td>\n",
       "      <td>1959</td>\n",
       "      <td>36</td>\n",
       "    </tr>\n",
       "    <tr>\n",
       "      <th>6</th>\n",
       "      <td>Canada</td>\n",
       "      <td>Egypt</td>\n",
       "      <td>1959</td>\n",
       "      <td>5</td>\n",
       "    </tr>\n",
       "    <tr>\n",
       "      <th>7</th>\n",
       "      <td>Canada</td>\n",
       "      <td>Estonia</td>\n",
       "      <td>1959</td>\n",
       "      <td>31</td>\n",
       "    </tr>\n",
       "    <tr>\n",
       "      <th>8</th>\n",
       "      <td>Canada</td>\n",
       "      <td>Finland</td>\n",
       "      <td>1959</td>\n",
       "      <td>3</td>\n",
       "    </tr>\n",
       "    <tr>\n",
       "      <th>9</th>\n",
       "      <td>Canada</td>\n",
       "      <td>France</td>\n",
       "      <td>1959</td>\n",
       "      <td>1</td>\n",
       "    </tr>\n",
       "  </tbody>\n",
       "</table>\n",
       "</div>"
      ],
      "text/plain": [
       "  End_Country      Origin  Year  Resettlements\n",
       "0      Canada     Albania  1959             17\n",
       "1      Canada     Austria  1959             17\n",
       "2      Canada     Belgium  1959              2\n",
       "3      Canada    Bulgaria  1959             35\n",
       "4      Canada       China  1959              2\n",
       "5      Canada  Czech Rep.  1959             36\n",
       "6      Canada       Egypt  1959              5\n",
       "7      Canada     Estonia  1959             31\n",
       "8      Canada     Finland  1959              3\n",
       "9      Canada      France  1959              1"
      ]
     },
     "execution_count": 27,
     "metadata": {},
     "output_type": "execute_result"
    }
   ],
   "source": [
    "#Remove all non-numeric values from \"Value\" column\n",
    "refug['Resettlements'] = pd.to_numeric(refug['Resettlements'], errors='coerce')\n",
    "#Drop all rows with Null values \n",
    "refug = refug.dropna(subset=['Resettlements'])\n",
    "#Convert \"Value\" varible to integer\n",
    "refug['Resettlements'] = refug['Resettlements'].astype(int)\n",
    "refug['Year'] = refug['Year'].astype(int)\n",
    "refug.head(10)"
   ]
  },
  {
   "cell_type": "code",
   "execution_count": 28,
   "metadata": {},
   "outputs": [
    {
     "data": {
      "text/plain": [
       "End_Country      object\n",
       "Origin           object\n",
       "Year              int64\n",
       "Resettlements     int64\n",
       "dtype: object"
      ]
     },
     "execution_count": 28,
     "metadata": {},
     "output_type": "execute_result"
    }
   ],
   "source": [
    "refug.dtypes"
   ]
  },
  {
   "cell_type": "code",
   "execution_count": 33,
   "metadata": {},
   "outputs": [],
   "source": [
    "import ipywidgets as widgets\n",
    "import matplotlib.ticker as ticker\n",
    "#Graph depicting number of refugees over years by orgin\n",
    "def plot_Resettlements(dataframe, Origin): \n",
    "    I = dataframe['Origin'] == Origin\n",
    "    \n",
    "    ax=dataframe.loc[I,:].groupby(['Year'])['Resettlements'].sum().plot(x='Year', y='Resettlements', style='-o', legend='False') #Aggregate on yearly level to get total refugees per year. \n",
    "    ax.xaxis.set_major_formatter(ticker.FormatStrFormatter(\"%d\"))\n",
    "    ax.get_yaxis().get_major_formatter().set_scientific(False)\n",
    "    ax.set_title(\"Total number of resettlements by Origin Country\")\n",
    "    ax.set_ylabel(\"Number of resettlements\")\n"
   ]
  },
  {
   "cell_type": "code",
   "execution_count": 34,
   "metadata": {},
   "outputs": [
    {
     "data": {
      "application/vnd.jupyter.widget-view+json": {
       "model_id": "891211fa141b4beda33dcfbac83688d4",
       "version_major": 2,
       "version_minor": 0
      },
      "text/plain": [
       "interactive(children=(Dropdown(description='Origin', index=45, options=('Albania', 'Austria', 'Belgium', 'Bulg…"
      ]
     },
     "metadata": {},
     "output_type": "display_data"
    }
   ],
   "source": [
    "    widgets.interact(plot_Resettlements, \n",
    "    dataframe = widgets.fixed(refug),\n",
    "    Origin = widgets.Dropdown(description='Origin', options=refug.Origin.unique(), value='Afghanistan')\n",
    ");"
   ]
  },
  {
   "cell_type": "code",
   "execution_count": 35,
   "metadata": {},
   "outputs": [],
   "source": [
    "#Graph depicting number of refugees over years by End_Country\n",
    "def plot_ResettlementsEND(dataframe, End_Country): \n",
    "    L = dataframe['End_Country'] == End_Country\n",
    "    \n",
    "    ax2=dataframe.loc[L,:].groupby(['Year'])['Resettlements'].sum().plot(x='Year', y='Resettlements', style='-o', legend='False') #Aggregate on yearly level to get total refugees per year. \n",
    "    ax2.get_yaxis().get_major_formatter().set_scientific(False)\n",
    "    ax2.xaxis.set_major_formatter(ticker.FormatStrFormatter(\"%d\"))\n",
    "    ax2.set_title(\"Total number of resettlements by End Country\")\n",
    "    ax2.set_ylabel(\"Number of resetlements\")\n"
   ]
  },
  {
   "cell_type": "code",
   "execution_count": 36,
   "metadata": {},
   "outputs": [
    {
     "data": {
      "application/vnd.jupyter.widget-view+json": {
       "model_id": "4d92093bca114d5db37dbbb426df124c",
       "version_major": 2,
       "version_minor": 0
      },
      "text/plain": [
       "interactive(children=(Dropdown(description='End_Country', index=2, options=('Canada', 'Belgium', 'Australia', …"
      ]
     },
     "metadata": {},
     "output_type": "display_data"
    }
   ],
   "source": [
    "  widgets.interact(plot_ResettlementsEND, \n",
    "    dataframe = widgets.fixed(refug),\n",
    "    End_Country = widgets.Dropdown(description='End_Country', options=refug.End_Country.unique(), value='Australia')\n",
    ");"
   ]
  },
  {
   "cell_type": "code",
   "execution_count": null,
   "metadata": {},
   "outputs": [],
   "source": []
  },
  {
   "cell_type": "code",
   "execution_count": null,
   "metadata": {},
   "outputs": [],
   "source": []
  },
  {
   "cell_type": "code",
   "execution_count": null,
   "metadata": {},
   "outputs": [],
   "source": []
  },
  {
   "cell_type": "code",
   "execution_count": null,
   "metadata": {},
   "outputs": [],
   "source": []
  },
  {
   "cell_type": "code",
   "execution_count": null,
   "metadata": {},
   "outputs": [],
   "source": []
  },
  {
   "cell_type": "code",
   "execution_count": null,
   "metadata": {},
   "outputs": [],
   "source": []
  },
  {
   "cell_type": "code",
   "execution_count": null,
   "metadata": {},
   "outputs": [],
   "source": []
  }
 ],
 "metadata": {
  "kernelspec": {
   "display_name": "Python 3",
   "language": "python",
   "name": "python3"
  },
  "language_info": {
   "codemirror_mode": {
    "name": "ipython",
    "version": 3
   },
   "file_extension": ".py",
   "mimetype": "text/x-python",
   "name": "python",
   "nbconvert_exporter": "python",
   "pygments_lexer": "ipython3",
   "version": "3.7.1"
  }
 },
 "nbformat": 4,
 "nbformat_minor": 2
}
