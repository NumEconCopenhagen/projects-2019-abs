{
 "cells": [
  {
   "cell_type": "code",
   "execution_count": 34,
   "metadata": {},
   "outputs": [],
   "source": [
    "#Import relevant packages\n",
    "from scipy.optimize import fsolve\n",
    "import math\n",
    "import numpy as np\n",
    "import matplotlib.pyplot as plt\n",
    "import random\n",
    "import ipywidgets as widgets\n",
    "from matplotlib.pyplot import *\n",
    "from IPython.display import display, clear_output\n",
    "import copy"
   ]
  },
  {
   "cell_type": "code",
   "execution_count": 35,
   "metadata": {},
   "outputs": [],
   "source": [
    "#For pretty printing\n",
    "sm.init_printing(use_unicode=True)"
   ]
  },
  {
   "cell_type": "code",
   "execution_count": 36,
   "metadata": {},
   "outputs": [],
   "source": [
    "#Define symbols\n",
    "v_t = symbols('v_t')\n",
    "y_t = symbols('y_t')\n",
    "y_lag = symbols('y_t-1')\n",
    "pi_t = symbols('pi_t')\n",
    "pi_lag = symbols('pi_t-1')\n",
    "s_t = symbols('s_t')\n",
    "s_lag = symbols('s_t-1')"
   ]
  },
  {
   "cell_type": "code",
   "execution_count": 37,
   "metadata": {},
   "outputs": [],
   "source": [
    "#y_t = np.array(range(100))"
   ]
  },
  {
   "cell_type": "code",
   "execution_count": 38,
   "metadata": {},
   "outputs": [],
   "source": [
    "#Set parameter values \n",
    "alpha = 5.76\n",
    "h = 0.5\n",
    "b = 0.5\n",
    "phi = 0\n",
    "gamma = 0.075"
   ]
  },
  {
   "cell_type": "code",
   "execution_count": 39,
   "metadata": {},
   "outputs": [],
   "source": [
    "AD = sm.Eq(pi_t, (1/(h*alpha))*(v_t-(1+b*alpha)*y_t))\n",
    "SRAS = sm.Eq(pi_t, (pi_lag+gamma*y_t-phi*gamma*y_lag+s_t-phi*s_lag))"
   ]
  },
  {
   "cell_type": "code",
   "execution_count": 40,
   "metadata": {},
   "outputs": [
    {
     "data": {
      "image/png": "[encoded data removed]",
      "text/latex": [
       "$$\\left \\{ \\pi_{t} : 0.947265625 \\pi_{t-1} + 0.947265625 s_{t} + 0.018310546875 v_{t}, \\quad y_{t} : - 0.703125 \\pi_{t-1} - 0.703125 s_{t} + 0.244140625 v_{t}\\right \\}$$"
      ],
      "text/plain": [
       "{πₜ: 0.947265625⋅πₜ₋₁ + 0.947265625⋅sₜ + 0.018310546875⋅vₜ, yₜ: -0.703125⋅πₜ₋₁\n",
       " - 0.703125⋅sₜ + 0.244140625⋅vₜ}"
      ]
     },
     "execution_count": 40,
     "metadata": {},
     "output_type": "execute_result"
    }
   ],
   "source": [
    "EQ = sm.solve((AD, SRAS), (pi_t,y_t))\n",
    "EQ"
   ]
  },
  {
   "cell_type": "markdown",
   "metadata": {},
   "source": [
    "**Question 2:** Find and illustrate the equilibrium when $y_{t-1} = \\pi_{t-1} = v_t = s_t = s_{t-1} = 0$. Illustrate how the equilibrium changes when instead $v_t = 0.1$."
   ]
  },
  {
   "cell_type": "code",
   "execution_count": 41,
   "metadata": {},
   "outputs": [
    {
     "data": {
      "image/png": "[encoded data removed]",
      "text/latex": [
       "$$\\pi_{t} = - 44.6976 y_{t}$$"
      ],
      "text/plain": [
       "πₜ = -44.6976⋅yₜ"
      ]
     },
     "execution_count": 41,
     "metadata": {},
     "output_type": "execute_result"
    }
   ],
   "source": [
    "#Define new AD and SRAS according to the new values for the variables\n",
    "AD2 = sm.Eq(pi_t, ((-1/h*alpha)*((1+b*alpha)*y_t)))\n",
    "SRAS2 = sm.Eq(pi_t, (gamma*y_t))\n",
    "AD2"
   ]
  },
  {
   "cell_type": "code",
   "execution_count": 42,
   "metadata": {},
   "outputs": [
    {
     "data": {
      "image/png": "[encoded data removed]",
      "text/latex": [
       "$$\\left \\{ \\pi_{t} : 0.0, \\quad y_{t} : 0.0\\right \\}$$"
      ],
      "text/plain": [
       "{πₜ: 0.0, yₜ: 0.0}"
      ]
     },
     "execution_count": 42,
     "metadata": {},
     "output_type": "execute_result"
    }
   ],
   "source": [
    "#Solve the new equilibrium\n",
    "EQ2 = sm.solve((AD2, SRAS2), (pi_t, y_t))\n",
    "EQ2"
   ]
  },
  {
   "cell_type": "code",
   "execution_count": 43,
   "metadata": {},
   "outputs": [
    {
     "data": {
      "image/png": "[encoded data removed]",
      "text/latex": [
       "$$\\left \\{ \\pi_{t} : 0.00192975167848193, \\quad y_{t} : 0.025730022379759\\right \\}$$"
      ],
      "text/plain": [
       "{πₜ: 0.00192975167848193, yₜ: 0.025730022379759}"
      ]
     },
     "execution_count": 43,
     "metadata": {},
     "output_type": "execute_result"
    }
   ],
   "source": [
    "#Set v_t equal to 0.1\n",
    "v_t = 0.1\n",
    "\n",
    "#Define AD and SRAS according to new value for the demand disturbance\n",
    "AD3 = sm.Eq(pi_t, ((1/h*alpha)*(v_t-(1+b*alpha)*y_t)))\n",
    "SRAS3 = sm.Eq(pi_t, (gamma*y_t))\n",
    "\n",
    "EQ3 = sm.solve((AD3, SRAS3), (pi_t, y_t))\n",
    "EQ3"
   ]
  },
  {
   "cell_type": "markdown",
   "metadata": {},
   "source": [
    "### The AD2 and SARS2 curve graphically"
   ]
  },
  {
   "cell_type": "code",
   "execution_count": 89,
   "metadata": {},
   "outputs": [],
   "source": [
    "#Define AD2-curve as a function:\n",
    "def AD2(y_t):\n",
    "    return (1/(h*alpha))*(v_t-(1+b*alpha)*y_t)\n",
    "\n",
    "#Choose parametervalues for now. \n",
    "v_t = 0\n",
    "alpha = 5.76\n",
    "h = 0.5\n",
    "b = 0.5\n",
    "phi = 0\n",
    "gamma = 0.075"
   ]
  },
  {
   "cell_type": "code",
   "execution_count": 90,
   "metadata": {},
   "outputs": [],
   "source": [
    "#Define AD2-curve as a function:\n",
    "def SARS2(y_t):\n",
    "    return (gamma*y_t)"
   ]
  },
  {
   "cell_type": "code",
   "execution_count": 99,
   "metadata": {},
   "outputs": [
    {
     "data": {
      "text/plain": [
       "<function matplotlib.pyplot.show(*args, **kw)>"
      ]
     },
     "execution_count": 99,
     "metadata": {},
     "output_type": "execute_result"
    },
    {
     "data": {
      "image/png": "[encoded data removed]",
      "text/plain": [
       "<Figure size 432x288 with 1 Axes>"
      ]
     },
     "metadata": {
      "needs_background": "light"
     },
     "output_type": "display_data"
    }
   ],
   "source": [
    "#Show both the AD2 curve and the SARS curve in the same graph:\n",
    "z = np.linspace(-2,2,5)\n",
    "w=AD2(z)\n",
    "x = np.linspace(-2,2,5)\n",
    "y = SARS2(x)\n",
    "plt.plot(z,w,\"r\",label='AD2-curve')\n",
    "plt.plot(x,y,\"b\",label='SARS2-curve')\n",
    "plt.legend()\n",
    "plt.suptitle('AS-AD')\n",
    "plt.xlabel('Output (y)')\n",
    "plt.ylabel('Inflation $(\\pi)$')\n",
    "\n",
    "plt.legend()\n",
    "plt.show\n"
   ]
  },
  {
   "cell_type": "markdown",
   "metadata": {},
   "source": [
    "### The AD3 and SARS3 curve graphically"
   ]
  },
  {
   "cell_type": "code",
   "execution_count": 92,
   "metadata": {},
   "outputs": [],
   "source": [
    "#Define the AD2-curve as a function:\n",
    "def AD3(y_t):\n",
    "    return (1/h*alpha)*(v_t-(1+b*alpha)*y_t)\n",
    "\n",
    "#Choose parametervalues for now. \n",
    "alpha = 5.76\n",
    "h = 0.5\n",
    "b = 0.5\n",
    "phi = 0\n",
    "gamma = 0.075\n",
    "v_t = 0.1"
   ]
  },
  {
   "cell_type": "code",
   "execution_count": 93,
   "metadata": {},
   "outputs": [],
   "source": [
    "#Define the AD3-curve as a function:\n",
    "def SARS3(y_t):\n",
    "    return (gamma*y_t)"
   ]
  },
  {
   "cell_type": "code",
   "execution_count": 98,
   "metadata": {},
   "outputs": [
    {
     "data": {
      "text/plain": [
       "<function matplotlib.pyplot.show(*args, **kw)>"
      ]
     },
     "execution_count": 98,
     "metadata": {},
     "output_type": "execute_result"
    },
    {
     "data": {
      "image/png": "[encoded data removed]",
      "text/plain": [
       "<Figure size 432x288 with 1 Axes>"
      ]
     },
     "metadata": {
      "needs_background": "light"
     },
     "output_type": "display_data"
    }
   ],
   "source": [
    "#Show both the AD2 curve and the SARS curve in the same graph:\n",
    "z = np.linspace(-2,2,5)\n",
    "w=AD3(z)\n",
    "x = np.linspace(-2,2,5)\n",
    "y = SARS3(x)\n",
    "plt.plot(z,w,\"r\",label='AD3-curve')\n",
    "plt.plot(x,y,\"b\",label='SARS3-curve')\n",
    "plt.legend()\n",
    "plt.suptitle('AS-AD')\n",
    "plt.xlabel('Output (y)')\n",
    "plt.ylabel('Inflation $(\\pi)$')\n",
    "\n",
    "\n",
    "\n",
    "plt.legend()\n",
    "plt.show"
   ]
  },
  {
   "cell_type": "code",
   "execution_count": null,
   "metadata": {},
   "outputs": [],
   "source": []
  }
 ],
 "metadata": {
  "kernelspec": {
   "display_name": "Python 3",
   "language": "python",
   "name": "python3"
  },
  "language_info": {
   "codemirror_mode": {
    "name": "ipython",
    "version": 3
   },
   "file_extension": ".py",
   "mimetype": "text/x-python",
   "name": "python",
   "nbconvert_exporter": "python",
   "pygments_lexer": "ipython3",
   "version": "3.7.1"
  }
 },
 "nbformat": 4,
 "nbformat_minor": 2
}
