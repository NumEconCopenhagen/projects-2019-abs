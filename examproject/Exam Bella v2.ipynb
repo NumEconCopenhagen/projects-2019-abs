{
 "cells": [
  {
   "cell_type": "code",
   "execution_count": 211,
   "metadata": {},
   "outputs": [],
   "source": [
    "#Import relevant packages\n",
    "import numpy as np\n",
    "import sympy as sm\n",
    "from sympy import symbols, Eq, solve\n",
    "from scipy.optimize import fsolve\n",
    "import math\n",
    "import matplotlib.pyplot as plt"
   ]
  },
  {
   "cell_type": "code",
   "execution_count": 212,
   "metadata": {},
   "outputs": [],
   "source": [
    "#For pretty printing\n",
    "sm.init_printing(use_unicode=True)"
   ]
  },
  {
   "cell_type": "code",
   "execution_count": 213,
   "metadata": {},
   "outputs": [],
   "source": [
    "par = {}\n",
    "\n",
    "par['alpha'] = 5.76\n",
    "par['h'] = 0.5\n",
    "par['b'] = 0.5\n",
    "par['phi'] = 0\n",
    "par['gamma'] = 0.075"
   ]
  },
  {
   "cell_type": "code",
   "execution_count": 214,
   "metadata": {},
   "outputs": [],
   "source": [
    "#Define symbols\n",
    "v_t = sm.symbols('v_t')\n",
    "v_lag = sm.symbols('v_t-1')\n",
    "y_t = sm.symbols('y_t')\n",
    "y_lag = sm.symbols('y_t-1')\n",
    "pi_t = sm.symbols('pi_t')\n",
    "pi_lag = sm.symbols('pi_t-1')\n",
    "s_t = sm.symbols('s_t')\n",
    "s_lag = sm.symbols('s_t-1')\n",
    "alpha = sm.symbols('alpha')\n",
    "h = sm.symbols('h')\n",
    "b = sm.symbols('b')\n",
    "phi = sm.symbols('phi')\n",
    "gamma = sm.symbols('gamma')\n",
    "x_t = sm.symbols('x_t')\n",
    "c_t = sm.symbols('c_t')"
   ]
  },
  {
   "cell_type": "code",
   "execution_count": 215,
   "metadata": {},
   "outputs": [
    {
     "data": {
      "image/png": "[encoded data removed]",
      "text/latex": [
       "$$\\left ( \\pi_{t} = \\frac{v_{t} - y_{t} \\left(\\alpha b + 1\\right)}{\\alpha h}, \\quad \\pi_{t} = - \\gamma \\phi y_{t-1} + \\gamma y_{t} - \\phi s_{t-1} + \\pi_{t-1} + s_{t}\\right )$$"
      ],
      "text/plain": [
       "⎛     vₜ - yₜ⋅(α⋅b + 1)                                            ⎞\n",
       "⎜πₜ = ─────────────────, πₜ = -γ⋅φ⋅yₜ₋₁ + γ⋅yₜ - φ⋅sₜ₋₁ + πₜ₋₁ + sₜ⎟\n",
       "⎝            α⋅h                                                   ⎠"
      ]
     },
     "execution_count": 215,
     "metadata": {},
     "output_type": "execute_result"
    }
   ],
   "source": [
    "#Define the AD- and the SRAS-curve\n",
    "AD = sm.Eq(pi_t, (1/(h*alpha))*(v_t-(1+b*alpha)*y_t))\n",
    "SRAS = sm.Eq(pi_t, (pi_lag+gamma*y_t-phi*gamma*y_lag+s_t-phi*s_lag))\n",
    "AD, SRAS"
   ]
  },
  {
   "cell_type": "code",
   "execution_count": 216,
   "metadata": {},
   "outputs": [
    {
     "data": {
      "image/png": "[encoded data removed]",
      "text/latex": [
       "$$\\left \\{ \\pi_{t} : \\frac{v_{t} \\left(\\alpha b + \\alpha \\gamma h + 1\\right) - \\left(\\alpha b + 1\\right) \\left(\\alpha h \\left(\\gamma \\phi y_{t-1} + \\phi s_{t-1} - \\pi_{t-1} - s_{t}\\right) + v_{t}\\right)}{\\alpha h \\left(\\alpha b + \\alpha \\gamma h + 1\\right)}, \\quad y_{t} : \\frac{\\alpha h \\left(\\gamma \\phi y_{t-1} + \\phi s_{t-1} - \\pi_{t-1} - s_{t}\\right) + v_{t}}{\\alpha b + \\alpha \\gamma h + 1}\\right \\}$$"
      ],
      "text/plain": [
       "⎧    vₜ⋅(α⋅b + α⋅γ⋅h + 1) - (α⋅b + 1)⋅(α⋅h⋅(γ⋅φ⋅yₜ₋₁ + φ⋅sₜ₋₁ - πₜ₋₁ - sₜ) + v\n",
       "⎨πₜ: ─────────────────────────────────────────────────────────────────────────\n",
       "⎩                               α⋅h⋅(α⋅b + α⋅γ⋅h + 1)                         \n",
       "\n",
       "ₜ)      α⋅h⋅(γ⋅φ⋅yₜ₋₁ + φ⋅sₜ₋₁ - πₜ₋₁ - sₜ) + vₜ⎫\n",
       "──, yₜ: ────────────────────────────────────────⎬\n",
       "                    α⋅b + α⋅γ⋅h + 1             ⎭"
      ]
     },
     "execution_count": 216,
     "metadata": {},
     "output_type": "execute_result"
    }
   ],
   "source": [
    "#Solve equilibrium\n",
    "EQ = sm.solve((AD, SRAS), (pi_t,y_t))\n",
    "\n",
    "#Display result\n",
    "EQ"
   ]
  },
  {
   "cell_type": "code",
   "execution_count": 217,
   "metadata": {},
   "outputs": [],
   "source": [
    "#Vi skal finde ud af, om vi også vil vise den numeriske løsning her."
   ]
  },
  {
   "cell_type": "code",
   "execution_count": 218,
   "metadata": {},
   "outputs": [],
   "source": [
    "#Use previously given parameter values\n",
    "alpha = par['alpha']\n",
    "h = par['h']\n",
    "b = par['b']\n",
    "phi = par['phi']\n",
    "gamma = par['gamma']"
   ]
  },
  {
   "cell_type": "markdown",
   "metadata": {},
   "source": [
    "**Question 2:** Find and illustrate the equilibrium when $y_{t-1} = \\pi_{t-1} = v_t = s_t = s_{t-1} = 0$. Illustrate how the equilibrium changes when instead $v_t = 0.1$."
   ]
  },
  {
   "cell_type": "code",
   "execution_count": 219,
   "metadata": {},
   "outputs": [
    {
     "ename": "SyntaxError",
     "evalue": "invalid syntax (<ipython-input-219-88cb82ef8340>, line 3)",
     "output_type": "error",
     "traceback": [
      "\u001b[0;36m  File \u001b[0;32m\"<ipython-input-219-88cb82ef8340>\"\u001b[0;36m, line \u001b[0;32m3\u001b[0m\n\u001b[0;31m    _SRAS = sm.Eq(pi_t, (gamma*y_t))\u001b[0m\n\u001b[0m        ^\u001b[0m\n\u001b[0;31mSyntaxError\u001b[0m\u001b[0;31m:\u001b[0m invalid syntax\n"
     ]
    }
   ],
   "source": [
    "#Define new AD-curve and SRAS-curve according to the new values for the variables\n",
    "_AD = sm.Eq(pi_t, ((-1/h*alpha)*((1+b*alpha*y_t)))\n",
    "_SRAS = sm.Eq(pi_t, (gamma*y_t))"
   ]
  },
  {
   "cell_type": "code",
   "execution_count": 220,
   "metadata": {},
   "outputs": [
    {
     "data": {
      "image/png": "[encoded data removed]",
      "text/latex": [
       "$$\\left \\{ \\pi_{t} : 0.0, \\quad y_{t} : 0.0\\right \\}$$"
      ],
      "text/plain": [
       "{πₜ: 0.0, yₜ: 0.0}"
      ]
     },
     "execution_count": 220,
     "metadata": {},
     "output_type": "execute_result"
    }
   ],
   "source": [
    "#Solve the new equilibrium\n",
    "_EQ = sm.solve((_AD, _SRAS), (pi_t, y_t))\n",
    "\n",
    "#Display result\n",
    "_EQ"
   ]
  },
  {
   "cell_type": "code",
   "execution_count": 221,
   "metadata": {},
   "outputs": [
    {
     "data": {
      "image/png": "[encoded data removed]",
      "text/latex": [
       "$$\\left \\{ \\pi_{t} : 0.00192975167848193, \\quad y_{t} : 0.025730022379759\\right \\}$$"
      ],
      "text/plain": [
       "{πₜ: 0.00192975167848193, yₜ: 0.025730022379759}"
      ]
     },
     "execution_count": 221,
     "metadata": {},
     "output_type": "execute_result"
    }
   ],
   "source": [
    "#Set v_t equal to 0.1\n",
    "v_t = 0.1\n",
    "\n",
    "#Define the AD-curve according to new value for the demand disturbance\n",
    "newAD = sm.Eq(pi_t, ((1/h*alpha)*(v_t-(1+b*alpha)*y_t)))\n",
    "\n",
    "#Solve the new equilibrium\n",
    "newEQ = sm.solve((newAD, _SRAS), (pi_t, y_t))\n",
    "\n",
    "#Display result\n",
    "newEQ"
   ]
  },
  {
   "cell_type": "code",
   "execution_count": 222,
   "metadata": {},
   "outputs": [],
   "source": [
    "#Defining functions in order to display result graphically\n",
    "def SRAS(y_t):\n",
    "    return gamma*y_t\n",
    "    \n",
    "def AD(y_t):\n",
    "    return (-1/h*alpha)*((1+b*alpha)*y_t)\n",
    "\n",
    "def newAD(y_t):\n",
    "    return (1/h*alpha)*(v_t-(1+b*alpha)*y_t)\n",
    "\n",
    "# Create best response to multiple q values\n",
    "x = np.linspace(-0.05,0.05,100)\n",
    "SRAS = SRAS(x)\n",
    "y = np.linspace(-0.05,0.05,100)\n",
    "AD = AD(y)\n",
    "z = np.linspace(-0.05,0.05,100)\n",
    "newAD = newAD(z)"
   ]
  },
  {
   "cell_type": "code",
   "execution_count": 223,
   "metadata": {},
   "outputs": [
    {
     "data": {
      "image/png": "[encoded data removed]",
      "text/plain": [
       "<Figure size 432x288 with 1 Axes>"
      ]
     },
     "metadata": {
      "needs_background": "light"
     },
     "output_type": "display_data"
    }
   ],
   "source": [
    "fig = plt.figure()\n",
    "ax = fig.add_subplot(1,1,1)\n",
    "ax.plot(x,SRAS,\"m\",label='SRAS')\n",
    "ax.plot(y,AD,\"c\",label='AD')\n",
    "ax.plot(z,newAD,\"r\",label='newAD')\n",
    "ax.legend()\n",
    "ax.grid()\n",
    "ax.set_xlabel('Outputgap $y_t$')\n",
    "ax.set_ylabel('Inflationgap $\\pi_t$')\n",
    "ax.set_title('Graphical illustration, Q2')\n",
    "ax.set_xlim([-0.1,0.1])\n",
    "ax.set_ylim([-0.1,0.1]);"
   ]
  },
  {
   "cell_type": "code",
   "execution_count": 224,
   "metadata": {},
   "outputs": [
    {
     "data": {
      "text/plain": [
       "<function matplotlib.pyplot.show(*args, **kw)>"
      ]
     },
     "execution_count": 224,
     "metadata": {},
     "output_type": "execute_result"
    },
    {
     "data": {
      "image/png": "[encoded data removed]",
      "text/plain": [
       "<Figure size 432x288 with 1 Axes>"
      ]
     },
     "metadata": {
      "needs_background": "light"
     },
     "output_type": "display_data"
    }
   ],
   "source": [
    "\n",
    "# Plot results\n",
    "plt.plot(x,SRAS,\"m\",label='SRAS')\n",
    "plt.plot(y,AD,\"c\",label='AD')\n",
    "plt.plot(z,newAD,\"r\",label='newAD')\n",
    "plt.legend()\n",
    "plt.xlabel('Outputgap, $y_t$')\n",
    "plt.ylabel('Inflationgap, $\\pi_t$')\n",
    "plt.title('Graphical solution, Q2')\n",
    "plt.grid()\n",
    "plt.show\n",
    "\n",
    "\n",
    "#### Jeg kunne godt tænke mig at rangen på y-aksen er mindre, så SRAS-kurven ikke ligner den er lig 0\n",
    "### Men det er som om jeg ikke rigtig kan få det fikset\n",
    "### Hvis én vil kigge på det, vil det være fedt!"
   ]
  },
  {
   "cell_type": "markdown",
   "metadata": {},
   "source": [
    "**Persistent disturbances:** Now, additionaly, assume that both the demand and the supply disturbances are AR(1) processes\n",
    "\n",
    "$$ v_{t} = \\delta v_{t-1} + x_{t} $$\n",
    "$$ s_{t} = \\omega s_{t-1} + c_{t} $$\n",
    "\n",
    "where $x_{t}$ is a **demand shock**, and $c_t$ is a **supply shock**. The **autoregressive parameters** are:"
   ]
  },
  {
   "cell_type": "code",
   "execution_count": 225,
   "metadata": {},
   "outputs": [],
   "source": [
    "par['delta'] = 0.80\n",
    "par['omega'] = 0.15"
   ]
  },
  {
   "cell_type": "markdown",
   "metadata": {},
   "source": [
    "**Question 3:** Starting from $y_{-1} = \\pi_{-1} = s_{-1} = 0$, how does the economy evolve for $x_0 = 0.1$, $x_t = 0, \\forall t > 0$ and $c_t = 0, \\forall t \\geq 0$?"
   ]
  },
  {
   "cell_type": "code",
   "execution_count": 230,
   "metadata": {},
   "outputs": [],
   "source": [
    "#Define disturbances\n",
    "\n",
    "def v_t(v_lag, x_t):\n",
    "    return par['delta']*v_lag+x_t\n",
    "\n",
    "def s_t(s_lag,c_t):\n",
    "    return par['omega']*s_lag+c_t"
   ]
  },
  {
   "cell_type": "code",
   "execution_count": null,
   "metadata": {},
   "outputs": [],
   "source": []
  }
 ],
 "metadata": {
  "kernelspec": {
   "display_name": "Python 3",
   "language": "python",
   "name": "python3"
  },
  "language_info": {
   "codemirror_mode": {
    "name": "ipython",
    "version": 3
   },
   "file_extension": ".py",
   "mimetype": "text/x-python",
   "name": "python",
   "nbconvert_exporter": "python",
   "pygments_lexer": "ipython3",
   "version": "3.7.1"
  }
 },
 "nbformat": 4,
 "nbformat_minor": 2
}
