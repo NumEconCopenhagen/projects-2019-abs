{
 "cells": [
  {
   "cell_type": "markdown",
   "metadata": {},
   "source": [
    "# Cournot Competition with and without Collusion\n"
   ]
  },
  {
   "cell_type": "markdown",
   "metadata": {},
   "source": [
    "In this notebook, we work with two competing firms operating under Cournot competition known from Micro II, Micro III and Industrial Organization. First, we solve the simple standard model and afterwards we look into what happens when the model is extended so that the firms collude."
   ]
  },
  {
   "cell_type": "markdown",
   "metadata": {},
   "source": [
    "## Cournot Competition"
   ]
  },
  {
   "cell_type": "markdown",
   "metadata": {},
   "source": [
    "When firms compete in quantities, we have Cournot competition. In this notebook we stick to the simplest setup with two firms, i.e. we have a duopoly. The two firms simultaneously decide their output, and since the two firms have market power, the chosen quantities will determine the price. Both firms seek to maximize their profit given the decision of the other firm. The Cournot model can be extended in different ways. In this notebook we will look into what happens when firms collude, meaning that the two firms agree on a specific strategy."
   ]
  },
  {
   "cell_type": "markdown",
   "metadata": {},
   "source": [
    "## The Standard Model"
   ]
  },
  {
   "cell_type": "markdown",
   "metadata": {},
   "source": [
    "### General Assumptions"
   ]
  },
  {
   "cell_type": "markdown",
   "metadata": {},
   "source": [
    "The two firms produce a homogeneous product, and thus the consumers see them as perfect substitutes.\n",
    "\n",
    "The two firms have the same costs, which are $c(q)$, and the marginal costs are constant and equal to c, i.e. $mc = c$.\n",
    "\n",
    "The two firms are facing the same overall demand from consumers.\n",
    "\n",
    "The model consists of: the demand functions, the profit functions and the reaction functions."
   ]
  },
  {
   "cell_type": "markdown",
   "metadata": {},
   "source": [
    "### The Demand Function"
   ]
  },
  {
   "cell_type": "markdown",
   "metadata": {},
   "source": [
    "Firm 1 produces and amount equal to $q_1$, whereas firm 2 produces $q_2$. The total demand in the economy is represented by the sum of each firm's individual supply, and is thus: \n",
    "\n",
    "$$Q = q_1+q_2$$\n",
    "\n",
    "The inverse linear demand function is given by \n",
    "\n",
    "$$p = a - b(q_1+q_2)$$\n",
    "\n",
    "where $a$ and $b$ are positive parameters."
   ]
  },
  {
   "cell_type": "markdown",
   "metadata": {},
   "source": [
    "### The Profit Function\n",
    "\n",
    "The profit function is total revenue less total costs. The price is linear, and more of both goods decreases the price.\n",
    "\n",
    "$$\\pi_1=pq_1-cq_1$$"
   ]
  },
  {
   "cell_type": "markdown",
   "metadata": {},
   "source": [
    "where $p$ is given above as the inverse demand function. "
   ]
  },
  {
   "cell_type": "markdown",
   "metadata": {},
   "source": [
    "If we plug in the expression for $p$, we can rewrite the profit function and get:\n",
    "\n",
    "$$\\pi_1=[a-b(q_1+q_2)]q_1-cq_1$$"
   ]
  },
  {
   "cell_type": "markdown",
   "metadata": {},
   "source": [
    "As the two firms are symmetric, the profit for firm 2 will be equivalent."
   ]
  },
  {
   "cell_type": "markdown",
   "metadata": {},
   "source": [
    "Notice that the profit of firm one depends on the amount of goods company two produces."
   ]
  },
  {
   "cell_type": "markdown",
   "metadata": {},
   "source": [
    "### The Reaction Function"
   ]
  },
  {
   "cell_type": "markdown",
   "metadata": {},
   "source": [
    "The reaction functions show how much each firm produces given the other firms output.\n",
    "\n",
    "To find the reaction functions, we optimize the profit function for firm 1 with respect to the quantity $q_1$:\n",
    "\n",
    "\\begin{equation*}\n",
    "\\begin{aligned}\n",
    "\\frac{\\partial \\pi_1}{\\partial q_1} = a -2bq_1-bq_2-c = 0\n",
    "\\end{aligned}\n",
    "\\end{equation*}\n",
    "\n",
    "We solve for $q_1$ to get the reaction function of firm 1:\n",
    "\n",
    "$$q_1(q_2)=\\frac{1}{2}\\left[\\frac{(a-c)}{b}-q_2\\right]$$\n",
    "\n",
    "As the two firms are symmetric, firm 2's reaction function is equivalent.\n",
    "\n",
    "Notice that the higher the quantity of firm 2, the lower the quantity of firm 1."
   ]
  },
  {
   "cell_type": "markdown",
   "metadata": {},
   "source": [
    "### Cournot-Nash Equilibrium"
   ]
  },
  {
   "cell_type": "markdown",
   "metadata": {},
   "source": [
    "Solving the model gives us the Cournot-Nash equilibrium. Here, firm 1 produces the optimal amount of the good given what firm 2 produces and vice verca.\n",
    "\n",
    "To find the Cournot-Nash Equilibrium, we consider the two **reaction functions**. We plug in $q_2$ in $q_1$ and solve for $q_1$:\n",
    "\n",
    "$$q_1 = \\frac{1}{2}\\left[\\frac{(a-c)}{b}-\\left[\\frac{1}{2}\\left[\\frac{(a-c)}{b}-q_1\\right]\\right]\\right]$$\n",
    "$$q_1=\\frac{1}{3}\\frac{(a-c)}{b}$$\n",
    "\n",
    "As the two companies are symmetric, $q_2$ is:\n",
    "\n",
    "$$q_2=\\frac{1}{3}\\frac{(a-c)}{b}$$\n",
    "\n",
    "Which is the solution to the model. This gives us a price of:\n",
    "\n",
    "$$p = a - b(\\frac{1}{3}\\frac{(a-c)}{b}+\\frac{1}{3}\\frac{(a-c)}{b}) = \\frac{1}{3}a + \\frac{2}{3}c$$\n",
    "\n",
    "And a firm profit of:\n",
    "\n",
    "$$\\pi_i = pq_i-cq_i = \\frac{(a + 2c)}{3}\\frac{(a - c)}{3b} + c\\frac{(a - c)}{3b} = \\frac{a^2 + 4ac - 5c^2}{9b}$$\n",
    "\n",
    "Now, we will solve the model using Python."
   ]
  },
  {
   "cell_type": "markdown",
   "metadata": {},
   "source": [
    "## Solving the Cournot model using Python"
   ]
  },
  {
   "cell_type": "markdown",
   "metadata": {},
   "source": [
    "First, we import the relevant libraries. We will be be solving the model both symbolically and numerically, meaning that we need the sympy library and elements from the scipy library. Furthermore, we need numpy when working with arrays and matplotlib and ipywidgets for graphs."
   ]
  },
  {
   "cell_type": "code",
   "execution_count": 192,
   "metadata": {},
   "outputs": [],
   "source": [
    "# Import libraries\n",
    "from scipy import optimize,arange\n",
    "import numpy as np\n",
    "import ipywidgets as widgets\n",
    "from scipy import linalg\n",
    "from scipy import optimize\n",
    "import sympy as sm\n",
    "import matplotlib.pyplot as plt\n",
    "import pandas as pd"
   ]
  },
  {
   "cell_type": "markdown",
   "metadata": {},
   "source": [
    "## Symbolically"
   ]
  },
  {
   "cell_type": "markdown",
   "metadata": {},
   "source": [
    "First, we define all the symbols and make sure that the results will look nice when printed."
   ]
  },
  {
   "cell_type": "code",
   "execution_count": 193,
   "metadata": {},
   "outputs": [],
   "source": [
    "# Define symbols\n",
    "q1 = sm.symbols('q_1')\n",
    "q2 = sm.symbols('q_2')\n",
    "p1 = sm.symbols('p_1')\n",
    "p2 = sm.symbols('p_2')\n",
    "pi1 = sm.symbols('pi1')\n",
    "pi2 = sm.symbols('pi2')\n",
    "a = sm.symbols('a')\n",
    "b = sm.symbols('b')\n",
    "c = sm.symbols('c')\n",
    "\n",
    "# For pretty printing\n",
    "sm.init_printing(use_unicode=True)"
   ]
  },
  {
   "cell_type": "markdown",
   "metadata": {},
   "source": [
    "Then we set up the inverse demand function."
   ]
  },
  {
   "cell_type": "code",
   "execution_count": 194,
   "metadata": {},
   "outputs": [],
   "source": [
    "def p(q1,q2):\n",
    "    return a-b*(q1+q2)"
   ]
  },
  {
   "cell_type": "markdown",
   "metadata": {},
   "source": [
    "Then we define the cost function."
   ]
  },
  {
   "cell_type": "code",
   "execution_count": 195,
   "metadata": {},
   "outputs": [],
   "source": [
    "def cost(q,c):\n",
    "    if q == 0:\n",
    "        cost = 0\n",
    "    else:\n",
    "        cost = c*q\n",
    "    return cost"
   ]
  },
  {
   "cell_type": "markdown",
   "metadata": {},
   "source": [
    "And finally, the profit function."
   ]
  },
  {
   "cell_type": "code",
   "execution_count": 196,
   "metadata": {},
   "outputs": [],
   "source": [
    "def profit(q1,q2,c):\n",
    "    return p(q1,q2)*q1 - cost(c,q1)"
   ]
  },
  {
   "cell_type": "markdown",
   "metadata": {},
   "source": [
    "Now can differentiate to find the reaction functions. We see that they are the same as found in the section above."
   ]
  },
  {
   "cell_type": "code",
   "execution_count": 197,
   "metadata": {},
   "outputs": [
    {
     "data": {
      "image/png": "[encoded data removed]",
      "text/latex": [
       "$$a - b q_{1} - b \\left(q_{1} + q_{2}\\right) - c$$"
      ],
      "text/plain": [
       "a - b⋅q₁ - b⋅(q₁ + q₂) - c"
      ]
     },
     "execution_count": 197,
     "metadata": {},
     "output_type": "execute_result"
    }
   ],
   "source": [
    "# Differentiate profit wrt q1 and q2, respectively\n",
    "foc1 = sm.diff(profit(q1,q2,c),q1)\n",
    "foc2 = sm.diff(profit(q2,q1,c),q2)\n",
    "foc1"
   ]
  },
  {
   "cell_type": "markdown",
   "metadata": {},
   "source": [
    "Finally, we can solve for the equilibrium output."
   ]
  },
  {
   "cell_type": "code",
   "execution_count": 198,
   "metadata": {},
   "outputs": [
    {
     "data": {
      "image/png": "[encoded data removed]",
      "text/latex": [
       "$$\\left \\{ q_{1} : \\frac{a - c}{3 b}, \\quad q_{2} : \\frac{a - c}{3 b}\\right \\}$$"
      ],
      "text/plain": [
       "⎧    a - c      a - c⎫\n",
       "⎨q₁: ─────, q₂: ─────⎬\n",
       "⎩     3⋅b        3⋅b ⎭"
      ]
     },
     "execution_count": 198,
     "metadata": {},
     "output_type": "execute_result"
    }
   ],
   "source": [
    "# Solve for equilibrium outpt\n",
    "sm.solve([foc1, foc2], [q1, q2])"
   ]
  },
  {
   "cell_type": "markdown",
   "metadata": {},
   "source": [
    "Which is the same as we found in the theoretical section above."
   ]
  },
  {
   "cell_type": "markdown",
   "metadata": {},
   "source": [
    "## Numerically"
   ]
  },
  {
   "cell_type": "markdown",
   "metadata": {},
   "source": [
    "We again define all the functions, but this time as python variables, and since we are solving the model numerically now, we also define the demand parameters and the marginal costs."
   ]
  },
  {
   "cell_type": "code",
   "execution_count": 199,
   "metadata": {},
   "outputs": [],
   "source": [
    "def p(q1,q2):\n",
    "    return a-b*(q1+q2)\n",
    "\n",
    "def cost(q,c):\n",
    "    if q == 0:\n",
    "        cost = 0\n",
    "    else:\n",
    "        cost = c*q\n",
    "    return cost\n",
    "\n",
    "def profit(demand_function,cost_function,c,q1,q2):\n",
    "    return demand_function(q1,q2)*q1-cost(q1,c)\n",
    "\n",
    "a = 2\n",
    "b = 1\n",
    "c = 0"
   ]
  },
  {
   "cell_type": "markdown",
   "metadata": {},
   "source": [
    "We then need to maximize profits in order to find the reaction function as shown in the theoretical section above. We will use scipy.optimize for this, and since this function is minimizing instead of maximizing, we add a minus in front."
   ]
  },
  {
   "cell_type": "code",
   "execution_count": 200,
   "metadata": {},
   "outputs": [
    {
     "name": "stdout",
     "output_type": "stream",
     "text": [
      "Equilibrium output: [0.66666667 0.66666667]\n"
     ]
    }
   ],
   "source": [
    "def reaction_function(q2,c):\n",
    "    q1 =  optimize.fminbound(lambda x: -profit(p,cost,c,x,q2),0,1,full_output=1)\n",
    "    return q1[0]\n",
    "\n",
    "def fixed_point(q,c):\n",
    "    return [q[0]-reaction_function(q[1],c[0]),q[1]-reaction_function(q[0],c[1])]\n",
    "\n",
    "initial_guess = [0,0]\n",
    "\n",
    "solution = optimize.fsolve(lambda q: fixed_point(q,[0,0]), initial_guess)\n",
    "\n",
    "print('Equilibrium output:',solution)"
   ]
  },
  {
   "cell_type": "markdown",
   "metadata": {},
   "source": [
    "We see that in the Cournot-Nash equilibrium, we have that $q_1 = q_2 = 0.66666667$. We can depict the Cournot-Nash equilibrium graphically as well."
   ]
  },
  {
   "cell_type": "code",
   "execution_count": 201,
   "metadata": {},
   "outputs": [
    {
     "data": {
      "text/plain": [
       "<matplotlib.legend.Legend at 0x122640518>"
      ]
     },
     "execution_count": 201,
     "metadata": {},
     "output_type": "execute_result"
    },
    {
     "data": {
      "image/png": "[encoded data removed]",
      "text/plain": [
       "<Figure size 432x288 with 1 Axes>"
      ]
     },
     "metadata": {
      "needs_background": "light"
     },
     "output_type": "display_data"
    }
   ],
   "source": [
    "# Define reactions functions\n",
    "def q1(q2,c,a,b):\n",
    "    return 0.5*((a-c)/b-q2)\n",
    "\n",
    "def q2(q1,c,a,b):\n",
    "    return 0.5*((a-c)/b-q1)\n",
    "\n",
    "# Create best response to multiple q values\n",
    "range_q1 = np.linspace(0,2,10)\n",
    "range_q2 = np.linspace(0,2,10)\n",
    "q1 = q1(range_q2,c,a,b)\n",
    "q2 = q2(range_q1,c,a,b)\n",
    "\n",
    "# Plot q1 and q2\n",
    "plt.plot(q1,range_q2, label = '$q_1$')\n",
    "plt.plot(range_q1,q2, label = '$q_2$') #Notice here we have changed the x and y axis, to depict both graphs in the same diagram.\n",
    "plt.xlabel('Quantity produced by firm 1')\n",
    "plt.ylabel('Quantity produced by firm 2')\n",
    "plt.xticks(np.arange(0, 2.1, step=0.2))\n",
    "plt.yticks(np.arange(0, 2.1, step=0.2))\n",
    "plt.legend()"
   ]
  },
  {
   "cell_type": "markdown",
   "metadata": {},
   "source": [
    "Let us calculate the Cournot-Nash equilibrium output, price and profit, in the case where $c=0$, $a=2$ and $b=1$."
   ]
  },
  {
   "cell_type": "code",
   "execution_count": 202,
   "metadata": {},
   "outputs": [],
   "source": [
    "q1_star = solution[0]\n",
    "q2_star = solution[1]\n",
    "\n",
    "Q_star = q1_star + q2_star\n",
    "\n",
    "p_star = a-b*(q1_star+q2_star)\n",
    "\n",
    "pi1_star = p_star*q1_star-c*q1_star\n",
    "pi2_star = p_star*q2_star-c*q2_star\n",
    "\n",
    "CS = Q_star*(a-p_star)/2\n",
    "\n",
    "TS = pi1_star + pi2_star + CS"
   ]
  },
  {
   "cell_type": "markdown",
   "metadata": {},
   "source": [
    "And now create a table that gives us an overview of the equilibrium values."
   ]
  },
  {
   "cell_type": "code",
   "execution_count": 210,
   "metadata": {},
   "outputs": [
    {
     "data": {
      "text/html": [
       "<div>\n",
       "<style scoped>\n",
       "    .dataframe tbody tr th:only-of-type {\n",
       "        vertical-align: middle;\n",
       "    }\n",
       "\n",
       "    .dataframe tbody tr th {\n",
       "        vertical-align: top;\n",
       "    }\n",
       "\n",
       "    .dataframe thead th {\n",
       "        text-align: right;\n",
       "    }\n",
       "</style>\n",
       "<table border=\"1\" class=\"dataframe\">\n",
       "  <thead>\n",
       "    <tr style=\"text-align: right;\">\n",
       "      <th></th>\n",
       "      <th>Variable</th>\n",
       "      <th>Value</th>\n",
       "    </tr>\n",
       "  </thead>\n",
       "  <tbody>\n",
       "    <tr>\n",
       "      <th>0</th>\n",
       "      <td>$q_1^*$</td>\n",
       "      <td>0.67</td>\n",
       "    </tr>\n",
       "    <tr>\n",
       "      <th>1</th>\n",
       "      <td>$q_2^*$</td>\n",
       "      <td>0.67</td>\n",
       "    </tr>\n",
       "    <tr>\n",
       "      <th>2</th>\n",
       "      <td>$Q^*$</td>\n",
       "      <td>1.33</td>\n",
       "    </tr>\n",
       "    <tr>\n",
       "      <th>3</th>\n",
       "      <td>$p^*$</td>\n",
       "      <td>0.67</td>\n",
       "    </tr>\n",
       "    <tr>\n",
       "      <th>4</th>\n",
       "      <td>$\\pi_1^*$</td>\n",
       "      <td>0.44</td>\n",
       "    </tr>\n",
       "    <tr>\n",
       "      <th>5</th>\n",
       "      <td>$\\pi_2^*$</td>\n",
       "      <td>0.44</td>\n",
       "    </tr>\n",
       "    <tr>\n",
       "      <th>6</th>\n",
       "      <td>$CS$</td>\n",
       "      <td>0.89</td>\n",
       "    </tr>\n",
       "    <tr>\n",
       "      <th>7</th>\n",
       "      <td>$TS$</td>\n",
       "      <td>1.78</td>\n",
       "    </tr>\n",
       "  </tbody>\n",
       "</table>\n",
       "</div>"
      ],
      "text/plain": [
       "    Variable Value\n",
       "0    $q_1^*$  0.67\n",
       "1    $q_2^*$  0.67\n",
       "2      $Q^*$  1.33\n",
       "3      $p^*$  0.67\n",
       "4  $\\pi_1^*$  0.44\n",
       "5  $\\pi_2^*$  0.44\n",
       "6       $CS$  0.89\n",
       "7       $TS$  1.78"
      ]
     },
     "execution_count": 210,
     "metadata": {},
     "output_type": "execute_result"
    }
   ],
   "source": [
    "results = [{\"Variable\" : \"$q_1^*$\", \"Value\" : \"%.2f\" % q1_star},\n",
    "           {\"Variable\" : \"$q_2^*$\", \"Value\" : \"%.2f\" % q2_star},\n",
    "           {\"Variable\" : \"$Q^*$\", \"Value\" : \"%.2f\" % Q_star},\n",
    "           {\"Variable\" : \"$p^*$\",\"Value\" : \"%.2f\" % p_star},\n",
    "           {\"Variable\" : \"$\\pi_1^*$\", \"Value\" : \"%.2f\" % pi1_star},\n",
    "           {\"Variable\" : \"$\\pi_2^*$\", \"Value\" : \"%.2f\" % pi2_star},\n",
    "           {\"Variable\" : \"$CS$\", \"Value\" : \"%.2f\" % CS},\n",
    "           {\"Variable\" : \"$TS$\", \"Value\" : \"%.2f\" % TS}]\n",
    "\n",
    "df = pd.DataFrame(results)\n",
    "\n",
    "df.set_index('Variable')\n",
    "\n",
    "df = df[['Variable', 'Value']]\n",
    "\n",
    "df"
   ]
  },
  {
   "cell_type": "markdown",
   "metadata": {},
   "source": [
    "#### Interactive Graph\n",
    "Now we will create the same graph with interactive parameters, hence a graph where it is possible to change the values of $c$, $a$ and $b$, within the general constraints."
   ]
  },
  {
   "cell_type": "code",
   "execution_count": 204,
   "metadata": {},
   "outputs": [
    {
     "data": {
      "application/vnd.jupyter.widget-view+json": {
       "model_id": "37729cd219b7485585d309b01adbf51c",
       "version_major": 2,
       "version_minor": 0
      },
      "text/plain": [
       "interactive(children=(FloatSlider(value=1.0, description='c', max=2.0, step=0.2), FloatSlider(value=1.2, descr…"
      ]
     },
     "metadata": {},
     "output_type": "display_data"
    }
   ],
   "source": [
    "# Import relevant packages to create interactive graphs\n",
    "from ipywidgets import interact, interactive, IntSlider, Layout, interact_manual\n",
    "import ipywidgets as widgets\n",
    "from IPython.display import display\n",
    "\n",
    "# Define the varibles to be interactive\n",
    "def func(c,a,b):\n",
    "    q1_interactive=0.5*((a-c)/b-q2) #Define q1\n",
    "    plt.figure(figsize=(8,5))\n",
    "    plt.plot(q2,q1_interactive,c='red')\n",
    "    q2_interactive=(0.5*((a-c)/b-q1)) #Define q2\n",
    "    plt.plot(q2_interactive,q1,c='yellow') #Notice we have changed the x and y axis compared to depicting q1\n",
    "    plt.grid(True)\n",
    "    plt.show()\n",
    "    return (q1_interactive,q2_interactive)\n",
    "\n",
    "# Create the interactive parameters\n",
    "interactive_graph=interactive(func,a=(0.2,2.2,0.2),b=(0.2,2.2,0.2),\n",
    "              c=(0,2,0.2))\n",
    "display(interactive_graph)"
   ]
  },
  {
   "cell_type": "markdown",
   "metadata": {},
   "source": [
    "**Et eller andet sted, skal vi have defineret betingelserne for c, $0 \\leq c<a$**"
   ]
  },
  {
   "cell_type": "markdown",
   "metadata": {},
   "source": [
    "## Cournot Competition with Collusion"
   ]
  },
  {
   "cell_type": "markdown",
   "metadata": {},
   "source": [
    "We will now look at the situation where the two firms collude on some amounts $q_1$ and $q_2$. Again, we assume symmetric firms.\n",
    "\n",
    "When we have a duopoly with symmetric firms, the optimal to do collusion wise for the two firms is to maximize their joint profit, i.e. the industry profit. They can do this by maximizing the profit as if there was one monopoly firm and then split the market in two and act like a monopolist supplier in their own part of the market.\n",
    "\n",
    "To understand find the equilibrium output in this situation, we first maximize industry profit using sympy."
   ]
  },
  {
   "cell_type": "code",
   "execution_count": 211,
   "metadata": {},
   "outputs": [
    {
     "data": {
      "image/png": "[encoded data removed]",
      "text/latex": [
       "$$\\left \\{ Q : \\frac{a - c}{2 b}\\right \\}$$"
      ],
      "text/plain": [
       "⎧   a - c⎫\n",
       "⎨Q: ─────⎬\n",
       "⎩    2⋅b ⎭"
      ]
     },
     "execution_count": 211,
     "metadata": {},
     "output_type": "execute_result"
    }
   ],
   "source": [
    "Q = sm.symbols('Q')\n",
    "p = sm.symbols('p')\n",
    "pi = sm.symbols('pi')\n",
    "\n",
    "a = sm.symbols('a')\n",
    "b = sm.symbols('b')\n",
    "c = sm.symbols('c')\n",
    "\n",
    "# For pretty printing\n",
    "sm.init_printing(use_unicode=True)\n",
    "\n",
    "def p(Q):\n",
    "    return a-b*Q\n",
    "\n",
    "def cost(Q,c):\n",
    "    if Q == 0:\n",
    "        cost = 0\n",
    "    else:\n",
    "        cost = c*Q\n",
    "    return cost\n",
    "\n",
    "def industry_profit(p,c,Q):\n",
    "    return p(Q)*Q-cost(Q,c)\n",
    "\n",
    "foc = sm.diff(industry_profit(p,c,Q),Q)\n",
    "\n",
    "solve = sm.solve([foc], [Q])\n",
    "solve"
   ]
  },
  {
   "cell_type": "markdown",
   "metadata": {},
   "source": [
    "We now have the solution for the industry output. Since we have idenitical firms, they will split the amount in two. We now find that amount by turning the symbols into a python function and using the same parameters as earlier."
   ]
  },
  {
   "cell_type": "code",
   "execution_count": 212,
   "metadata": {},
   "outputs": [
    {
     "data": {
      "image/png": "[encoded data removed]",
      "text/latex": [
       "$$\\left \\{ Q : 1.0\\right \\}$$"
      ],
      "text/plain": [
       "{Q: 1.0}"
      ]
     },
     "execution_count": 212,
     "metadata": {},
     "output_type": "execute_result"
    }
   ],
   "source": [
    "_monopoly_output = sm.lambdify((Q,a,b,c), solve, 'numpy')\n",
    "\n",
    "def monopoly_output(Q,a,b,c):\n",
    "    return _monopoly_output(Q,a,b,c)\n",
    "\n",
    "a = 2\n",
    "b = 1\n",
    "c = 0\n",
    "\n",
    "Q = monopoly_output(Q,a,b,c)\n",
    "Q"
   ]
  },
  {
   "cell_type": "markdown",
   "metadata": {},
   "source": [
    "The total output is thus 1, meaning that each firm produces $q_1 = q_2 = 0.5$.\n",
    "\n",
    "We can now compute the rest of the equilibrium values."
   ]
  },
  {
   "cell_type": "code",
   "execution_count": 213,
   "metadata": {},
   "outputs": [],
   "source": [
    "for i in Q.values():\n",
    "    float(i)\n",
    "Q_M = i\n",
    "\n",
    "q1_M = Q_M/2\n",
    "q2_M = Q_M/2\n",
    "\n",
    "p_M = a-b*Q_M\n",
    "\n",
    "pi1_M = p_M*q1_M-c*q1_M\n",
    "pi2_M = p_M*q2_M-c*q2_M\n",
    "\n",
    "pi = p_M*Q_M - c*Q_M\n",
    "\n",
    "CS_M = Q_M*(a-p_M)/2\n",
    "\n",
    "TS_M = pi1_M + pi2_M + CS_M"
   ]
  },
  {
   "cell_type": "code",
   "execution_count": 214,
   "metadata": {},
   "outputs": [
    {
     "data": {
      "text/html": [
       "<div>\n",
       "<style scoped>\n",
       "    .dataframe tbody tr th:only-of-type {\n",
       "        vertical-align: middle;\n",
       "    }\n",
       "\n",
       "    .dataframe tbody tr th {\n",
       "        vertical-align: top;\n",
       "    }\n",
       "\n",
       "    .dataframe thead th {\n",
       "        text-align: right;\n",
       "    }\n",
       "</style>\n",
       "<table border=\"1\" class=\"dataframe\">\n",
       "  <thead>\n",
       "    <tr style=\"text-align: right;\">\n",
       "      <th></th>\n",
       "      <th>Variable</th>\n",
       "      <th>Value</th>\n",
       "    </tr>\n",
       "  </thead>\n",
       "  <tbody>\n",
       "    <tr>\n",
       "      <th>0</th>\n",
       "      <td>$q_1^*$</td>\n",
       "      <td>0.67</td>\n",
       "    </tr>\n",
       "    <tr>\n",
       "      <th>1</th>\n",
       "      <td>$q_1^M$</td>\n",
       "      <td>0.50</td>\n",
       "    </tr>\n",
       "    <tr>\n",
       "      <th>2</th>\n",
       "      <td>$q_2^*$</td>\n",
       "      <td>0.67</td>\n",
       "    </tr>\n",
       "    <tr>\n",
       "      <th>3</th>\n",
       "      <td>$q_2^M$</td>\n",
       "      <td>0.50</td>\n",
       "    </tr>\n",
       "    <tr>\n",
       "      <th>4</th>\n",
       "      <td>$Q^*$</td>\n",
       "      <td>1.33</td>\n",
       "    </tr>\n",
       "    <tr>\n",
       "      <th>5</th>\n",
       "      <td>$Q^M$</td>\n",
       "      <td>1.00</td>\n",
       "    </tr>\n",
       "    <tr>\n",
       "      <th>6</th>\n",
       "      <td>$p^*$</td>\n",
       "      <td>0.67</td>\n",
       "    </tr>\n",
       "    <tr>\n",
       "      <th>7</th>\n",
       "      <td>$p^M$</td>\n",
       "      <td>1.00</td>\n",
       "    </tr>\n",
       "    <tr>\n",
       "      <th>8</th>\n",
       "      <td>$\\pi_1^*$</td>\n",
       "      <td>0.44</td>\n",
       "    </tr>\n",
       "    <tr>\n",
       "      <th>9</th>\n",
       "      <td>$\\pi_1^M$</td>\n",
       "      <td>0.50</td>\n",
       "    </tr>\n",
       "    <tr>\n",
       "      <th>10</th>\n",
       "      <td>$\\pi_2^*$</td>\n",
       "      <td>0.44</td>\n",
       "    </tr>\n",
       "    <tr>\n",
       "      <th>11</th>\n",
       "      <td>$\\pi_2^M$</td>\n",
       "      <td>0.50</td>\n",
       "    </tr>\n",
       "    <tr>\n",
       "      <th>12</th>\n",
       "      <td>$CS$</td>\n",
       "      <td>0.89</td>\n",
       "    </tr>\n",
       "    <tr>\n",
       "      <th>13</th>\n",
       "      <td>$CS^M$</td>\n",
       "      <td>0.50</td>\n",
       "    </tr>\n",
       "    <tr>\n",
       "      <th>14</th>\n",
       "      <td>$TS$</td>\n",
       "      <td>1.78</td>\n",
       "    </tr>\n",
       "    <tr>\n",
       "      <th>15</th>\n",
       "      <td>$TS^M$</td>\n",
       "      <td>1.50</td>\n",
       "    </tr>\n",
       "  </tbody>\n",
       "</table>\n",
       "</div>"
      ],
      "text/plain": [
       "     Variable Value\n",
       "0     $q_1^*$  0.67\n",
       "1     $q_1^M$  0.50\n",
       "2     $q_2^*$  0.67\n",
       "3     $q_2^M$  0.50\n",
       "4       $Q^*$  1.33\n",
       "5       $Q^M$  1.00\n",
       "6       $p^*$  0.67\n",
       "7       $p^M$  1.00\n",
       "8   $\\pi_1^*$  0.44\n",
       "9   $\\pi_1^M$  0.50\n",
       "10  $\\pi_2^*$  0.44\n",
       "11  $\\pi_2^M$  0.50\n",
       "12       $CS$  0.89\n",
       "13     $CS^M$  0.50\n",
       "14       $TS$  1.78\n",
       "15     $TS^M$  1.50"
      ]
     },
     "execution_count": 214,
     "metadata": {},
     "output_type": "execute_result"
    }
   ],
   "source": [
    "results = [{\"Variable\" : \"$q_1^*$\", \"Value\" : \"%.2f\" % q1_star},\n",
    "           {\"Variable\" : \"$q_1^M$\", \"Value\" : \"%.2f\" % q1_M},\n",
    "           {\"Variable\" : \"$q_2^*$\", \"Value\" : \"%.2f\" % q2_star},\n",
    "           {\"Variable\" : \"$q_2^M$\", \"Value\" : \"%.2f\" % q2_M},\n",
    "           {\"Variable\" : \"$Q^*$\", \"Value\" : \"%.2f\" % Q_star},\n",
    "           {\"Variable\" : \"$Q^M$\", \"Value\" : \"%.2f\" % Q_M},\n",
    "           {\"Variable\" : \"$p^*$\",\"Value\" : \"%.2f\" % p_star},\n",
    "           {\"Variable\" : \"$p^M$\",\"Value\" : \"%.2f\" % p_M},\n",
    "           {\"Variable\" : \"$\\pi_1^*$\", \"Value\" : \"%.2f\" % pi1_star},\n",
    "           {\"Variable\" : \"$\\pi_1^M$\", \"Value\" : \"%.2f\" % pi1_M},\n",
    "           {\"Variable\" : \"$\\pi_2^*$\", \"Value\" : \"%.2f\" % pi2_star},\n",
    "           {\"Variable\" : \"$\\pi_2^M$\", \"Value\" : \"%.2f\" % pi2_M},\n",
    "           {\"Variable\" : \"$CS$\", \"Value\" : \"%.2f\" % CS},\n",
    "           {\"Variable\" : \"$CS^M$\", \"Value\" : \"%.2f\" % CS_M},\n",
    "           {\"Variable\" : \"$TS$\", \"Value\" : \"%.2f\" % TS},\n",
    "           {\"Variable\" : \"$TS^M$\", \"Value\" : \"%.2f\" % TS_M}]\n",
    "\n",
    "df = pd.DataFrame(results)\n",
    "\n",
    "df.set_index('Variable')\n",
    "\n",
    "df = df[['Variable', 'Value']]\n",
    "\n",
    "df"
   ]
  },
  {
   "cell_type": "markdown",
   "metadata": {},
   "source": [
    "### Monopoly Profit\n",
    "We now from micro economics that under monopoly competition, $MR=MC=q^m$. We use this to determine the monopoly profit for the cournot model with collusion, we use that $q_1=q_2=q$:\n",
    "$$R=p*Q$$\n",
    "$$R=(a-b(Q))*Q$$\n",
    "$$R=aQ-bQ^2$$\n",
    "\\begin{equation*}\n",
    "\\begin{aligned}\n",
    "MR = \\frac{\\partial R}{\\partial Q} = a-2bQ = c\n",
    "\\end{aligned}\n",
    "\\end{equation*}\n",
    "$$Q^m=\\frac{a-c}{2b}$$\n",
    "\n",
    "By plugging this into $p$ we find the monopoly price:\n",
    "$$p=a-b\\left(\\frac{a-c}{2b}\\right)$$\n",
    "$$p^m=\\frac{a+c}{2}$$\n",
    "Hence, the monopoly profit must be:\n",
    "$$\\pi^m=\\frac{a-c}{2b}*\\frac{a+c}{2}-\\frac{a-c}{2b}c$$\n",
    "\n",
    "For solution to sustain, $\\pi^m$ must be higher than the profit for both firms without collusion. \n",
    "\n",
    "Let now see whether this holdes using Python."
   ]
  },
  {
   "cell_type": "markdown",
   "metadata": {},
   "source": [
    "We want to examine what happens with firm profits under collusion, i.e. we want to find $\\pi(q,q) + \\pi(q,q) = 2\\pi(q,q)$. As we now they will produce the monopoly amount, we also now, the total profit will be equal to the monopoly profit when the two firms collude. Hence, for collusion to be sustainable, the following has to hold:\n",
    "\n",
    "$$\\frac{1}{1-\\delta}\\pi(q,q) \\geq \\underset{\\hat{q}}{max} \\pi(\\hat{q},q) + \\frac{\\delta}{1-\\delta}\\pi(q^*,q^*)$$\n",
    "\n",
    "The profit from colluding must be higher than the profit from not colluding, the monopoly profit. \n",
    "\n",
    "We rewrite this:\n",
    "\n",
    "$$\\pi(q,q) \\geq (1-\\delta)\\underset{\\hat{q}}{max} \\pi(\\hat{q},q) + \\delta\\pi(q^*,q^*)$$\n",
    "\n",
    "$\\delta$ is the discount factor and is between 0 and 1, while $\\hat{q}$ is the best response when the other firm chooses $q$ and $q^*$ is the Cournot-Nash equilibrium output."
   ]
  }
 ],
 "metadata": {
  "kernelspec": {
   "display_name": "Python 3",
   "language": "python",
   "name": "python3"
  },
  "language_info": {
   "codemirror_mode": {
    "name": "ipython",
    "version": 3
   },
   "file_extension": ".py",
   "mimetype": "text/x-python",
   "name": "python",
   "nbconvert_exporter": "python",
   "pygments_lexer": "ipython3",
   "version": "3.7.0"
  }
 },
 "nbformat": 4,
 "nbformat_minor": 2
}
