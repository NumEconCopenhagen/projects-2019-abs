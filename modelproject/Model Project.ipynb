{
 "cells": [
  {
   "cell_type": "markdown",
   "metadata": {},
   "source": [
    "# Cournot Competition with and without Collusion\n"
   ]
  },
  {
   "cell_type": "markdown",
   "metadata": {},
   "source": [
    "This assignment seeks to solve the standard model of Cournot competition known from Micro II and Industrial Organization. First we will solve the simple standard model without investments, thereafter we solve the model with investments. Lastly our analysis seeks to determine the welfare and profit complications with and without collusion in Cournot competition. "
   ]
  },
  {
   "cell_type": "markdown",
   "metadata": {},
   "source": [
    "## Cournot Competition\n"
   ]
  },
  {
   "cell_type": "markdown",
   "metadata": {},
   "source": [
    "Cournot competition is defined by taking place in an olipoly market, a market with only a few large players, in this assignment we will assume two companies. The two companies will decide upon how much to produce simultanously, hence they decide their output amount, (instead of their prices as in a Bertrand competitive economy), without having any knowledge of how much the other company is going to produce. "
   ]
  },
  {
   "cell_type": "markdown",
   "metadata": {},
   "source": [
    "The two companies will produce similar goods."
   ]
  },
  {
   "cell_type": "markdown",
   "metadata": {},
   "source": [
    "## The Standard Model"
   ]
  },
  {
   "cell_type": "markdown",
   "metadata": {},
   "source": [
    "The model consists of a few different components: The profit functions, the reaction functions and the demand functions."
   ]
  },
  {
   "cell_type": "markdown",
   "metadata": {},
   "source": [
    "**The Profit Functions:**\n",
    "The profit function is standard, the total revenue subtracted the total costs. The price is linear more of both goods decreases the price.\n",
    "\n",
    "$\\pi_1=pq_1-cq_1$,  where      $p=a-b(q_1+q_2)$"
   ]
  },
  {
   "cell_type": "markdown",
   "metadata": {},
   "source": [
    "We can rewrite the profit function to get the following:\n",
    "$$\\pi_1=[a-b(q_1+q_2)]q_1-cq_1$$"
   ]
  },
  {
   "cell_type": "markdown",
   "metadata": {},
   "source": [
    "As the two companies are symmetric the profit for company two will be equivalent."
   ]
  },
  {
   "cell_type": "markdown",
   "metadata": {},
   "source": [
    "Notice here that the profit of firm one depends on the amount of goods company two produces. This is what makes cournot competition stand out from other competitive forms in economics.  "
   ]
  },
  {
   "cell_type": "markdown",
   "metadata": {},
   "source": [
    "Let us now formally define the profit function:"
   ]
  },
  {
   "cell_type": "markdown",
   "metadata": {},
   "source": [
    "First we need to import all the relevant packages we are going to use throughout this assignment: "
   ]
  },
  {
   "cell_type": "code",
   "execution_count": 6,
   "metadata": {},
   "outputs": [],
   "source": [
    "from scipy import optimize,arange\n",
    "from numpy import array\n",
    "import matplotlib.pyplot as plt"
   ]
  },
  {
   "cell_type": "markdown",
   "metadata": {},
   "source": [
    "The profit function:"
   ]
  },
  {
   "cell_type": "code",
   "execution_count": 7,
   "metadata": {},
   "outputs": [],
   "source": [
    "def profit(q1,q2,c,a,b):\n",
    "    return (a-b*(q_1+q_2))*q_1-c*q_1"
   ]
  },
  {
   "cell_type": "markdown",
   "metadata": {},
   "source": [
    "## Cournot Nash-Equilibrium"
   ]
  },
  {
   "cell_type": "markdown",
   "metadata": {},
   "source": [
    "By solving the cournot competition model we determine the cournot Nash-equilibrium. The equilibrium where company 1 produces the optimal amount of the good given the what company 2 produces and vice verca. "
   ]
  },
  {
   "cell_type": "markdown",
   "metadata": {},
   "source": [
    "To established the Cournot Nash-Equilibrium we need to consider the two companies **reaction functions**. "
   ]
  },
  {
   "cell_type": "markdown",
   "metadata": {},
   "source": [
    "The reaction functions tell us how much each company will produce given what the other company produces."
   ]
  },
  {
   "cell_type": "markdown",
   "metadata": {},
   "source": [
    "To find the reaction functions we must differentiate the profit function for company 1 with respect to $q_1$:"
   ]
  },
  {
   "cell_type": "code",
   "execution_count": 12,
   "metadata": {},
   "outputs": [],
   "source": [
    "def reaction(q2,c,a,b):\n",
    "    q1 = optimize.brute(lambda q: -profit(q,q2,c,a,b), ((0,1,),)) # by using the function brute we minimize the function;\n",
    "                                                                 # when we minimize -profits, we maximize profits\n",
    "    return q1[0]"
   ]
  },
  {
   "cell_type": "markdown",
   "metadata": {},
   "source": [
    "The equilibrium will be a fixed point. Bla bla bla bla bla... Jeg ved ikke helt hvad jeg skal skrive her. "
   ]
  },
  {
   "cell_type": "code",
   "execution_count": 19,
   "metadata": {},
   "outputs": [],
   "source": [
    "def vector_reaction(q,param): # vector param = (q2,c,a,b)\n",
    "    return array(q)-array([reaction(q[1],param[1],param[0]),reaction(q[0],param[2],param[0])])\n"
   ]
  },
  {
   "cell_type": "code",
   "execution_count": null,
   "metadata": {},
   "outputs": [],
   "source": []
  },
  {
   "cell_type": "code",
   "execution_count": null,
   "metadata": {},
   "outputs": [],
   "source": []
  }
 ],
 "metadata": {
  "kernelspec": {
   "display_name": "Python 3",
   "language": "python",
   "name": "python3"
  },
  "language_info": {
   "codemirror_mode": {
    "name": "ipython",
    "version": 3
   },
   "file_extension": ".py",
   "mimetype": "text/x-python",
   "name": "python",
   "nbconvert_exporter": "python",
   "pygments_lexer": "ipython3",
   "version": "3.7.1"
  }
 },
 "nbformat": 4,
 "nbformat_minor": 2
}
