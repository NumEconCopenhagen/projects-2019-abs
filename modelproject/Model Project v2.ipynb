{
 "cells": [
  {
   "cell_type": "markdown",
   "metadata": {},
   "source": [
    "# Cournot Competition with and without Collusion\n"
   ]
  },
  {
   "cell_type": "markdown",
   "metadata": {},
   "source": [
    "In this notebook, we work with two competing firms operating under Cournot competition known from Micro II, Micro III and Industrial Organization. First, we solve the simple standard model and afterwards we look into what happens when the model is extended so that the firms collude."
   ]
  },
  {
   "cell_type": "markdown",
   "metadata": {},
   "source": [
    "## Cournot Competition"
   ]
  },
  {
   "cell_type": "markdown",
   "metadata": {},
   "source": [
    "When firms compete in quantities, we have Cournot competition. In this notebook we stick to the simplest setup with two firms, i.e. we have a duopoly. The two firms simultaneously decide their output, and since the two firms have market power, the chosen quantities will determine the price. Both firms seek to maximize their profit given the decision of the other firm. The Cournot model can be extended in different ways. In this notebook we will look into what happens when firms collude, meaning that the two firms agree on a specific strategy."
   ]
  },
  {
   "cell_type": "markdown",
   "metadata": {},
   "source": [
    "## The Standard Model"
   ]
  },
  {
   "cell_type": "markdown",
   "metadata": {},
   "source": [
    "### General Assumptions"
   ]
  },
  {
   "cell_type": "markdown",
   "metadata": {},
   "source": [
    "The two firms produce a homogeneous product, and thus the consumers see them as perfect substitutes.\n",
    "\n",
    "The two firms have the same costs, which are $c(q)$, and the marginal costs are constant and equal to c, i.e. $mc = c$.\n",
    "\n",
    "The two firms are facing the same overall demand from consumers.\n",
    "\n",
    "The model consists of: the demand functions, the profit functions and the reaction functions."
   ]
  },
  {
   "cell_type": "markdown",
   "metadata": {},
   "source": [
    "### The Demand Function"
   ]
  },
  {
   "cell_type": "markdown",
   "metadata": {},
   "source": [
    "Firm 1 produces and amount equal to $q_1$, whereas firm 2 produces $q_2$. The total demand in the economy is represented by the sum of each firm's individual supply, and is thus: \n",
    "\n",
    "$$Q = q_1+q_2$$\n",
    "\n",
    "The inverse linear demand function is given by \n",
    "\n",
    "$$p = a - b(q_1+q_2)$$\n",
    "\n",
    "where $a$ and $b$ are positive parameters."
   ]
  },
  {
   "cell_type": "markdown",
   "metadata": {},
   "source": [
    "### The Profit Function\n",
    "\n",
    "The profit function is total revenue less total costs. The price is linear, and more of both goods decreases the price.\n",
    "\n",
    "$$\\pi_1=pq_1-cq_1$$"
   ]
  },
  {
   "cell_type": "markdown",
   "metadata": {},
   "source": [
    "where $p$ is given above as the inverse demand function. "
   ]
  },
  {
   "cell_type": "markdown",
   "metadata": {},
   "source": [
    "If we plug in the expression for $p$, we can rewrite the profit function and get:\n",
    "\n",
    "$$\\pi_1=[a-b(q_1+q_2)]q_1-cq_1$$"
   ]
  },
  {
   "cell_type": "markdown",
   "metadata": {},
   "source": [
    "As the two firms are symmetric, the profit for firm 2 will be equivalent."
   ]
  },
  {
   "cell_type": "markdown",
   "metadata": {},
   "source": [
    "Notice that the profit of firm one depends on the amount of goods company two produces."
   ]
  },
  {
   "cell_type": "markdown",
   "metadata": {},
   "source": [
    "### The Reaction Function"
   ]
  },
  {
   "cell_type": "markdown",
   "metadata": {},
   "source": [
    "The reaction functions show how much each firm produces given the other firms output.\n",
    "\n",
    "To find the reaction functions, we optimize the profit function for firm 1 with respect to the quantity $q_1$:\n",
    "\n",
    "\\begin{equation*}\n",
    "\\begin{aligned}\n",
    "\\frac{\\partial \\pi_1}{\\partial q_1} = a -2bq_1-bq_2-c = 0\n",
    "\\end{aligned}\n",
    "\\end{equation*}\n",
    "\n",
    "We solve for $q_1$ to get the reaction function of firm 1:\n",
    "\n",
    "$$q_1(q_2)=\\frac{1}{2}\\left[\\frac{(a-c)}{b}-q_2\\right]$$\n",
    "\n",
    "As the two firms are symmetric, firm 2's reaction function is equivalent.\n",
    "\n",
    "Notice that the higher the quantity of firm 2, the lower the quantity of firm 1."
   ]
  },
  {
   "cell_type": "markdown",
   "metadata": {},
   "source": [
    "### Cournot-Nash Equilibrium"
   ]
  },
  {
   "cell_type": "markdown",
   "metadata": {},
   "source": [
    "Solving the model gives us the Cournot-Nash equilibrium. Here, firm 1 produces the optimal amount of the good given what firm 2 produces and vice verca.\n",
    "\n",
    "To find the Cournot-Nash Equilibrium, we consider the two **reaction functions**. We plug in $q_2$ in $q_1$ and solve for $q_1$:\n",
    "\n",
    "$$q_1 = \\frac{1}{2}\\left[\\frac{(a-c)}{b}-\\left[\\frac{1}{2}\\left[\\frac{(a-c)}{b}-q_1\\right]\\right]\\right]$$\n",
    "$$q_1=\\frac{1}{3}\\frac{(a-c)}{b}$$\n",
    "\n",
    "As the two companies are symmetric, $q_2$ is:\n",
    "\n",
    "$$q_2=\\frac{1}{3}\\frac{(a-c)}{b}$$\n",
    "\n",
    "Which is the solution to the model. This gives us a price of:\n",
    "\n",
    "$$p = a - b(\\frac{1}{3}\\frac{(a-c)}{b}+\\frac{1}{3}\\frac{(a-c)}{b}) = \\frac{1}{3}a + \\frac{2}{3}c$$\n",
    "\n",
    "And a firm profit of:\n",
    "\n",
    "$$\\pi_i = pq_i-cq_i = \\frac{(a + 2c)}{3}\\frac{(a - c)}{3b} + c\\frac{(a - c)}{3b} = \\frac{a^2 + 4ac - 5c^2}{9b}$$\n",
    "\n",
    "Now, we will solve the model using Python."
   ]
  },
  {
   "cell_type": "markdown",
   "metadata": {},
   "source": [
    "## Solving the Cournot model using Python"
   ]
  },
  {
   "cell_type": "markdown",
   "metadata": {},
   "source": [
    "First, we import the relevant libraries. We will be be solving the model both symbolically and numerically, meaning that we need the sympy library and elements from the scipy library. Furthermore, we need numpy when working with arrays and matplotlib and ipywidgets for graphs."
   ]
  },
  {
   "cell_type": "code",
   "execution_count": 1,
   "metadata": {},
   "outputs": [],
   "source": [
    "# Import libraries\n",
    "from scipy import optimize,arange\n",
    "import numpy as np\n",
    "import ipywidgets as widgets\n",
    "from scipy import linalg\n",
    "from scipy import optimize\n",
    "import sympy as sm\n",
    "import matplotlib.pyplot as plt"
   ]
  },
  {
   "cell_type": "markdown",
   "metadata": {},
   "source": [
    "## Symbolically"
   ]
  },
  {
   "cell_type": "markdown",
   "metadata": {},
   "source": [
    "First, we define all the symbols and make sure that the results will look nice when printed."
   ]
  },
  {
   "cell_type": "code",
   "execution_count": 2,
   "metadata": {},
   "outputs": [],
   "source": [
    "# Define symbols\n",
    "q1 = sm.symbols('q_1')\n",
    "q2 = sm.symbols('q_2')\n",
    "p1 = sm.symbols('p_1')\n",
    "p2 = sm.symbols('p_2')\n",
    "pi1 = sm.symbols('pi1')\n",
    "pi2 = sm.symbols('pi2')\n",
    "a = sm.symbols('a')\n",
    "b = sm.symbols('b')\n",
    "c = sm.symbols('c')\n",
    "\n",
    "# For pretty printing\n",
    "sm.init_printing(use_unicode=True)"
   ]
  },
  {
   "cell_type": "markdown",
   "metadata": {},
   "source": [
    "Then we set up the inverse demand function."
   ]
  },
  {
   "cell_type": "code",
   "execution_count": 3,
   "metadata": {},
   "outputs": [],
   "source": [
    "def p(q1,q2):\n",
    "    return a-b*(q1+q2)"
   ]
  },
  {
   "cell_type": "markdown",
   "metadata": {},
   "source": [
    "Then we define the cost function."
   ]
  },
  {
   "cell_type": "code",
   "execution_count": 4,
   "metadata": {},
   "outputs": [],
   "source": [
    "def cost(c,q):\n",
    "    return c*q"
   ]
  },
  {
   "cell_type": "markdown",
   "metadata": {},
   "source": [
    "And finally, the profit function."
   ]
  },
  {
   "cell_type": "code",
   "execution_count": 5,
   "metadata": {},
   "outputs": [],
   "source": [
    "def profit(q1,q2,c):\n",
    "    return p(q1,q2)*q1 - cost(c,q1)"
   ]
  },
  {
   "cell_type": "markdown",
   "metadata": {},
   "source": [
    "Now can differentiate to find the reaction functions. We see that they are the same as found in the section above."
   ]
  },
  {
   "cell_type": "code",
   "execution_count": 6,
   "metadata": {},
   "outputs": [
    {
     "data": {
      "image/png": "[encoded data removed]",
      "text/latex": [
       "$$a - b q_{1} - b \\left(q_{1} + q_{2}\\right) - c$$"
      ],
      "text/plain": [
       "a - b⋅q₁ - b⋅(q₁ + q₂) - c"
      ]
     },
     "execution_count": 6,
     "metadata": {},
     "output_type": "execute_result"
    }
   ],
   "source": [
    "# Differentiate profit wrt q1 and q2, respectively\n",
    "foc1 = sm.diff(profit(q1,q2,c),q1)\n",
    "foc2 = sm.diff(profit(q2,q1,c),q2)\n",
    "foc1"
   ]
  },
  {
   "cell_type": "markdown",
   "metadata": {},
   "source": [
    "Finally, we can solve for the equilibrium output."
   ]
  },
  {
   "cell_type": "code",
   "execution_count": 7,
   "metadata": {},
   "outputs": [
    {
     "data": {
      "image/png": "[encoded data removed]",
      "text/latex": [
       "$$\\left \\{ q_{1} : \\frac{a - c}{3 b}, \\quad q_{2} : \\frac{a - c}{3 b}\\right \\}$$"
      ],
      "text/plain": [
       "⎧    a - c      a - c⎫\n",
       "⎨q₁: ─────, q₂: ─────⎬\n",
       "⎩     3⋅b        3⋅b ⎭"
      ]
     },
     "execution_count": 7,
     "metadata": {},
     "output_type": "execute_result"
    }
   ],
   "source": [
    "# Solve for equilibrium outpt\n",
    "sm.solve([foc1, foc2], [q1, q2])"
   ]
  },
  {
   "cell_type": "markdown",
   "metadata": {},
   "source": [
    "Which is the same as we found in the theoretical section above."
   ]
  },
  {
   "cell_type": "markdown",
   "metadata": {},
   "source": [
    "## Numerically"
   ]
  },
  {
   "cell_type": "markdown",
   "metadata": {},
   "source": [
    "We again define all the functions, but this time as python variables, and since we are solving the model numerically now, we also define the demand parameters and the marginal costs."
   ]
  },
  {
   "cell_type": "code",
   "execution_count": 16,
   "metadata": {},
   "outputs": [],
   "source": [
    "def p(q1,q2):\n",
    "    return a-b*(q1+q2)\n",
    "\n",
    "def cost(q,c):\n",
    "    if q == 0:\n",
    "        cost = 0\n",
    "    else:\n",
    "        cost = c*q\n",
    "    return cost\n",
    "\n",
    "def profit(demand_function,cost_function,c,q1,q2):\n",
    "    return demand_function(q1,q2)*q1-cost(q1,c)\n",
    "\n",
    "a = 2\n",
    "b = 1\n",
    "c = 0"
   ]
  },
  {
   "cell_type": "markdown",
   "metadata": {},
   "source": [
    "We then need to maximize profits in order to find the reaction function as shown in the theoretical section above. We will use scipy.optimize for this, and since this function is minimizing instead of maximizing, we add a minus in front."
   ]
  },
  {
   "cell_type": "code",
   "execution_count": 17,
   "metadata": {},
   "outputs": [
    {
     "data": {
      "text/plain": [
       "array([0.66666667, 0.66666667])"
      ]
     },
     "execution_count": 17,
     "metadata": {},
     "output_type": "execute_result"
    }
   ],
   "source": [
    "def reaction_function(q2,c):\n",
    "    q1 =  optimize.fminbound(lambda x: -profit(p,cost,c,x,q2),0,1,full_output=1)\n",
    "    return q1[0]\n",
    "\n",
    "def fixed_point(q,c):\n",
    "    return [q[0]-reaction_function(q[1],c[0]),q[1]-reaction_function(q[0],c[1])]\n",
    "\n",
    "initial_guess = [0,0]\n",
    "\n",
    "optimize.fsolve(lambda q: fixed_point(q,[0,0]), initial_guess)"
   ]
  },
  {
   "cell_type": "code",
   "execution_count": 77,
   "metadata": {},
   "outputs": [
    {
     "data": {
      "image/png": "[encoded data removed]",
      "text/latex": [
       "$$\\left ( 0, \\quad 1\\right )$$"
      ],
      "text/plain": [
       "(0, 1)"
      ]
     },
     "execution_count": 77,
     "metadata": {},
     "output_type": "execute_result"
    },
    {
     "data": {
      "image/png": "[encoded data removed]",
      "text/plain": [
       "<Figure size 432x360 with 1 Axes>"
      ]
     },
     "metadata": {
      "needs_background": "light"
     },
     "output_type": "display_data"
    }
   ],
   "source": [
    "def q1(q2,c,a,b):\n",
    "    return 0.5*((a-c)/b-q2)\n",
    "\n",
    "def q2(q1,c,a,b):\n",
    "    return 0.5*((a-c)/b-q1)\n",
    "\n",
    "# a. settings\n",
    "N = 100 # number of elements\n",
    "q_max = 2 # maximum value\n",
    "q1_plot=[]\n",
    "q2_plot=[]\n",
    "# b. allocate numpy arrays\n",
    "shape_tuple = (N,N)\n",
    "q1_values = np.empty(shape_tuple) # allocate 2d numpy array with shape=(N,N)\n",
    "q2_values = np.empty(shape_tuple)\n",
    "\n",
    "# c. fill numpy arrays\n",
    "for i in range(N): # 0,1,...,N-1\n",
    "    for j in range(N): # 0,1,...,N-1\n",
    "        q1_values[i,j] = (i/(N-1))*q_max # in [0,x_max]\n",
    "        q2_values[i,j] = (j/(N-1))*q_max # in [0,x_max]\n",
    "for i in range(0,100):\n",
    "    q1_plot.append(q1(q1_values[i][0],c,a,b))\n",
    "    q2_plot.append(q2(q2_values[0][99-i],c,a,b))\n",
    "        \n",
    "fig = plt.figure(figsize=(6,5))\n",
    "ax = fig.add_subplot(1,1,1)\n",
    "\n",
    "plt.plot(q1_plot,q2_plot)\n",
    "plt.plot(q2_plot,q1_plot)\n",
    "\n",
    "ax.set_xlabel('$q_1$')\n",
    "ax.set_ylabel('$q_2$')\n",
    "ax.set_xlim([0,1])\n",
    "ax.set_ylim([0,1])"
   ]
  },
  {
   "cell_type": "code",
   "execution_count": 68,
   "metadata": {},
   "outputs": [
    {
     "data": {
      "image/png": "[encoded data removed]",
      "text/latex": [
       "$$0.0$$"
      ],
      "text/plain": [
       "0.0"
      ]
     },
     "execution_count": 68,
     "metadata": {},
     "output_type": "execute_result"
    }
   ],
   "source": [
    "q1_plot"
   ]
  },
  {
   "cell_type": "code",
   "execution_count": 25,
   "metadata": {},
   "outputs": [
    {
     "data": {
      "image/png": "[encoded data removed]",
      "text/latex": [
       "$$\\left ( 0, \\quad 1\\right )$$"
      ],
      "text/plain": [
       "(0, 1)"
      ]
     },
     "execution_count": 25,
     "metadata": {},
     "output_type": "execute_result"
    },
    {
     "data": {
      "image/png": "[encoded data removed]",
      "text/plain": [
       "<Figure size 432x360 with 1 Axes>"
      ]
     },
     "metadata": {
      "needs_background": "light"
     },
     "output_type": "display_data"
    }
   ],
   "source": [
    "q_vec = np.linspace(0,q_max,N)\n",
    "q1_values,q2_values = np.meshgrid(q_vec,q_vec,indexing='ij')\n",
    "q1_plot = q1(q2_values,c,a,b)\n",
    "q2_plot = q2(q1_values,c,a,b)\n",
    "\n",
    "fig = plt.figure(figsize=(6,5))\n",
    "ax = fig.add_subplot(1,1,1)\n",
    "\n",
    "ax.plot(q1_plot,q2_plot)\n",
    "\n",
    "ax.set_xlabel('$q_1$')\n",
    "ax.set_ylabel('$q_2$')\n",
    "ax.set_xlim([0,1])\n",
    "ax.set_ylim([0,1])"
   ]
  },
  {
   "cell_type": "code",
   "execution_count": 15,
   "metadata": {},
   "outputs": [
    {
     "ename": "TypeError",
     "evalue": "cannot determine truth value of Relational",
     "output_type": "error",
     "traceback": [
      "\u001b[0;31m---------------------------------------------------------------------------\u001b[0m",
      "\u001b[0;31mTypeError\u001b[0m                                 Traceback (most recent call last)",
      "\u001b[0;32m<ipython-input-15-ba239ddcc1c0>\u001b[0m in \u001b[0;36m<module>\u001b[0;34m\u001b[0m\n\u001b[1;32m      2\u001b[0m \u001b[0max\u001b[0m \u001b[0;34m=\u001b[0m \u001b[0mfig\u001b[0m\u001b[0;34m.\u001b[0m\u001b[0madd_subplot\u001b[0m\u001b[0;34m(\u001b[0m\u001b[0;36m1\u001b[0m\u001b[0;34m,\u001b[0m\u001b[0;36m1\u001b[0m\u001b[0;34m,\u001b[0m\u001b[0;36m1\u001b[0m\u001b[0;34m)\u001b[0m\u001b[0;34m\u001b[0m\u001b[0m\n\u001b[1;32m      3\u001b[0m \u001b[0;34m\u001b[0m\u001b[0m\n\u001b[0;32m----> 4\u001b[0;31m \u001b[0mq1\u001b[0m \u001b[0;34m=\u001b[0m \u001b[0mreaction_function\u001b[0m\u001b[0;34m(\u001b[0m\u001b[0mq2\u001b[0m\u001b[0;34m,\u001b[0m\u001b[0mc\u001b[0m\u001b[0;34m)\u001b[0m\u001b[0;34m\u001b[0m\u001b[0m\n\u001b[0m\u001b[1;32m      5\u001b[0m \u001b[0mq2\u001b[0m \u001b[0;34m=\u001b[0m \u001b[0mreaction_function\u001b[0m\u001b[0;34m(\u001b[0m\u001b[0mq1\u001b[0m\u001b[0;34m,\u001b[0m\u001b[0mc\u001b[0m\u001b[0;34m)\u001b[0m\u001b[0;34m\u001b[0m\u001b[0m\n\u001b[1;32m      6\u001b[0m \u001b[0max\u001b[0m\u001b[0;34m.\u001b[0m\u001b[0mplot\u001b[0m\u001b[0;34m(\u001b[0m\u001b[0mq1\u001b[0m\u001b[0;34m,\u001b[0m\u001b[0mq2\u001b[0m\u001b[0;34m)\u001b[0m\u001b[0;34m\u001b[0m\u001b[0m\n",
      "\u001b[0;32m<ipython-input-9-05eebf167cb5>\u001b[0m in \u001b[0;36mreaction_function\u001b[0;34m(q2, c)\u001b[0m\n\u001b[1;32m      1\u001b[0m \u001b[0;32mdef\u001b[0m \u001b[0mreaction_function\u001b[0m\u001b[0;34m(\u001b[0m\u001b[0mq2\u001b[0m\u001b[0;34m,\u001b[0m\u001b[0mc\u001b[0m\u001b[0;34m)\u001b[0m\u001b[0;34m:\u001b[0m\u001b[0;34m\u001b[0m\u001b[0m\n\u001b[0;32m----> 2\u001b[0;31m     \u001b[0mq1\u001b[0m \u001b[0;34m=\u001b[0m  \u001b[0moptimize\u001b[0m\u001b[0;34m.\u001b[0m\u001b[0mfminbound\u001b[0m\u001b[0;34m(\u001b[0m\u001b[0;32mlambda\u001b[0m \u001b[0mx\u001b[0m\u001b[0;34m:\u001b[0m \u001b[0;34m-\u001b[0m\u001b[0mprofit\u001b[0m\u001b[0;34m(\u001b[0m\u001b[0mp\u001b[0m\u001b[0;34m,\u001b[0m\u001b[0mcost\u001b[0m\u001b[0;34m,\u001b[0m\u001b[0mc\u001b[0m\u001b[0;34m,\u001b[0m\u001b[0mx\u001b[0m\u001b[0;34m,\u001b[0m\u001b[0mq2\u001b[0m\u001b[0;34m)\u001b[0m\u001b[0;34m,\u001b[0m\u001b[0;36m0\u001b[0m\u001b[0;34m,\u001b[0m\u001b[0;36m1\u001b[0m\u001b[0;34m,\u001b[0m\u001b[0mfull_output\u001b[0m\u001b[0;34m=\u001b[0m\u001b[0;36m1\u001b[0m\u001b[0;34m)\u001b[0m\u001b[0;34m\u001b[0m\u001b[0m\n\u001b[0m\u001b[1;32m      3\u001b[0m     \u001b[0;32mreturn\u001b[0m \u001b[0mq1\u001b[0m\u001b[0;34m[\u001b[0m\u001b[0;36m0\u001b[0m\u001b[0;34m]\u001b[0m\u001b[0;34m\u001b[0m\u001b[0m\n\u001b[1;32m      4\u001b[0m \u001b[0;34m\u001b[0m\u001b[0m\n\u001b[1;32m      5\u001b[0m \u001b[0;32mdef\u001b[0m \u001b[0mfixed_point\u001b[0m\u001b[0;34m(\u001b[0m\u001b[0mq\u001b[0m\u001b[0;34m,\u001b[0m\u001b[0mc\u001b[0m\u001b[0;34m)\u001b[0m\u001b[0;34m:\u001b[0m\u001b[0;34m\u001b[0m\u001b[0m\n",
      "\u001b[0;32m/Library/Frameworks/Python.framework/Versions/3.7/lib/python3.7/site-packages/scipy/optimize/optimize.py\u001b[0m in \u001b[0;36mfminbound\u001b[0;34m(func, x1, x2, args, xtol, maxfun, full_output, disp)\u001b[0m\n\u001b[1;32m   1697\u001b[0m                'disp': disp}\n\u001b[1;32m   1698\u001b[0m \u001b[0;34m\u001b[0m\u001b[0m\n\u001b[0;32m-> 1699\u001b[0;31m     \u001b[0mres\u001b[0m \u001b[0;34m=\u001b[0m \u001b[0m_minimize_scalar_bounded\u001b[0m\u001b[0;34m(\u001b[0m\u001b[0mfunc\u001b[0m\u001b[0;34m,\u001b[0m \u001b[0;34m(\u001b[0m\u001b[0mx1\u001b[0m\u001b[0;34m,\u001b[0m \u001b[0mx2\u001b[0m\u001b[0;34m)\u001b[0m\u001b[0;34m,\u001b[0m \u001b[0margs\u001b[0m\u001b[0;34m,\u001b[0m \u001b[0;34m**\u001b[0m\u001b[0moptions\u001b[0m\u001b[0;34m)\u001b[0m\u001b[0;34m\u001b[0m\u001b[0m\n\u001b[0m\u001b[1;32m   1700\u001b[0m     \u001b[0;32mif\u001b[0m \u001b[0mfull_output\u001b[0m\u001b[0;34m:\u001b[0m\u001b[0;34m\u001b[0m\u001b[0m\n\u001b[1;32m   1701\u001b[0m         \u001b[0;32mreturn\u001b[0m \u001b[0mres\u001b[0m\u001b[0;34m[\u001b[0m\u001b[0;34m'x'\u001b[0m\u001b[0;34m]\u001b[0m\u001b[0;34m,\u001b[0m \u001b[0mres\u001b[0m\u001b[0;34m[\u001b[0m\u001b[0;34m'fun'\u001b[0m\u001b[0;34m]\u001b[0m\u001b[0;34m,\u001b[0m \u001b[0mres\u001b[0m\u001b[0;34m[\u001b[0m\u001b[0;34m'status'\u001b[0m\u001b[0;34m]\u001b[0m\u001b[0;34m,\u001b[0m \u001b[0mres\u001b[0m\u001b[0;34m[\u001b[0m\u001b[0;34m'nfev'\u001b[0m\u001b[0;34m]\u001b[0m\u001b[0;34m\u001b[0m\u001b[0m\n",
      "\u001b[0;32m/Library/Frameworks/Python.framework/Versions/3.7/lib/python3.7/site-packages/scipy/optimize/optimize.py\u001b[0m in \u001b[0;36m_minimize_scalar_bounded\u001b[0;34m(func, bounds, args, xatol, maxiter, disp, **unknown_options)\u001b[0m\n\u001b[1;32m   1804\u001b[0m             \u001b[0mprint\u001b[0m\u001b[0;34m(\u001b[0m\u001b[0;34m\"%5.0f   %12.6g %12.6g %s\"\u001b[0m \u001b[0;34m%\u001b[0m \u001b[0;34m(\u001b[0m\u001b[0mfmin_data\u001b[0m \u001b[0;34m+\u001b[0m \u001b[0;34m(\u001b[0m\u001b[0mstep\u001b[0m\u001b[0;34m,\u001b[0m\u001b[0;34m)\u001b[0m\u001b[0;34m)\u001b[0m\u001b[0;34m)\u001b[0m\u001b[0;34m\u001b[0m\u001b[0m\n\u001b[1;32m   1805\u001b[0m \u001b[0;34m\u001b[0m\u001b[0m\n\u001b[0;32m-> 1806\u001b[0;31m         \u001b[0;32mif\u001b[0m \u001b[0mfu\u001b[0m \u001b[0;34m<=\u001b[0m \u001b[0mfx\u001b[0m\u001b[0;34m:\u001b[0m\u001b[0;34m\u001b[0m\u001b[0m\n\u001b[0m\u001b[1;32m   1807\u001b[0m             \u001b[0;32mif\u001b[0m \u001b[0mx\u001b[0m \u001b[0;34m>=\u001b[0m \u001b[0mxf\u001b[0m\u001b[0;34m:\u001b[0m\u001b[0;34m\u001b[0m\u001b[0m\n\u001b[1;32m   1808\u001b[0m                 \u001b[0ma\u001b[0m \u001b[0;34m=\u001b[0m \u001b[0mxf\u001b[0m\u001b[0;34m\u001b[0m\u001b[0m\n",
      "\u001b[0;32m/Library/Frameworks/Python.framework/Versions/3.7/lib/python3.7/site-packages/sympy/core/relational.py\u001b[0m in \u001b[0;36m__nonzero__\u001b[0;34m(self)\u001b[0m\n\u001b[1;32m    227\u001b[0m \u001b[0;34m\u001b[0m\u001b[0m\n\u001b[1;32m    228\u001b[0m     \u001b[0;32mdef\u001b[0m \u001b[0m__nonzero__\u001b[0m\u001b[0;34m(\u001b[0m\u001b[0mself\u001b[0m\u001b[0;34m)\u001b[0m\u001b[0;34m:\u001b[0m\u001b[0;34m\u001b[0m\u001b[0m\n\u001b[0;32m--> 229\u001b[0;31m         \u001b[0;32mraise\u001b[0m \u001b[0mTypeError\u001b[0m\u001b[0;34m(\u001b[0m\u001b[0;34m\"cannot determine truth value of Relational\"\u001b[0m\u001b[0;34m)\u001b[0m\u001b[0;34m\u001b[0m\u001b[0m\n\u001b[0m\u001b[1;32m    230\u001b[0m \u001b[0;34m\u001b[0m\u001b[0m\n\u001b[1;32m    231\u001b[0m     \u001b[0m__bool__\u001b[0m \u001b[0;34m=\u001b[0m \u001b[0m__nonzero__\u001b[0m\u001b[0;34m\u001b[0m\u001b[0m\n",
      "\u001b[0;31mTypeError\u001b[0m: cannot determine truth value of Relational"
     ]
    },
    {
     "data": {
      "image/png": "[encoded data removed]",
      "text/plain": [
       "<Figure size 432x360 with 1 Axes>"
      ]
     },
     "metadata": {
      "needs_background": "light"
     },
     "output_type": "display_data"
    }
   ],
   "source": [
    "fig = plt.figure(figsize=(6,5))\n",
    "ax = fig.add_subplot(1,1,1)\n",
    "\n",
    "q1 = reaction_function(q2,0)\n",
    "q2 = reaction_function(q1,0)\n",
    "ax.plot(q1,q2)\n",
    "\n",
    "ax.set_xlabel('$q_1$')\n",
    "ax.set_ylabel('$q_2$')\n",
    "ax.set_xlim([0,1])\n",
    "ax.set_ylim([0,1])\n"
   ]
  },
  {
   "cell_type": "code",
   "execution_count": 36,
   "metadata": {},
   "outputs": [
    {
     "data": {
      "text/plain": [
       "Text(0, 0.5, '$q_2$')"
      ]
     },
     "execution_count": 36,
     "metadata": {},
     "output_type": "execute_result"
    },
    {
     "data": {
      "image/png": "[encoded data removed]",
      "text/plain": [
       "<Figure size 576x396 with 1 Axes>"
      ]
     },
     "metadata": {},
     "output_type": "display_data"
    }
   ],
   "source": [
    "#range_q1 = [optimize.fsolve(lambda q: fixed_point(q,[0,0]), initial_guess)]\n",
    "#range_q2 = [optimize.fsolve(lambda q: fixed_point(q,[0,0]), initial_guess)]\n",
    "#plt.style.use('seaborn')\n",
    "plt.clf()\n",
    "plt.plot(optimize.fsolve(lambda q: fixed_point(q,[0,0]), initial_guess), label = '$q_1$')\n",
    "plt.plot(optimize.fsolve(lambda q: fixed_point(q,[0,0]), initial_guess), label = '$q_2$')\n",
    "plt.xlabel('$q_1$')\n",
    "plt.ylabel('$q_2$')"
   ]
  },
  {
   "cell_type": "code",
   "execution_count": 39,
   "metadata": {},
   "outputs": [
    {
     "data": {
      "image/png": "[encoded data removed]",
      "text/plain": [
       "<Figure size 432x288 with 1 Axes>"
      ]
     },
     "metadata": {},
     "output_type": "display_data"
    }
   ],
   "source": [
    "%matplotlib inline\n",
    "import matplotlib.pyplot as plt\n",
    "plt.style.use('seaborn-whitegrid')\n",
    "import numpy as np\n",
    "\n",
    "x = (optimize.fsolve(lambda q: fixed_point(q,[0,0]), initial_guess))\n",
    "y = (optimize.fsolve(lambda q: fixed_point(q,[0,0]), initial_guess))\n",
    "\n",
    "plt.plot(x, y, 'o', color='black');"
   ]
  },
  {
   "cell_type": "markdown",
   "metadata": {},
   "source": [
    "**Her skal vi tilføje en graf med q1 og q2 samt en lille tabel over mængde, pris og profit**"
   ]
  },
  {
   "cell_type": "markdown",
   "metadata": {},
   "source": [
    "## Cournot Competition with Collusion"
   ]
  },
  {
   "cell_type": "markdown",
   "metadata": {},
   "source": [
    "Now we look at the situation where firms collude on some amounts $q_1$ and $q_2$. Again, we assume symmetric firms. To keep it simple, we also assume that they collude on identical output levels, i.e. $q_1 = q_2 = q$.\n",
    "\n",
    "We want to examine what happens with firm profits under collusion, i.e. we want to find $\\pi(q,q) + \\pi(q,q) = 2\\pi(q,q)$. For collusion to be sustainable, the following has to hold:\n",
    "\n",
    "$$\\frac{1}{1-\\delta}\\pi(q,q) \\geq \\underset{\\hat{q}}{max} \\pi(\\hat{q},q) + \\frac{\\delta}{1-\\delta}\\pi(q^*,q^*)$$\n",
    "\n",
    "Which can be rewritten as:\n",
    "\n",
    "$$\\pi(q,q) \\geq (1-\\delta)\\underset{\\hat{q}}{max} \\pi(\\hat{q},q) + \\delta\\pi(q^*,q^*)$$\n",
    "\n",
    "$\\delta$ is the discount factor and is between 0 and 1, while $\\hat{q}$ is the best response when the other firm chooses $q$ and $q^*$ is the Cournot-Nash equilibrium output."
   ]
  },
  {
   "cell_type": "markdown",
   "metadata": {},
   "source": [
    "## Solving the Collusion Model Using Python"
   ]
  },
  {
   "cell_type": "markdown",
   "metadata": {},
   "source": [
    "We can now calculate the firm profits under collusion. We include the situation where collusion cannot be sustained and thus profits are equal to 0 as we will use this in a graph."
   ]
  },
  {
   "cell_type": "code",
   "execution_count": 143,
   "metadata": {},
   "outputs": [],
   "source": [
    "def collusion_profits(q,b,c,delta):\n",
    "    profits = profit(q,q,c,b)\n",
    "    q1 = optimize.fsolve(reaction_function, intitial_guess, args = ([b,c,c]))\n",
    "    if profits >= (1-delta)*profit(reaction_function(q,c,b),q,c,b)+delta*profit(q1[0],q1[1],c,b):\n",
    "        industry_profits = 2*profits\n",
    "    else:\n",
    "        industry_profits = 0\n",
    "    return industry_profits"
   ]
  },
  {
   "cell_type": "markdown",
   "metadata": {},
   "source": [
    "**Her skal vi tilføje en graf, der viser, hvornår collusion bryder sammen, samt en tabel over mængde, priser og profit under collusion**"
   ]
  }
 ],
 "metadata": {
  "kernelspec": {
   "display_name": "Python 3",
   "language": "python",
   "name": "python3"
  },
  "language_info": {
   "codemirror_mode": {
    "name": "ipython",
    "version": 3
   },
   "file_extension": ".py",
   "mimetype": "text/x-python",
   "name": "python",
   "nbconvert_exporter": "python",
   "pygments_lexer": "ipython3",
   "version": "3.7.0"
  }
 },
 "nbformat": 4,
 "nbformat_minor": 2
}
