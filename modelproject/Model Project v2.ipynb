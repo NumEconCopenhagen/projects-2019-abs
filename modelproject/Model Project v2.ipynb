{
 "cells": [
  {
   "cell_type": "markdown",
   "metadata": {},
   "source": [
    "# Cournot Competition with and without Collusion\n"
   ]
  },
  {
   "cell_type": "markdown",
   "metadata": {},
   "source": [
    "In this notebook, we work with two competing firms operating under Cournot competition known from Micro II, Micro III and Industrial Organization. First, we solve the simple standard model and afterwards we look into what happens when the model is extended so that the firms collude."
   ]
  },
  {
   "cell_type": "markdown",
   "metadata": {},
   "source": [
    "## Cournot Competition"
   ]
  },
  {
   "cell_type": "markdown",
   "metadata": {},
   "source": [
    "When firms compete in quantities, we have Cournot competition. In this notebook we stick to the simplest setup with two firms, i.e. we have a duopoly. The two firms simultaneously decide their output, and since the two firms have market power, the chosen quantities will determine the price. Both firms seek to maximize their profit given the decision of the other firm. The Cournot model can be extended in different ways. In this notebook we will look into what happens when firms collude, meaning that the two firms agree on a specific strategy."
   ]
  },
  {
   "cell_type": "markdown",
   "metadata": {},
   "source": [
    "## The Standard Model"
   ]
  },
  {
   "cell_type": "markdown",
   "metadata": {},
   "source": [
    "### General Assumptions"
   ]
  },
  {
   "cell_type": "markdown",
   "metadata": {},
   "source": [
    "The two firms produce a homogeneous product, and thus the consumers see them as perfect substitutes.\n",
    "\n",
    "The two firms have the same costs, which are $c(q)$, and the marginal costs are constant and equal to c, i.e. $mc = c$.\n",
    "\n",
    "The two firms are facing the same overall demand from consumers.\n",
    "\n",
    "The model consists of: the demand functions, the profit functions and the reaction functions."
   ]
  },
  {
   "cell_type": "markdown",
   "metadata": {},
   "source": [
    "### The Demand Function"
   ]
  },
  {
   "cell_type": "markdown",
   "metadata": {},
   "source": [
    "Firm 1 produces and amount equal to $q_1$, whereas firm 2 produces $q_2$. The total demand in the economy is represented by the sum of each firm's individual supply, and is thus: \n",
    "\n",
    "$$Q = q_1+q_2$$\n",
    "\n",
    "The inverse linear demand function is given by \n",
    "\n",
    "$$p = a - b(q_1+q_2)$$\n",
    "\n",
    "where $a$ and $b$ are positive parameters."
   ]
  },
  {
   "cell_type": "markdown",
   "metadata": {},
   "source": [
    "### The Profit Function\n",
    "\n",
    "The profit function is total revenue less total costs. The price is linear, and more of both goods decreases the price.\n",
    "\n",
    "$$\\pi_1=pq_1-cq_1$$"
   ]
  },
  {
   "cell_type": "markdown",
   "metadata": {},
   "source": [
    "where $p$ is given above as the inverse demand function. "
   ]
  },
  {
   "cell_type": "markdown",
   "metadata": {},
   "source": [
    "If we plug in the expression for $p$, we can rewrite the profit function and get:\n",
    "\n",
    "$$\\pi_1=[a-b(q_1+q_2)]q_1-cq_1$$"
   ]
  },
  {
   "cell_type": "markdown",
   "metadata": {},
   "source": [
    "As the two firms are symmetric, the profit for firm 2 will be equivalent."
   ]
  },
  {
   "cell_type": "markdown",
   "metadata": {},
   "source": [
    "Notice that the profit of firm one depends on the amount of goods company two produces."
   ]
  },
  {
   "cell_type": "markdown",
   "metadata": {},
   "source": [
    "### The Reaction Function"
   ]
  },
  {
   "cell_type": "markdown",
   "metadata": {},
   "source": [
    "The reaction functions show how much each firm produces given the other firms output.\n",
    "\n",
    "To find the reaction functions, we optimize the profit function for firm 1 with respect to the quantity $q_1$:\n",
    "\n",
    "\\begin{equation*}\n",
    "\\begin{aligned}\n",
    "\\frac{\\partial \\pi_1}{\\partial q_1} = a -2bq_1-bq_2-c = 0\n",
    "\\end{aligned}\n",
    "\\end{equation*}\n",
    "\n",
    "We solve for $q_1$ to get the reaction function of firm 1:\n",
    "\n",
    "$$q_1(q_2)=\\frac{1}{2}\\left[\\frac{(a-c)}{b}-q_2\\right]$$\n",
    "\n",
    "As the two firms are symmetric, firm 2's reaction function is equivalent.\n",
    "\n",
    "Notice that the higher the quantity of firm 2, the lower the quantity of firm 1."
   ]
  },
  {
   "cell_type": "markdown",
   "metadata": {},
   "source": [
    "### Cournot-Nash Equilibrium"
   ]
  },
  {
   "cell_type": "markdown",
   "metadata": {},
   "source": [
    "Solving the model gives us the Cournot-Nash equilibrium. Here, firm 1 produces the optimal amount of the good given what firm 2 produces and vice verca.\n",
    "\n",
    "To find the Cournot-Nash Equilibrium, we consider the two **reaction functions**. We plug in $q_2$ in $q_1$ and solve for $q_1$:\n",
    "\n",
    "$$q_1 = \\frac{1}{2}\\left[\\frac{(a-c)}{b}-\\left[\\frac{1}{2}\\left[\\frac{(a-c)}{b}-q_1\\right]\\right]\\right]$$\n",
    "$$q_1=\\frac{1}{3}\\frac{(a-c)}{b}$$\n",
    "\n",
    "As the two companies are symmetric, $q_2$ is:\n",
    "\n",
    "$$q_2=\\frac{1}{3}\\frac{(a-c)}{b}$$\n",
    "\n",
    "Which is the solution to the model. This gives us a price of:\n",
    "\n",
    "$$p = a - b(\\frac{1}{3}\\frac{(a-c)}{b}+\\frac{1}{3}\\frac{(a-c)}{b}) = \\frac{1}{3}a + \\frac{2}{3}c$$\n",
    "\n",
    "And a firm profit of:\n",
    "\n",
    "$$\\pi_i = pq_i-cq_i = \\frac{(a + 2c)}{3}\\frac{(a - c)}{3b} + c\\frac{(a - c)}{3b} = \\frac{a^2 + 4ac - 5c^2}{9b}$$\n",
    "\n",
    "Now, we will solve the model using Python."
   ]
  },
  {
   "cell_type": "markdown",
   "metadata": {},
   "source": [
    "## Solving the Cournot model using Python"
   ]
  },
  {
   "cell_type": "markdown",
   "metadata": {},
   "source": [
    "First, we import the relevant libraries. We will be be solving the model both symbolically and numerically, meaning that we need the sympy library and elements from the scipy library. Furthermore, we need numpy when working with arrays and matplotlib and ipywidgets for graphs."
   ]
  },
  {
   "cell_type": "code",
   "execution_count": 1,
   "metadata": {},
   "outputs": [],
   "source": [
    "# Import libraries\n",
    "from scipy import optimize,arange\n",
    "import numpy as np\n",
    "import ipywidgets as widgets\n",
    "from scipy import linalg\n",
    "from scipy import optimize\n",
    "import sympy as sm\n",
    "import matplotlib.pyplot as plt"
   ]
  },
  {
   "cell_type": "markdown",
   "metadata": {},
   "source": [
    "## Symbolically"
   ]
  },
  {
   "cell_type": "markdown",
   "metadata": {},
   "source": [
    "First, we define all the symbols and make sure that the results will look nice when printed."
   ]
  },
  {
   "cell_type": "code",
   "execution_count": 2,
   "metadata": {},
   "outputs": [],
   "source": [
    "# Define symbols\n",
    "q1 = sm.symbols('q_1')\n",
    "q2 = sm.symbols('q_2')\n",
    "p1 = sm.symbols('p_1')\n",
    "p2 = sm.symbols('p_2')\n",
    "pi1 = sm.symbols('pi1')\n",
    "pi2 = sm.symbols('pi2')\n",
    "a = sm.symbols('a')\n",
    "b = sm.symbols('b')\n",
    "c = sm.symbols('c')\n",
    "\n",
    "# For pretty printing\n",
    "sm.init_printing(use_unicode=True)"
   ]
  },
  {
   "cell_type": "markdown",
   "metadata": {},
   "source": [
    "Then we set up the inverse demand function."
   ]
  },
  {
   "cell_type": "code",
   "execution_count": 3,
   "metadata": {},
   "outputs": [],
   "source": [
    "def p(q1,q2):\n",
    "    return a-b*(q1+q2)"
   ]
  },
  {
   "cell_type": "markdown",
   "metadata": {},
   "source": [
    "Then we define the cost function."
   ]
  },
  {
   "cell_type": "code",
   "execution_count": 4,
   "metadata": {},
   "outputs": [],
   "source": [
    "def cost(c,q):\n",
    "    return c*q"
   ]
  },
  {
   "cell_type": "markdown",
   "metadata": {},
   "source": [
    "And finally, the profit function."
   ]
  },
  {
   "cell_type": "code",
   "execution_count": 5,
   "metadata": {},
   "outputs": [],
   "source": [
    "def profit(q1,q2,c):\n",
    "    return p(q1,q2)*q1 - cost(c,q1)"
   ]
  },
  {
   "cell_type": "markdown",
   "metadata": {},
   "source": [
    "Now can differentiate to find the reaction functions. We see that they are the same as found in the section above."
   ]
  },
  {
   "cell_type": "code",
   "execution_count": 6,
   "metadata": {},
   "outputs": [
    {
     "data": {
      "image/png": "[encoded data removed]",
      "text/latex": [
       "$$a - b q_{1} - b \\left(q_{1} + q_{2}\\right) - c$$"
      ],
      "text/plain": [
       "a - b⋅q₁ - b⋅(q₁ + q₂) - c"
      ]
     },
     "execution_count": 6,
     "metadata": {},
     "output_type": "execute_result"
    }
   ],
   "source": [
    "# Differentiate profit wrt q1 and q2, respectively\n",
    "foc1 = sm.diff(profit(q1,q2,c),q1)\n",
    "foc2 = sm.diff(profit(q2,q1,c),q2)\n",
    "foc1"
   ]
  },
  {
   "cell_type": "markdown",
   "metadata": {},
   "source": [
    "Finally, we can solve for the equilibrium output."
   ]
  },
  {
   "cell_type": "code",
   "execution_count": 7,
   "metadata": {},
   "outputs": [
    {
     "data": {
      "image/png": "[encoded data removed]",
      "text/latex": [
       "$$\\left \\{ q_{1} : \\frac{a - c}{3 b}, \\quad q_{2} : \\frac{a - c}{3 b}\\right \\}$$"
      ],
      "text/plain": [
       "⎧    a - c      a - c⎫\n",
       "⎨q₁: ─────, q₂: ─────⎬\n",
       "⎩     3⋅b        3⋅b ⎭"
      ]
     },
     "execution_count": 7,
     "metadata": {},
     "output_type": "execute_result"
    }
   ],
   "source": [
    "# Solve for equilibrium outpt\n",
    "sm.solve([foc1, foc2], [q1, q2])"
   ]
  },
  {
   "cell_type": "markdown",
   "metadata": {},
   "source": [
    "Which is the same as we found in the theoretical section above."
   ]
  },
  {
   "cell_type": "markdown",
   "metadata": {},
   "source": [
    "## Numerically"
   ]
  },
  {
   "cell_type": "markdown",
   "metadata": {},
   "source": [
    "We again define all the functions, but this time as python variables, and since we are solving the model numerically now, we also define the demand parameters and the marginal costs."
   ]
  },
  {
   "cell_type": "code",
   "execution_count": 16,
   "metadata": {},
   "outputs": [],
   "source": [
    "def p(q1,q2):\n",
    "    return a-b*(q1+q2)\n",
    "\n",
    "def cost(q,c):\n",
    "    if q == 0:\n",
    "        cost = 0\n",
    "    else:\n",
    "        cost = c*q\n",
    "    return cost\n",
    "\n",
    "def profit(demand_function,cost_function,c,q1,q2):\n",
    "    return demand_function(q1,q2)*q1-cost(q1,c)\n",
    "\n",
    "a = 2\n",
    "b = 1\n",
    "c = 0"
   ]
  },
  {
   "cell_type": "markdown",
   "metadata": {},
   "source": [
    "We then need to maximize profits in order to find the reaction function as shown in the theoretical section above. We will use scipy.optimize for this, and since this function is minimizing instead of maximizing, we add a minus in front."
   ]
  },
  {
   "cell_type": "code",
   "execution_count": 120,
   "metadata": {},
   "outputs": [
    {
     "name": "stdout",
     "output_type": "stream",
     "text": [
      "Equilibrium output: [0.66666667 0.66666667]\n"
     ]
    }
   ],
   "source": [
    "def reaction_function(q2,c):\n",
    "    q1 =  optimize.fminbound(lambda x: -profit(p,cost,c,x,q2),0,1,full_output=1)\n",
    "    return q1[0]\n",
    "\n",
    "def fixed_point(q,c):\n",
    "    return [q[0]-reaction_function(q[1],c[0]),q[1]-reaction_function(q[0],c[1])]\n",
    "\n",
    "initial_guess = [0,0]\n",
    "\n",
    "solution = optimize.fsolve(lambda q: fixed_point(q,[0,0]), initial_guess)\n",
    "\n",
    "print('Equilibrium output:',solution)"
   ]
  },
  {
   "cell_type": "markdown",
   "metadata": {},
   "source": [
    "We see that in the Cournot-Nash equilibrium, we have that $q_1 = q_2 = 0.66666667$. We can depict the Cournot-Nash equilibrium graphically as well."
   ]
  },
  {
   "cell_type": "code",
   "execution_count": 121,
   "metadata": {},
   "outputs": [
    {
     "data": {
      "text/plain": [
       "<matplotlib.legend.Legend at 0x1241222b0>"
      ]
     },
     "execution_count": 121,
     "metadata": {},
     "output_type": "execute_result"
    },
    {
     "data": {
      "image/png": "[encoded data removed]",
      "text/plain": [
       "<Figure size 640x480 with 1 Axes>"
      ]
     },
     "metadata": {},
     "output_type": "display_data"
    }
   ],
   "source": [
    "# Define reactions functions\n",
    "def q1(q2,c,a,b):\n",
    "    return 0.5*((a-c)/b-q2)\n",
    "\n",
    "def q2(q1,c,a,b):\n",
    "    return 0.5*((a-c)/b-q1)\n",
    "\n",
    "# Create best response to multiple q values\n",
    "range_q1 = np.linspace(0,2,10)\n",
    "range_q2 = np.linspace(0,2,10)\n",
    "q1 = q1(range_q2,c,a,b)\n",
    "q2 = q2(range_q1,c,a,b)\n",
    "\n",
    "# Plot q1 and q2\n",
    "plt.plot(q1,range_q2, label = '$q_1$')\n",
    "plt.plot(range_q1,q2, label = '$q_2$')\n",
    "plt.xlabel('$q_1$')\n",
    "plt.ylabel('$q_2$')\n",
    "plt.xticks(np.arange(0, 2.1, step=0.1))\n",
    "plt.yticks(np.arange(0, 2.1, step=0.1))\n",
    "plt.legend()"
   ]
  },
  {
   "cell_type": "markdown",
   "metadata": {},
   "source": [
    "Let us summarize the Cournot-Nash equilibrium output, price and profit."
   ]
  },
  {
   "cell_type": "code",
   "execution_count": 144,
   "metadata": {},
   "outputs": [
    {
     "name": "stdout",
     "output_type": "stream",
     "text": [
      "0.67 0.67 1.33 0.67 0.44 0.44 0.89 1.78\n"
     ]
    }
   ],
   "source": [
    "q1_star = solution[0]\n",
    "q2_star = solution[1]\n",
    "\n",
    "Q_star = q1_star + q2_star\n",
    "\n",
    "p_star = a-b*(q1_star+q2_star)\n",
    "\n",
    "pi1_star = p_star*q1_star-c*q1_star\n",
    "pi2_star = p_star*q2_star-c*q2_star\n",
    "\n",
    "CS = Q_star*(a-p_star)/2\n",
    "\n",
    "TS = pi1_star + pi2_star + CS\n",
    "\n",
    "print(\"%.2f\" % q1_star, \"%.2f\" % q2_star, \n",
    "      \"%.2f\" % Q_star, \"%.2f\" % p_star, \n",
    "      \"%.2f\" % pi1_star, \"%.2f\" % pi2_star, \n",
    "      \"%.2f\" % CS, \"%.2f\" % TS)\n",
    "\n"
   ]
  },
  {
   "cell_type": "code",
   "execution_count": 140,
   "metadata": {},
   "outputs": [
    {
     "data": {
      "application/vnd.jupyter.widget-view+json": {
       "model_id": "68ecf4c718f84b7682ddbdf63cc03551",
       "version_major": 2,
       "version_minor": 0
      },
      "text/plain": [
       "interactive(children=(FloatSlider(value=1.0, description='c', max=2.0, step=0.2), FloatSlider(value=1.2, descr…"
      ]
     },
     "metadata": {},
     "output_type": "display_data"
    }
   ],
   "source": [
    "from ipywidgets import interact, interactive, IntSlider, Layout, interact_manual\n",
    "import ipywidgets as widgets\n",
    "from IPython.display import display\n",
    "\n",
    "def func(c,a,b):\n",
    "    q1_interactive=0.5*((a-c)/b-q2)\n",
    "    plt.figure(figsize=(8,5))\n",
    "    plt.plot(q2,q1_interactive,c='red')\n",
    "    q2_interactive=(0.5*((a-c)/b-q1))\n",
    "    plt.plot(q2_interactive,q1,c='yellow')\n",
    "    plt.grid(True)\n",
    "    plt.show()\n",
    "    return (q1_interactive,q2_interactive)\n",
    "\n",
    "interactive_graph=interactive(func,a=(0.2,2.2,0.2),b=(0.2,2.2,0.2),\n",
    "              c=(0,2,0.2))\n",
    "display(interactive_graph)"
   ]
  },
  {
   "cell_type": "markdown",
   "metadata": {},
   "source": [
    "**Her skal vi tilføje en graf med q1 og q2 samt en lille tabel over mængde, pris og profit**"
   ]
  },
  {
   "cell_type": "markdown",
   "metadata": {},
   "source": [
    "## Cournot Competition with Collusion"
   ]
  },
  {
   "cell_type": "markdown",
   "metadata": {},
   "source": [
    "Now we look at the situation where firms collude on some amounts $q_1$ and $q_2$. Again, we assume symmetric firms. To keep it simple, we also assume that they collude on identical output levels, i.e. $q_1 = q_2 = q$.\n",
    "\n",
    "We want to examine what happens with firm profits under collusion, i.e. we want to find $\\pi(q,q) + \\pi(q,q) = 2\\pi(q,q)$. For collusion to be sustainable, the following has to hold:\n",
    "\n",
    "$$\\frac{1}{1-\\delta}\\pi(q,q) \\geq \\underset{\\hat{q}}{max} \\pi(\\hat{q},q) + \\frac{\\delta}{1-\\delta}\\pi(q^*,q^*)$$\n",
    "\n",
    "Which can be rewritten as:\n",
    "\n",
    "$$\\pi(q,q) \\geq (1-\\delta)\\underset{\\hat{q}}{max} \\pi(\\hat{q},q) + \\delta\\pi(q^*,q^*)$$\n",
    "\n",
    "$\\delta$ is the discount factor and is between 0 and 1, while $\\hat{q}$ is the best response when the other firm chooses $q$ and $q^*$ is the Cournot-Nash equilibrium output."
   ]
  },
  {
   "cell_type": "markdown",
   "metadata": {},
   "source": [
    "## Solving the Collusion Model Using Python"
   ]
  },
  {
   "cell_type": "markdown",
   "metadata": {},
   "source": [
    "We can now calculate the firm profits under collusion. We include the situation where collusion cannot be sustained and thus profits are equal to 0 as we will use this in a graph."
   ]
  },
  {
   "cell_type": "code",
   "execution_count": 143,
   "metadata": {},
   "outputs": [],
   "source": [
    "def collusion_profits(q,b,c,delta):\n",
    "    profits = profit(q,q,c,b)\n",
    "    q1 = optimize.fsolve(reaction_function, intitial_guess, args = ([b,c,c]))\n",
    "    if profits >= (1-delta)*profit(reaction_function(q,c,b),q,c,b)+delta*profit(q1[0],q1[1],c,b):\n",
    "        industry_profits = 2*profits\n",
    "    else:\n",
    "        industry_profits = 0\n",
    "    return industry_profits"
   ]
  },
  {
   "cell_type": "markdown",
   "metadata": {},
   "source": [
    "**Her skal vi tilføje en graf, der viser, hvornår collusion bryder sammen, samt en tabel over mængde, priser og profit under collusion**"
   ]
  }
 ],
 "metadata": {
  "kernelspec": {
   "display_name": "Python 3",
   "language": "python",
   "name": "python3"
  },
  "language_info": {
   "codemirror_mode": {
    "name": "ipython",
    "version": 3
   },
   "file_extension": ".py",
   "mimetype": "text/x-python",
   "name": "python",
   "nbconvert_exporter": "python",
   "pygments_lexer": "ipython3",
   "version": "3.7.0"
  }
 },
 "nbformat": 4,
 "nbformat_minor": 2
}
